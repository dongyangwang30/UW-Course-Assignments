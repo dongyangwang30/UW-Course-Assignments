{
 "cells": [
  {
   "cell_type": "markdown",
   "id": "a32e9fb4",
   "metadata": {},
   "source": [
    "# Stat 535 HW5\n",
    "Dongyang Wang"
   ]
  },
  {
   "cell_type": "code",
   "execution_count": null,
   "id": "4236be2e",
   "metadata": {},
   "outputs": [],
   "source": [
    "import numpy as np\n",
    "import matplotlib.pyplot as plt\n",
    "plt.style.use('seaborn-white')\n",
    "%matplotlib inline"
   ]
  },
  {
   "cell_type": "markdown",
   "id": "d1f09d34",
   "metadata": {},
   "source": [
    "### Problem 1"
   ]
  },
  {
   "cell_type": "markdown",
   "id": "0bc084f0",
   "metadata": {},
   "source": [
    "### Problem 1\n",
    "\n",
    "#### a\n",
    "\n",
    "\n",
    "\n",
    "#### b\n",
    "\n",
    "\n",
    "\n",
    "### Problem 2\n",
    "\n",
    "#### a\n",
    "\n",
    "$\\hat{\\beta} = \\begin{bmatrix} \\hat{\\beta_0} \\\\ \\hat{\\beta_1} \\end{bmatrix} = (X^TX + \\lambda I_n)^{-1}X^TY$\n",
    "\n",
    "\n",
    "#### b\n",
    "\n",
    "\n",
    "\n",
    "#### c\n",
    "\n",
    "\n",
    "\n",
    "### Problem 3\n",
    "\n",
    "#### a\n",
    "\n",
    "In OLS, $\\nabla L_{LS}(\\beta) = \\nabla (Y- \\beta^T X)^2 = -2X^TY + 2 X^TX\\beta$.\n",
    "\n",
    "So, the gradient will take the form\n",
    "$\\nabla L_{LS}(\\beta) = \\nabla E((y- \\beta^T x)^2) = -2E(x^Ty) + 2 E(x^Tx)\\beta$.\n",
    "\n",
    "Also, in OLS, \n",
    "$\\nabla^2 L_{LS}(\\beta) = \\nabla^2 (Y- \\beta^T X)^2 = 2 X^TX = \\frac{2\\hat{\\sigma}^2}{\\hat{Var(\\hat{\\beta })}}$ since $\\hat{Var(\\hat{\\beta})} = (X^TX)^{-1} \\hat{\\sigma}^2$.\n",
    "\n",
    "Thus, the Hessian will take the form $\\nabla^2 L_{LS}(\\beta) = \\nabla^2 E((y- \\beta^T x)^2) = 2 E(x^Tx) = \\frac{2\\hat{\\sigma}^2}{\\hat{Var(\\hat{\\beta})}}$.\n",
    "\n",
    "#### b"
   ]
  },
  {
   "cell_type": "code",
   "execution_count": null,
   "id": "22f38934",
   "metadata": {},
   "outputs": [],
   "source": []
  },
  {
   "cell_type": "code",
   "execution_count": null,
   "id": "398c07be",
   "metadata": {},
   "outputs": [],
   "source": []
  },
  {
   "cell_type": "code",
   "execution_count": null,
   "id": "f5a07903",
   "metadata": {},
   "outputs": [],
   "source": []
  },
  {
   "cell_type": "code",
   "execution_count": null,
   "id": "f7c2221d",
   "metadata": {},
   "outputs": [],
   "source": []
  },
  {
   "cell_type": "code",
   "execution_count": null,
   "id": "d791e452",
   "metadata": {},
   "outputs": [],
   "source": []
  },
  {
   "cell_type": "code",
   "execution_count": null,
   "id": "2f40b95e",
   "metadata": {},
   "outputs": [],
   "source": []
  },
  {
   "cell_type": "code",
   "execution_count": null,
   "id": "7e26d252",
   "metadata": {},
   "outputs": [],
   "source": []
  }
 ],
 "metadata": {
  "kernelspec": {
   "display_name": "Python 3",
   "language": "python",
   "name": "python3"
  },
  "language_info": {
   "codemirror_mode": {
    "name": "ipython",
    "version": 3
   },
   "file_extension": ".py",
   "mimetype": "text/x-python",
   "name": "python",
   "nbconvert_exporter": "python",
   "pygments_lexer": "ipython3",
   "version": "3.8.8"
  }
 },
 "nbformat": 4,
 "nbformat_minor": 5
}
