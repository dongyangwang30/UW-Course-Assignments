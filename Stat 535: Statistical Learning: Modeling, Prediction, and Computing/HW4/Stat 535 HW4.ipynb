{
 "cells": [
  {
   "cell_type": "markdown",
   "id": "1f553765",
   "metadata": {},
   "source": [
    "# Stat 535 HW4\n",
    "Dongyang Wang"
   ]
  },
  {
   "cell_type": "code",
   "execution_count": 58,
   "id": "1ff8568a",
   "metadata": {},
   "outputs": [],
   "source": [
    "import pandas as pd\n",
    "import numpy as np\n",
    "import math\n",
    "import matplotlib.pyplot as plt\n",
    "\n",
    "%matplotlib inline"
   ]
  },
  {
   "cell_type": "markdown",
   "id": "f011baca",
   "metadata": {},
   "source": [
    "### Problem 2\n",
    "\n",
    "#### a\n",
    "From Problem 1, we know $\\frac{d\\hat{L}_{logit}}{dw_i} = -(1 - \\phi(w^Tx))yx_i$ and $\\frac{d\\hat{L}_{logit}}{dx_i} = -(1 - \\phi(w^Tx))yw_i$. From lecture we know the derivative of $\\phi(w^Tx)$ is $(y-\\mu)x_i$ Therefore, taking derivative wrt $w_i$ and $x_i$ respectively, we have $\\frac{d\\hat{L}_{logit}}{dw_i dw_i} = (y-\\mu)x_i^2y$, $\\frac{d\\hat{L}_{logit}}{dw_i dx_i} = \\frac{d\\hat{L}_{logit}}{dx_i dw_i} = -y + \\phi(w^Tx) y + (y-\\mu)x_i w_i$, $\\frac{d\\hat{L}_{logit}}{dx_i dx_i} = (y-\\mu)yw_i^2$. Therefore, the above four quantities comprise the Hessian.\n",
    "\n",
    "#### c\n",
    "Since there is at least one 0 eigenvalue, then for some point x, $f''(x) = 0$ where $f(x) = \\hat{L}_{logit}$. By definition of strongly convexity, f strongly convex if and only if ${\\displaystyle f''(x)\\geq m>0}$ for all $x$. Therefore, the Hessian of $\\hat{L}_{logit}$ is not strongly convex."
   ]
  },
  {
   "cell_type": "markdown",
   "id": "725fa677",
   "metadata": {},
   "source": [
    "### Problem 3\n",
    "\n",
    "#### a\n",
    "\n",
    "$\\hat{\\beta} = \\begin{bmatrix} \\hat{\\beta_0} \\\\ \\hat{\\beta_1} \\end{bmatrix} = (X^TX + \\lambda I_n)^{-1}X^TY$\n",
    "\n",
    "\n",
    "#### b\n",
    "\n"
   ]
  },
  {
   "cell_type": "code",
   "execution_count": 6,
   "id": "c288a2d1",
   "metadata": {},
   "outputs": [],
   "source": [
    "import requests\n",
    "\n",
    "response = requests.get('https://sites.stat.washington.edu/mmp/courses/535/fall22/assignments/hw4-rr.dat')\n",
    "hw4_rr = response.text\n",
    "\n",
    "data_by_line = hw4_rr.split('\\n')\n",
    "data_by_line = data_by_line[:len(data_by_line)-1]\n",
    "\n",
    "for i in range(0,len(data_by_line)):\n",
    "    data_by_line[i] = ' '.join(data_by_line[i].split())\n",
    "    data_by_line[i] = data_by_line[i].split(' ')\n",
    "\n",
    "hw4_rr = [0] * len(data_by_line)\n",
    "    \n",
    "for i in range(len(data_by_line)):\n",
    "    hw4_rr[i] = [float(j) for j in data_by_line[i]]\n",
    "\n",
    "rr_data = pd.DataFrame(hw4_rr, columns =['x', 'f(x)'])"
   ]
  },
  {
   "cell_type": "code",
   "execution_count": 7,
   "id": "1c3286ee",
   "metadata": {},
   "outputs": [
    {
     "data": {
      "text/html": [
       "<div>\n",
       "<style scoped>\n",
       "    .dataframe tbody tr th:only-of-type {\n",
       "        vertical-align: middle;\n",
       "    }\n",
       "\n",
       "    .dataframe tbody tr th {\n",
       "        vertical-align: top;\n",
       "    }\n",
       "\n",
       "    .dataframe thead th {\n",
       "        text-align: right;\n",
       "    }\n",
       "</style>\n",
       "<table border=\"1\" class=\"dataframe\">\n",
       "  <thead>\n",
       "    <tr style=\"text-align: right;\">\n",
       "      <th></th>\n",
       "      <th>x</th>\n",
       "      <th>f(x)</th>\n",
       "    </tr>\n",
       "  </thead>\n",
       "  <tbody>\n",
       "    <tr>\n",
       "      <th>0</th>\n",
       "      <td>0.274982</td>\n",
       "      <td>1.282543</td>\n",
       "    </tr>\n",
       "    <tr>\n",
       "      <th>1</th>\n",
       "      <td>0.551380</td>\n",
       "      <td>1.581783</td>\n",
       "    </tr>\n",
       "    <tr>\n",
       "      <th>2</th>\n",
       "      <td>0.108140</td>\n",
       "      <td>1.109309</td>\n",
       "    </tr>\n",
       "    <tr>\n",
       "      <th>3</th>\n",
       "      <td>0.624868</td>\n",
       "      <td>1.663914</td>\n",
       "    </tr>\n",
       "    <tr>\n",
       "      <th>4</th>\n",
       "      <td>0.579155</td>\n",
       "      <td>1.612697</td>\n",
       "    </tr>\n",
       "    <tr>\n",
       "      <th>...</th>\n",
       "      <td>...</td>\n",
       "      <td>...</td>\n",
       "    </tr>\n",
       "    <tr>\n",
       "      <th>95</th>\n",
       "      <td>0.432440</td>\n",
       "      <td>1.451140</td>\n",
       "    </tr>\n",
       "    <tr>\n",
       "      <th>96</th>\n",
       "      <td>0.610666</td>\n",
       "      <td>1.647957</td>\n",
       "    </tr>\n",
       "    <tr>\n",
       "      <th>97</th>\n",
       "      <td>0.078436</td>\n",
       "      <td>1.079051</td>\n",
       "    </tr>\n",
       "    <tr>\n",
       "      <th>98</th>\n",
       "      <td>0.289446</td>\n",
       "      <td>1.297824</td>\n",
       "    </tr>\n",
       "    <tr>\n",
       "      <th>99</th>\n",
       "      <td>0.687024</td>\n",
       "      <td>1.734224</td>\n",
       "    </tr>\n",
       "  </tbody>\n",
       "</table>\n",
       "<p>100 rows × 2 columns</p>\n",
       "</div>"
      ],
      "text/plain": [
       "           x      f(x)\n",
       "0   0.274982  1.282543\n",
       "1   0.551380  1.581783\n",
       "2   0.108140  1.109309\n",
       "3   0.624868  1.663914\n",
       "4   0.579155  1.612697\n",
       "..       ...       ...\n",
       "95  0.432440  1.451140\n",
       "96  0.610666  1.647957\n",
       "97  0.078436  1.079051\n",
       "98  0.289446  1.297824\n",
       "99  0.687024  1.734224\n",
       "\n",
       "[100 rows x 2 columns]"
      ]
     },
     "execution_count": 7,
     "metadata": {},
     "output_type": "execute_result"
    }
   ],
   "source": [
    "rr_data"
   ]
  },
  {
   "cell_type": "code",
   "execution_count": 8,
   "id": "9133fe40",
   "metadata": {},
   "outputs": [],
   "source": [
    "X = []\n",
    "Y = []\n",
    "for i in range(len(rr_data)):\n",
    "    temp = [1,rr_data['x'][i]]\n",
    "    X.append(temp)\n",
    "    Y.append( [rr_data['f(x)'][i]] )\n",
    "X = np.matrix(X)\n",
    "Y = np.matrix(Y)"
   ]
  },
  {
   "cell_type": "code",
   "execution_count": 9,
   "id": "563570e0",
   "metadata": {},
   "outputs": [],
   "source": [
    "def beta(lmd, X, Y):\n",
    "    XT = X.transpose()\n",
    "    XTX = np.matmul(XT, X)\n",
    "    identity = np.identity(2) * lmd\n",
    "    inv = np.linalg.inv(XTX + identity)\n",
    "    res1 = np.matmul(inv, XT)\n",
    "    return np.matmul(res1, Y).transpose()\n",
    "\n",
    "def calculate_L(lmd, X, Y):\n",
    "    b = beta(lmd, X, Y)\n",
    "    bT = b.transpose()\n",
    "    XbT = np.matmul(X,bT)\n",
    "    res = np.subtract(Y, XbT)\n",
    "    res = np.square(res)\n",
    "    return res.sum()\n",
    "        \n",
    "def calculate_J(lmd, X, Y):\n",
    "    b = beta(lmd, X, Y)\n",
    "    L = calculate_L(lmd, X, Y)\n",
    "    extra = lmd * math.sqrt((b[0,1])**2 + (b[0,0])**2)\n",
    "    return L + extra\n",
    "\n",
    "def ridge_result(lmd, X, Y):\n",
    "    b0 = beta(lmd, X, Y)[0,0]\n",
    "    b1 = beta(lmd, X, Y)[0,1]\n",
    "    L = calculate_L(lmd, X, Y)\n",
    "    J = calculate_J(lmd, X, Y)\n",
    "    res = [lmd, b0, b1, L, J]\n",
    "    return res"
   ]
  },
  {
   "cell_type": "code",
   "execution_count": 10,
   "id": "b3bc4b29",
   "metadata": {},
   "outputs": [],
   "source": [
    "lmds = list(np.arange(0,len(rr_data)+1,0.1))\n",
    "\n",
    "results = []\n",
    "for lmd in lmds:\n",
    "    res = ridge_result(lmd, X, Y)\n",
    "    results.append(res)\n",
    "\n",
    "results = pd.DataFrame(results, columns =['lmd', 'b0', 'b1', 'L', 'J'])"
   ]
  },
  {
   "cell_type": "code",
   "execution_count": 11,
   "id": "9d3db6ca",
   "metadata": {},
   "outputs": [
    {
     "data": {
      "image/png": "[encoded data removed]",
      "text/plain": [
       "<Figure size 640x480 with 1 Axes>"
      ]
     },
     "metadata": {},
     "output_type": "display_data"
    }
   ],
   "source": [
    "plt.plot(results['lmd'],results['b0'], label = \"b0\")\n",
    "plt.plot(results['lmd'],results['b1'], label = \"b1\")\n",
    "\n",
    "plt.title(\"Betas vs Lambda Values\")\n",
    "plt.xlabel(\"Lambda Values\")\n",
    "plt.legend()\n",
    "plt.show()"
   ]
  },
  {
   "cell_type": "markdown",
   "id": "d7fc6923",
   "metadata": {},
   "source": [
    "#### c\n",
    "\n",
    "As shown in the following graph, we can observe that the beta values tend to get smaller and smaller as lambda increases except in the first several cases. The losses are getting largers as lambda gets larger. This reveals that OLS (lambda = 0) has the best accuracy on the training set of data. A larger lambda is assocaited with more bias but less variance."
   ]
  },
  {
   "cell_type": "code",
   "execution_count": 12,
   "id": "f24cc58a",
   "metadata": {},
   "outputs": [
    {
     "data": {
      "image/png": "[encoded data removed]",
      "text/plain": [
       "<Figure size 640x480 with 2 Axes>"
      ]
     },
     "metadata": {},
     "output_type": "display_data"
    }
   ],
   "source": [
    "fig, ax1 = plt.subplots()\n",
    "ax1.set_xlabel('Lambda Values')\n",
    "ax1.set_ylabel('Beta Values')\n",
    "ax1.plot(results['lmd'],results['b0'], label = \"b0\")\n",
    "ax1.plot(results['lmd'],results['b1'], label = \"b1\")\n",
    "\n",
    "ax2 = ax1.twinx()\n",
    "\n",
    "ax2.set_ylabel('Losses')\n",
    "ax2.plot(results['lmd'],results['L'], label = \"L\", color = 'red')\n",
    "ax2.plot(results['lmd'],results['J'], label = \"J\", color = 'blue')\n",
    "\n",
    "plt.title(\"Betas & Losses vs Lambda Values\")\n",
    "ax1.legend()\n",
    "ax2.legend()\n",
    "plt.show()"
   ]
  },
  {
   "cell_type": "markdown",
   "id": "9897062d",
   "metadata": {},
   "source": [
    "### Problem 4\n",
    "\n",
    "#### a"
   ]
  },
  {
   "cell_type": "code",
   "execution_count": 59,
   "id": "9eb183b5",
   "metadata": {},
   "outputs": [],
   "source": [
    "import requests\n",
    "\n",
    "response = requests.get('https://sites.stat.washington.edu/mmp/courses/535/fall22/assignments/hw4-nn-train-100.dat')\n",
    "hw4_nn = response.text\n",
    "\n",
    "data_by_line = hw4_nn.split('\\n')\n",
    "data_by_line = data_by_line[:len(data_by_line)-1]\n",
    "\n",
    "for i in range(0,len(data_by_line)):\n",
    "    data_by_line[i] = ' '.join(data_by_line[i].split())\n",
    "    data_by_line[i] = data_by_line[i].split(' ')\n",
    "\n",
    "hw4_nn = [0] * len(data_by_line)\n",
    "    \n",
    "for i in range(len(data_by_line)):\n",
    "    hw4_nn[i] = [float(j) for j in data_by_line[i]]\n",
    "\n",
    "nn_train = pd.DataFrame(hw4_nn, columns =['x1', 'x2', 'y'])"
   ]
  },
  {
   "cell_type": "code",
   "execution_count": 60,
   "id": "94f78720",
   "metadata": {},
   "outputs": [],
   "source": [
    "import requests\n",
    "\n",
    "response = requests.get('https://sites.stat.washington.edu/mmp/courses/535/fall22/assignments/hw4-nn-test.dat')\n",
    "hw4_nn = response.text\n",
    "\n",
    "data_by_line = hw4_nn.split('\\n')\n",
    "data_by_line = data_by_line[:len(data_by_line)-1]\n",
    "\n",
    "for i in range(0,len(data_by_line)):\n",
    "    data_by_line[i] = ' '.join(data_by_line[i].split())\n",
    "    data_by_line[i] = data_by_line[i].split(' ')\n",
    "\n",
    "hw4_nn = [0] * len(data_by_line)\n",
    "    \n",
    "for i in range(len(data_by_line)):\n",
    "    hw4_nn[i] = [float(j) for j in data_by_line[i]]\n",
    "\n",
    "nn_test = pd.DataFrame(hw4_nn, columns =['x1', 'x2', 'y'])"
   ]
  },
  {
   "cell_type": "code",
   "execution_count": 61,
   "id": "2dcc4e12",
   "metadata": {},
   "outputs": [
    {
     "data": {
      "text/html": [
       "<div>\n",
       "<style scoped>\n",
       "    .dataframe tbody tr th:only-of-type {\n",
       "        vertical-align: middle;\n",
       "    }\n",
       "\n",
       "    .dataframe tbody tr th {\n",
       "        vertical-align: top;\n",
       "    }\n",
       "\n",
       "    .dataframe thead th {\n",
       "        text-align: right;\n",
       "    }\n",
       "</style>\n",
       "<table border=\"1\" class=\"dataframe\">\n",
       "  <thead>\n",
       "    <tr style=\"text-align: right;\">\n",
       "      <th></th>\n",
       "      <th>x1</th>\n",
       "      <th>x2</th>\n",
       "      <th>y</th>\n",
       "    </tr>\n",
       "  </thead>\n",
       "  <tbody>\n",
       "    <tr>\n",
       "      <th>0</th>\n",
       "      <td>0.436</td>\n",
       "      <td>0.540</td>\n",
       "      <td>-1.0</td>\n",
       "    </tr>\n",
       "    <tr>\n",
       "      <th>1</th>\n",
       "      <td>0.114</td>\n",
       "      <td>0.075</td>\n",
       "      <td>1.0</td>\n",
       "    </tr>\n",
       "    <tr>\n",
       "      <th>2</th>\n",
       "      <td>0.496</td>\n",
       "      <td>0.354</td>\n",
       "      <td>-1.0</td>\n",
       "    </tr>\n",
       "    <tr>\n",
       "      <th>3</th>\n",
       "      <td>0.834</td>\n",
       "      <td>0.397</td>\n",
       "      <td>-1.0</td>\n",
       "    </tr>\n",
       "    <tr>\n",
       "      <th>4</th>\n",
       "      <td>0.231</td>\n",
       "      <td>0.168</td>\n",
       "      <td>1.0</td>\n",
       "    </tr>\n",
       "    <tr>\n",
       "      <th>...</th>\n",
       "      <td>...</td>\n",
       "      <td>...</td>\n",
       "      <td>...</td>\n",
       "    </tr>\n",
       "    <tr>\n",
       "      <th>95</th>\n",
       "      <td>0.398</td>\n",
       "      <td>0.621</td>\n",
       "      <td>-1.0</td>\n",
       "    </tr>\n",
       "    <tr>\n",
       "      <th>96</th>\n",
       "      <td>0.578</td>\n",
       "      <td>0.917</td>\n",
       "      <td>1.0</td>\n",
       "    </tr>\n",
       "    <tr>\n",
       "      <th>97</th>\n",
       "      <td>0.793</td>\n",
       "      <td>0.909</td>\n",
       "      <td>1.0</td>\n",
       "    </tr>\n",
       "    <tr>\n",
       "      <th>98</th>\n",
       "      <td>0.002</td>\n",
       "      <td>0.404</td>\n",
       "      <td>1.0</td>\n",
       "    </tr>\n",
       "    <tr>\n",
       "      <th>99</th>\n",
       "      <td>0.843</td>\n",
       "      <td>0.093</td>\n",
       "      <td>1.0</td>\n",
       "    </tr>\n",
       "  </tbody>\n",
       "</table>\n",
       "<p>100 rows × 3 columns</p>\n",
       "</div>"
      ],
      "text/plain": [
       "       x1     x2    y\n",
       "0   0.436  0.540 -1.0\n",
       "1   0.114  0.075  1.0\n",
       "2   0.496  0.354 -1.0\n",
       "3   0.834  0.397 -1.0\n",
       "4   0.231  0.168  1.0\n",
       "..    ...    ...  ...\n",
       "95  0.398  0.621 -1.0\n",
       "96  0.578  0.917  1.0\n",
       "97  0.793  0.909  1.0\n",
       "98  0.002  0.404  1.0\n",
       "99  0.843  0.093  1.0\n",
       "\n",
       "[100 rows x 3 columns]"
      ]
     },
     "execution_count": 61,
     "metadata": {},
     "output_type": "execute_result"
    }
   ],
   "source": [
    "nn_train"
   ]
  },
  {
   "cell_type": "code",
   "execution_count": 62,
   "id": "f60cbcfc",
   "metadata": {},
   "outputs": [
    {
     "data": {
      "image/png": "[encoded data removed]",
      "text/plain": [
       "<Figure size 640x480 with 1 Axes>"
      ]
     },
     "metadata": {},
     "output_type": "display_data"
    }
   ],
   "source": [
    "plt.scatter(nn_train['x1'], nn_train['x2'], c = nn_train['y'])\n",
    "\n",
    "plt.title(\"Neural Network by Class (Yellow for Positive)\")\n",
    "plt.show()"
   ]
  },
  {
   "cell_type": "markdown",
   "id": "20ff7049",
   "metadata": {},
   "source": [
    "### b\n",
    "\n",
    "No, it is impossible to do that because the decision boundary is irregular and we need way more than 2 units to perfectly seperate the +1 and -1 cases. So we will need more than 2 units in the layer to get perfect classification where $\\hat{L}_{01} = 0$.\n",
    "\n",
    "### c\n",
    "\n",
    "I have chosen the initial points from a uniform distribution with a small interval, namely [-0.5,0.5]. This way, I randomly generate my initial points and not to get too extreme values for the sigmoid functions.\n",
    "\n",
    "Note that I have ignored the tolerance becuase the change in the beta and w values are very small."
   ]
  },
  {
   "cell_type": "code",
   "execution_count": 73,
   "id": "3a4399d7",
   "metadata": {},
   "outputs": [],
   "source": [
    "X = []\n",
    "Y = []\n",
    "#if nn_train['y'][i] == 1:\n",
    "#        Y.append([nn_train['y'][i]])\n",
    "#    else:\n",
    "#        Y.append([0])\n",
    "for i in range(len(nn_train)):\n",
    "    Y.append([nn_train['y'][i]])\n",
    "    X.append([1, nn_train['x1'][i], nn_train['x2'][i]])\n",
    "\n",
    "Y = np.matrix(Y)\n",
    "X = np.matrix(X)\n",
    "\n",
    "X_test = []\n",
    "Y_test = []\n",
    "for i in range(len(nn_test)):\n",
    "    Y_test.append([nn_test['y'][i]])\n",
    "    X_test.append([1, nn_test['x1'][i], nn_test['x2'][i]])\n",
    "Y_test = np.matrix(Y_test)\n",
    "X_test = np.matrix(X_test)"
   ]
  },
  {
   "cell_type": "code",
   "execution_count": 133,
   "id": "1a78fb8f",
   "metadata": {},
   "outputs": [],
   "source": [
    "def get_gradient_beta(y, yhat):\n",
    "    sub = np.subtract(y, yhat)\n",
    "    return sub.mean()\n",
    "\n",
    "def get_gradient_w(y, yhat, x):\n",
    "    y_yhat = np.subtract(y, yhat)\n",
    "    res = np.matmul(y_yhat, x)\n",
    "    return res.mean()\n",
    "\n",
    "def prediction(b, w, x, b0):\n",
    "    xt = x.transpose()\n",
    "    wxt = np.matmul(w, xt)\n",
    "    z = 1/(1+np.exp(wxt))\n",
    "    bt = b.transpose()\n",
    "    val = np.matmul(bt, z)[0,0]+b0\n",
    "    return  1/(1+np.exp(val))\n",
    "\n",
    "#def get_logit(y, w, x):\n",
    "#    exponent = -1 * y[0,0] * prediction(b, w, x, b0)\n",
    "#    return np.log(1 + np.exp(exponent))\n",
    "\n",
    "def get_logit_one_w(y, wi, x):\n",
    "    xt = x.transpose()\n",
    "    wxt = np.matmul(wi, xt)[0,0]\n",
    "    exponent = -1*(y[0,0]*wxt)\n",
    "    return np.log(1 + np.exp(exponent))\n",
    "\n",
    "def get_logit(y, w, x):\n",
    "    logit = 0\n",
    "    for wi in w:\n",
    "        logit += abs(get_logit_one_w(y, wi, x))\n",
    "    return logit"
   ]
  },
  {
   "cell_type": "code",
   "execution_count": 188,
   "id": "de0f7aea",
   "metadata": {},
   "outputs": [],
   "source": [
    "def gradient_descent_one(b, w, X, b0, Y):\n",
    "    \n",
    "    gradient_sum_b = 0\n",
    "    gradient_sum_w = 0\n",
    "    \n",
    "    logit = 0\n",
    "    b_s = []\n",
    "    w_s = []\n",
    "    \n",
    "    for i in range(len(X)):\n",
    "        x = X[i]\n",
    "        y = Y[i]\n",
    "        \n",
    "        yhat = np.matrix(prediction(b, w, x, b0))\n",
    "        gradient_b = get_gradient_beta(y, yhat)\n",
    "        gradient_w = get_gradient_w(y, yhat, x)\n",
    "        \n",
    "        gradient_sum_b += gradient_b\n",
    "        gradient_sum_w += gradient_w\n",
    "        \n",
    "        logit += get_logit(y, w, x)\n",
    "        \n",
    "    gradient_sum_b = gradient_sum_b/len(X)\n",
    "    gradient_sum_w = gradient_sum_w/len(X)\n",
    "    \n",
    "    return [logit/100, gradient_sum_b/len(X), gradient_sum_w/len(X)]\n",
    "\n",
    "def gradient_descent(b, w, X, b0, Y, iter = 100, rate = 0.00001 ):\n",
    "    \n",
    "    previous_logit = None\n",
    "    current_logit = 0\n",
    "    w_cur = w\n",
    "    b_cur = b    \n",
    "    \n",
    "    b_s = []\n",
    "    w_s = []\n",
    "    \n",
    "    i = 1\n",
    "    while i < iter:\n",
    "        \n",
    "        b_s.append(b_cur)\n",
    "        w_s.append(w_cur)\n",
    "        \n",
    "        #print(current_logit)\n",
    "        \n",
    "        res = gradient_descent_one(b_cur, w_cur, X, b0, Y)\n",
    "        current_logit = res[0]\n",
    "        \n",
    "        #if previous_logit and 1- current_logit/previous_logit <= tol:\n",
    "        #    break\n",
    "        \n",
    "        previous_logit = current_logit\n",
    "        #print(current_logit/previous_logit)\n",
    "        \n",
    "        b_cur = b_cur - rate*res[1]\n",
    "        w_cur = w_cur - rate*res[2]\n",
    "        \n",
    "        i += 1\n",
    "    \n",
    "    return [current_logit, b_cur, w_cur]"
   ]
  },
  {
   "cell_type": "code",
   "execution_count": 189,
   "id": "1f9a90f3",
   "metadata": {},
   "outputs": [],
   "source": [
    "m = 10\n",
    "tol = 10**(-4)\n",
    "b0 = -0.1\n",
    "np.random.seed(42)\n",
    "w = np.matrix(np.random.uniform(-0.5,0.5,30)).reshape([10,3])\n",
    "b = np.matrix(np.random.uniform(-0.5,0.5,10)).reshape([10,1])"
   ]
  },
  {
   "cell_type": "code",
   "execution_count": 190,
   "id": "799cb76a",
   "metadata": {},
   "outputs": [],
   "source": [
    "res = gradient_descent(b, w, X, b0, Y, iter = 10000)"
   ]
  },
  {
   "cell_type": "markdown",
   "id": "97bf153b",
   "metadata": {},
   "source": [
    "### d\n",
    "\n",
    "The implementation details are as follows:\n",
    "\n",
    "I selected m = 10 hidden units so the model is easier to train. I chose the learning rate to be 0.00001 so the change can be small enough such that I can update by a minimal amount so not to miss any possible optimum in the course of the descent. The number of iteration is 10000, so it's not large enough to waste too much time and not too small that we might miss an optimum. The algorithm now does not converge. \n",
    "\n",
    "The final value of loss function $\\hat{L}_{Logit}$ is 7.1228216353302605.\n",
    "\n",
    "The final value of loss function $\\hat{L}_{01}$ is 0.51\n",
    "\n",
    "The time the algorithm takes is 30 seconds. (for 10000 iterations)"
   ]
  },
  {
   "cell_type": "code",
   "execution_count": 191,
   "id": "c7b3028e",
   "metadata": {},
   "outputs": [
    {
     "data": {
      "text/plain": [
       "[7.1228216353302605,\n",
       " matrix([[ 0.10796295],\n",
       "         [-0.32905778],\n",
       "         [-0.43453031],\n",
       "         [ 0.44930363],\n",
       "         [ 0.46605013],\n",
       "         [ 0.30881544],\n",
       "         [-0.19496814],\n",
       "         [-0.40190979],\n",
       "         [ 0.18465112],\n",
       "         [-0.05942941]]),\n",
       " matrix([[-0.12518387,  0.45099032,  0.23226996],\n",
       "         [ 0.0989345 , -0.34370534, -0.34372946],\n",
       "         [-0.44164037,  0.36645216,  0.10139103],\n",
       "         [ 0.20834859, -0.47913949,  0.47018587],\n",
       "         [ 0.33271866, -0.28738487, -0.31789902],\n",
       "         [-0.31631948, -0.19548174,  0.02503245],\n",
       "         [-0.06777897, -0.20849485,  0.11212891],\n",
       "         [-0.36023012, -0.20757934, -0.13336214],\n",
       "         [-0.043654  ,  0.28545198, -0.3000502 ],\n",
       "         [ 0.01451045,  0.09269058, -0.45327357]])]"
      ]
     },
     "execution_count": 191,
     "metadata": {},
     "output_type": "execute_result"
    }
   ],
   "source": [
    "res"
   ]
  },
  {
   "cell_type": "code",
   "execution_count": 192,
   "id": "09777575",
   "metadata": {},
   "outputs": [],
   "source": [
    "train_pred = []\n",
    "for i in X:\n",
    "    train_pred.append(prediction(res[1], res[2], i, b0))\n",
    "num = Y[Y>0].shape[1]\n",
    "thres = sorted(train_pred)[num-1]\n",
    "for i in range(len(train_pred)):\n",
    "    if train_pred[i] >= thres:\n",
    "        train_pred[i]= 1\n",
    "    else:\n",
    "        train_pred[i] = -1"
   ]
  },
  {
   "cell_type": "code",
   "execution_count": 193,
   "id": "abe78b94",
   "metadata": {},
   "outputs": [
    {
     "data": {
      "text/plain": [
       "0.51"
      ]
     },
     "execution_count": 193,
     "metadata": {},
     "output_type": "execute_result"
    }
   ],
   "source": [
    "sum(nn_train['y'] != train_pred)/100"
   ]
  },
  {
   "cell_type": "markdown",
   "id": "d345963e",
   "metadata": {},
   "source": [
    "### e\n",
    "\n",
    "The final value of loss function $\\hat{L}_{Logit}$ is 6.388056543249376.\n",
    "\n",
    "The final value of loss function $\\hat{L}_{01}$ is 0.493.\n",
    "\n",
    "I know this model is a failure but I tried."
   ]
  },
  {
   "cell_type": "code",
   "execution_count": 178,
   "id": "fe8f9f7a",
   "metadata": {},
   "outputs": [],
   "source": [
    "test_pred = []\n",
    "for i in X_test:\n",
    "    test_pred.append(prediction(res[1], res[2], i, b0))\n",
    "num = Y_test[Y_test>0].shape[1]\n",
    "thres = sorted(test_pred)[num-1]\n",
    "for i in range(len(test_pred)):\n",
    "    if test_pred[i] >= thres:\n",
    "        test_pred[i]= 1\n",
    "    else:\n",
    "        test_pred[i] = -1"
   ]
  },
  {
   "cell_type": "code",
   "execution_count": 184,
   "id": "ed5f5792",
   "metadata": {},
   "outputs": [
    {
     "data": {
      "text/plain": [
       "0.493"
      ]
     },
     "execution_count": 184,
     "metadata": {},
     "output_type": "execute_result"
    }
   ],
   "source": [
    "sum(nn_test['y'] != test_pred)/1000"
   ]
  },
  {
   "cell_type": "code",
   "execution_count": 186,
   "id": "44e50c88",
   "metadata": {},
   "outputs": [
    {
     "data": {
      "text/plain": [
       "6.388056543249376"
      ]
     },
     "execution_count": 186,
     "metadata": {},
     "output_type": "execute_result"
    }
   ],
   "source": [
    "get_logit(Y_test, res[2], X_test)"
   ]
  },
  {
   "cell_type": "markdown",
   "id": "f0e99f6b",
   "metadata": {},
   "source": [
    "### f"
   ]
  },
  {
   "cell_type": "code",
   "execution_count": 217,
   "id": "d649c9b9",
   "metadata": {},
   "outputs": [],
   "source": [
    "#iterations = np.linspace(0,5000,11)\n",
    "#for i in iterations:\n",
    "#    res = gradient_descent(b, w, X, b0, Y, iter = i)\n",
    "#    ress.append(res)"
   ]
  },
  {
   "cell_type": "code",
   "execution_count": 213,
   "id": "32e5f1bc",
   "metadata": {},
   "outputs": [],
   "source": [
    "k = [100, 500, 1000, 5000, 10000]"
   ]
  },
  {
   "cell_type": "code",
   "execution_count": 208,
   "id": "422a2511",
   "metadata": {},
   "outputs": [],
   "source": [
    "def get_train(X, Y, res):\n",
    "    train_pred = []\n",
    "    for i in X:\n",
    "        train_pred.append(prediction(res[1], res[2], i, b0))\n",
    "    num = Y[Y>0].shape[1]\n",
    "    thres = sorted(train_pred)[num-1]\n",
    "    for i in range(len(train_pred)):\n",
    "        if train_pred[i] >= thres:\n",
    "            train_pred[i]= 1\n",
    "        else:\n",
    "            train_pred[i] = -1\n",
    "    return train_pred"
   ]
  },
  {
   "cell_type": "code",
   "execution_count": 207,
   "id": "e6888007",
   "metadata": {},
   "outputs": [],
   "source": [
    "res1 = gradient_descent(b, w, X, b0, Y, iter = 100)\n",
    "res2 = gradient_descent(b, w, X, b0, Y, iter = 500)\n",
    "res3 = gradient_descent(b, w, X, b0, Y, iter = 1000)\n",
    "res4 = gradient_descent(b, w, X, b0, Y, iter = 5000)\n",
    "res5 = gradient_descent(b, w, X, b0, Y, iter = 10000)"
   ]
  },
  {
   "cell_type": "code",
   "execution_count": 211,
   "id": "38169aa0",
   "metadata": {},
   "outputs": [],
   "source": [
    "pred1 = get_train(X, Y, res1)\n",
    "pred2 = get_train(X, Y, res2)\n",
    "pred3 = get_train(X, Y, res3)\n",
    "pred4 = get_train(X, Y, res4)\n",
    "pred5 = get_train(X, Y, res5)\n",
    "\n",
    "pred11 = get_train(X_test, Y_test, res1)\n",
    "pred22 = get_train(X_test, Y_test, res2)\n",
    "pred33 = get_train(X_test, Y_test, res3)\n",
    "pred44 = get_train(X_test, Y_test, res4)\n",
    "pred55 = get_train(X_test, Y_test, res5)"
   ]
  },
  {
   "cell_type": "code",
   "execution_count": 215,
   "id": "5749aaf7",
   "metadata": {},
   "outputs": [],
   "source": [
    "llogit = [res1[0], res2[0],res3[0],res4[0],res5[0]]\n",
    "l01 = [sum(nn_train['y'] != pred1)/100, sum(nn_train['y'] != pred2)/100, \n",
    "          sum(nn_train['y'] != pred3)/100, sum(nn_train['y'] != pred4)/100,\n",
    "          sum(nn_train['y'] != pred5)/100]\n",
    "\n",
    "llogit_test = [get_logit(Y_test, res1[2], X_test), get_logit(Y_test, res2[2], X_test),\n",
    "      get_logit(Y_test, res3[2], X_test),get_logit(Y_test, res4[2], X_test),\n",
    "      get_logit(Y_test, res5[2], X_test)]\n",
    "\n",
    "l01_test= [sum(nn_test['y'] != pred11)/1000, sum(nn_test['y'] != pred22)/1000, \n",
    "          sum(nn_test['y'] != pred33)/1000, sum(nn_test['y'] != pred44)/1000,\n",
    "          sum(nn_test['y'] != pred55)/1000]"
   ]
  },
  {
   "cell_type": "code",
   "execution_count": 216,
   "id": "969a202e",
   "metadata": {},
   "outputs": [
    {
     "data": {
      "image/png": "[encoded data removed]",
      "text/plain": [
       "<Figure size 640x480 with 1 Axes>"
      ]
     },
     "metadata": {},
     "output_type": "display_data"
    }
   ],
   "source": [
    "plt.plot(k, llogit, label = \"llogit\")\n",
    "plt.plot(k, l01, label = \"l01\")\n",
    "plt.plot(k, llogit_test, label = \"llogit_test\")\n",
    "plt.plot(k, l01_test, label = \"l01_test\")\n",
    "\n",
    "plt.title(\"Losses vs Iteration\")\n",
    "plt.xlabel(\"Iterations\")\n",
    "plt.legend()\n",
    "plt.show()"
   ]
  },
  {
   "cell_type": "markdown",
   "id": "2c19c7c5",
   "metadata": {},
   "source": [
    "### g"
   ]
  },
  {
   "cell_type": "code",
   "execution_count": null,
   "id": "f124e4a5",
   "metadata": {},
   "outputs": [],
   "source": []
  }
 ],
 "metadata": {
  "kernelspec": {
   "display_name": "Python 3",
   "language": "python",
   "name": "python3"
  },
  "language_info": {
   "codemirror_mode": {
    "name": "ipython",
    "version": 3
   },
   "file_extension": ".py",
   "mimetype": "text/x-python",
   "name": "python",
   "nbconvert_exporter": "python",
   "pygments_lexer": "ipython3",
   "version": "3.8.8"
  }
 },
 "nbformat": 4,
 "nbformat_minor": 5
}
