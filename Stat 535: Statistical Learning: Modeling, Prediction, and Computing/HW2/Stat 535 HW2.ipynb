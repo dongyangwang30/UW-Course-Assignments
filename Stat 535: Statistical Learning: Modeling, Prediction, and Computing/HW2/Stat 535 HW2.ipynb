{
 "cells": [
  {
   "cell_type": "markdown",
   "id": "a6eebc78",
   "metadata": {
    "id": "a6eebc78"
   },
   "source": [
    "# Stat 535 HW2\n",
    "Dongyang Wang"
   ]
  },
  {
   "cell_type": "code",
   "execution_count": 2,
   "id": "3220d4d1",
   "metadata": {
    "executionInfo": {
     "elapsed": 285,
     "status": "ok",
     "timestamp": 1666733157697,
     "user": {
      "displayName": "Dongyang Wang",
      "userId": "16766972527166923313"
     },
     "user_tz": 420
    },
    "id": "3220d4d1"
   },
   "outputs": [],
   "source": [
    "import pandas as pd\n",
    "import numpy as np\n",
    "import math\n",
    "import random\n",
    "from scipy.stats import multivariate_normal\n",
    "import matplotlib.pyplot as plt\n",
    "\n",
    "%matplotlib inline"
   ]
  },
  {
   "cell_type": "markdown",
   "id": "376ad236",
   "metadata": {
    "id": "376ad236"
   },
   "source": [
    "## Problem 1\n"
   ]
  },
  {
   "cell_type": "markdown",
   "id": "5b302d12",
   "metadata": {
    "id": "5b302d12"
   },
   "source": [
    "Part A: Generate Simulation Data"
   ]
  },
  {
   "cell_type": "code",
   "execution_count": 3,
   "id": "9672e879",
   "metadata": {
    "executionInfo": {
     "elapsed": 3,
     "status": "ok",
     "timestamp": 1666733157698,
     "user": {
      "displayName": "Dongyang Wang",
      "userId": "16766972527166923313"
     },
     "user_tz": 420
    },
    "id": "9672e879"
   },
   "outputs": [],
   "source": [
    "random.seed(42)"
   ]
  },
  {
   "cell_type": "code",
   "execution_count": 23,
   "id": "fd08397c",
   "metadata": {
    "colab": {
     "base_uri": "https://localhost:8080/"
    },
    "executionInfo": {
     "elapsed": 7,
     "status": "ok",
     "timestamp": 1666733158071,
     "user": {
      "displayName": "Dongyang Wang",
      "userId": "16766972527166923313"
     },
     "user_tz": 420
    },
    "id": "fd08397c",
    "outputId": "6fb5e6cc-478b-40b3-e8fc-e67790adbc5a"
   },
   "outputs": [
    {
     "data": {
      "text/plain": [
       "[1, 3, 7, 11, 15, 19, 23, 27, 31, 35, 39, 40]"
      ]
     },
     "execution_count": 23,
     "metadata": {},
     "output_type": "execute_result"
    }
   ],
   "source": [
    "K = list(np.arange(3,40,4))\n",
    "K = [1] + K + [40]\n",
    "n_test = 10000\n",
    "n_train = 500\n",
    "B = 30\n",
    "K"
   ]
  },
  {
   "cell_type": "code",
   "execution_count": 5,
   "id": "40aaaaf6",
   "metadata": {
    "executionInfo": {
     "elapsed": 5,
     "status": "ok",
     "timestamp": 1666733158071,
     "user": {
      "displayName": "Dongyang Wang",
      "userId": "16766972527166923313"
     },
     "user_tz": 420
    },
    "id": "40aaaaf6"
   },
   "outputs": [],
   "source": [
    "p_binomial = 0.7\n",
    "mean_normal_pos = [1.6, 0]\n",
    "mean_normal_neg = [-1.6, 0]\n",
    "normal_cov = [[1,0],[0,1]]"
   ]
  },
  {
   "cell_type": "code",
   "execution_count": 6,
   "id": "ef09fa76",
   "metadata": {
    "executionInfo": {
     "elapsed": 5,
     "status": "ok",
     "timestamp": 1666733158072,
     "user": {
      "displayName": "Dongyang Wang",
      "userId": "16766972527166923313"
     },
     "user_tz": 420
    },
    "id": "ef09fa76"
   },
   "outputs": [],
   "source": [
    "def gen_sim_data(sample = n_train):\n",
    "    \n",
    "    y = list(np.random.binomial(n = 1, p = 0.7, size = sample))\n",
    "    for i in range(len(y)):\n",
    "        if y[i] == 0:\n",
    "            y[i] = -1\n",
    "    x = []\n",
    "    for i in range(sample):\n",
    "        if y[i] == 1:\n",
    "            x.append(list(np.random.multivariate_normal(mean = mean_normal_pos, cov = normal_cov)))\n",
    "        else:\n",
    "            x.append(list(np.random.multivariate_normal(mean = mean_normal_neg, cov = normal_cov)))\n",
    "        x[i].append(y[i])\n",
    "    return x"
   ]
  },
  {
   "cell_type": "code",
   "execution_count": 24,
   "id": "4c81313e",
   "metadata": {
    "executionInfo": {
     "elapsed": 5,
     "status": "ok",
     "timestamp": 1666733158072,
     "user": {
      "displayName": "Dongyang Wang",
      "userId": "16766972527166923313"
     },
     "user_tz": 420
    },
    "id": "4c81313e"
   },
   "outputs": [],
   "source": [
    "test_set = gen_sim_data(n_test)"
   ]
  },
  {
   "cell_type": "markdown",
   "id": "94bb27f3",
   "metadata": {
    "id": "94bb27f3"
   },
   "source": [
    "The following functions calculate the Euclidean distance, obtain nearest neighbors, classify based on nearest neighbors, identify predictions on test data given training data, create training sets, and calculate the expected loss, respectively. "
   ]
  },
  {
   "cell_type": "code",
   "execution_count": 8,
   "id": "e2e1d6e1",
   "metadata": {
    "executionInfo": {
     "elapsed": 5,
     "status": "ok",
     "timestamp": 1666733158072,
     "user": {
      "displayName": "Dongyang Wang",
      "userId": "16766972527166923313"
     },
     "user_tz": 420
    },
    "id": "e2e1d6e1"
   },
   "outputs": [],
   "source": [
    "def euclidean_dis(x1, x2):\n",
    "    \n",
    "    if len(x1) != len(x2):\n",
    "        return \"Error in length!\"\n",
    "    distance = math.sqrt((x1[0] - x2[0])**2 + (x1[1] - x2[1])**2)\n",
    "    return distance\n",
    "\n",
    "def k_nearest(point, data, K_neighbors):\n",
    "    \n",
    "    distance = []\n",
    "    for i in range(len(data)):\n",
    "        dis = euclidean_dis(point, [data[i][0], data[i][1]])\n",
    "        distance.append([data[i], dis])\n",
    "    distance.sort(key=lambda d: d[1])\n",
    "    \n",
    "    neighbors = []\n",
    "    for i in range(K_neighbors):\n",
    "        neighbors.append(distance[i][0])\n",
    "    return neighbors\n",
    "\n",
    "def knn_classify(neighbors):\n",
    "    avg = np.mean([neighbor[2] for neighbor in neighbors])\n",
    "    if avg >= 0:\n",
    "        return 1\n",
    "    else:\n",
    "        return -1\n",
    "\n",
    "def knn(test, data, K_neighbors):\n",
    "    \n",
    "    points = [[i[0] , i[1]] for i in test]\n",
    "    test = [i[0:3] for i in test]\n",
    "    results = test[:]\n",
    "    \n",
    "    for i in range(len(points)):\n",
    "        point = points[i]\n",
    "        \n",
    "        neighbors = k_nearest(point, data, K_neighbors)\n",
    "        prediction = knn_classify(neighbors)\n",
    "        results[i].append(prediction)\n",
    "    \n",
    "    return results\n",
    "\n",
    "def gen_train_set(number = B):\n",
    "    train = []\n",
    "    for i in range(number):\n",
    "        train.append(gen_sim_data(n_train))\n",
    "    return train\n",
    "\n",
    "def evaluate_accuracy(data):\n",
    "    actual = [i[2] for i in data]\n",
    "    pred = [i[3] for i in data]\n",
    "    return sum([i[2] != i[3] for i in data])/len(data)"
   ]
  },
  {
   "cell_type": "markdown",
   "id": "e0025c5d",
   "metadata": {
    "id": "e0025c5d"
   },
   "source": [
    "Part B"
   ]
  },
  {
   "cell_type": "code",
   "execution_count": 9,
   "id": "a18044ed",
   "metadata": {
    "executionInfo": {
     "elapsed": 336,
     "status": "ok",
     "timestamp": 1666733158404,
     "user": {
      "displayName": "Dongyang Wang",
      "userId": "16766972527166923313"
     },
     "user_tz": 420
    },
    "id": "a18044ed"
   },
   "outputs": [],
   "source": [
    "train_set = gen_train_set(30) "
   ]
  },
  {
   "cell_type": "markdown",
   "id": "affc23c4",
   "metadata": {
    "id": "affc23c4"
   },
   "source": [
    "The following function calculates the l_b and L_b together."
   ]
  },
  {
   "cell_type": "code",
   "execution_count": 10,
   "id": "86c5f434",
   "metadata": {
    "executionInfo": {
     "elapsed": 4,
     "status": "ok",
     "timestamp": 1666733158404,
     "user": {
      "displayName": "Dongyang Wang",
      "userId": "16766972527166923313"
     },
     "user_tz": 420
    },
    "id": "86c5f434"
   },
   "outputs": [],
   "source": [
    "def expected_loss(test, train_set, B, K_neighbors):\n",
    "    \n",
    "    l_b = []\n",
    "    L_b = []\n",
    "    \n",
    "    for i in range(B):\n",
    "        train_one = train_set[i]\n",
    "        \n",
    "        temp_data1 = knn(train_one, train_one, K_neighbors)\n",
    "        l_b.append(evaluate_accuracy(temp_data1))\n",
    "        \n",
    "        temp_data2 = knn(test, train_one, K_neighbors)\n",
    "        L_b.append(evaluate_accuracy(temp_data2))\n",
    "        \n",
    "        \n",
    "    return [l_b, L_b]"
   ]
  },
  {
   "cell_type": "markdown",
   "id": "86fe9797",
   "metadata": {
    "id": "86fe9797"
   },
   "source": [
    "Part C"
   ]
  },
  {
   "cell_type": "markdown",
   "id": "c34aba45",
   "metadata": {
    "id": "c34aba45"
   },
   "source": [
    "Calculate empirical variance"
   ]
  },
  {
   "cell_type": "code",
   "execution_count": 11,
   "id": "48f906aa",
   "metadata": {
    "executionInfo": {
     "elapsed": 4,
     "status": "ok",
     "timestamp": 1666733158405,
     "user": {
      "displayName": "Dongyang Wang",
      "userId": "16766972527166923313"
     },
     "user_tz": 420
    },
    "id": "48f906aa"
   },
   "outputs": [],
   "source": [
    "def calculate_V(test, train_set, B, K_neighbors):\n",
    "    \n",
    "    res = []\n",
    "    \n",
    "    for i in range(B):\n",
    "        train_one = train_set[i]\n",
    "        \n",
    "        temp_data = knn(test, train_one, K_neighbors)\n",
    "        res.append([j[3] for j in temp_data])\n",
    "    \n",
    "    p_i = []\n",
    "    for i in range(len(res[0])):\n",
    "        temp_sum = 0\n",
    "        for j in range(B):\n",
    "            temp_sum += res[j][i]\n",
    "        p_i.append(temp_sum/(2*B) + 1/2)\n",
    "    \n",
    "    V = 0\n",
    "    for i in p_i:\n",
    "        V += i*(1-i)\n",
    "        \n",
    "    V = V/len(test)\n",
    "    return V"
   ]
  },
  {
   "cell_type": "markdown",
   "id": "48c861b4",
   "metadata": {
    "id": "48c861b4"
   },
   "source": [
    "Part D"
   ]
  },
  {
   "cell_type": "code",
   "execution_count": 12,
   "id": "07efdf15",
   "metadata": {
    "executionInfo": {
     "elapsed": 4,
     "status": "ok",
     "timestamp": 1666733158405,
     "user": {
      "displayName": "Dongyang Wang",
      "userId": "16766972527166923313"
     },
     "user_tz": 420
    },
    "id": "07efdf15"
   },
   "outputs": [],
   "source": [
    "def obtain_lb_avg(test, train_set, B, K_neighbors):\n",
    "    results = expected_loss(test, train_set, B, K_neighbors)\n",
    "    return np.mean(results[0]), np.mean(results[1])"
   ]
  },
  {
   "cell_type": "markdown",
   "id": "f0882410",
   "metadata": {
    "id": "f0882410"
   },
   "source": [
    "Part E"
   ]
  },
  {
   "cell_type": "code",
   "execution_count": 13,
   "id": "22decb09",
   "metadata": {
    "executionInfo": {
     "elapsed": 3,
     "status": "ok",
     "timestamp": 1666733158405,
     "user": {
      "displayName": "Dongyang Wang",
      "userId": "16766972527166923313"
     },
     "user_tz": 420
    },
    "id": "22decb09"
   },
   "outputs": [],
   "source": [
    "def all_problem_1(K, test, train_set, B):\n",
    "    \n",
    "    lbs = []\n",
    "    Vs = []\n",
    "       \n",
    "    for i in range(len(K)):\n",
    "        K_neighbors = K[i]\n",
    "        \n",
    "        lbs.append(expected_loss(test, train_set, B, K_neighbors))\n",
    "        Vs.append(calculate_V(test, train_set, B, K_neighbors))\n",
    "        \n",
    "    return lbs, Vs        "
   ]
  },
  {
   "cell_type": "code",
   "execution_count": 14,
   "id": "94fbb465",
   "metadata": {
    "executionInfo": {
     "elapsed": 158575,
     "status": "ok",
     "timestamp": 1666733316977,
     "user": {
      "displayName": "Dongyang Wang",
      "userId": "16766972527166923313"
     },
     "user_tz": 420
    },
    "id": "94fbb465"
   },
   "outputs": [],
   "source": [
    "result = all_problem_1(K, test_set, train_set, B)"
   ]
  },
  {
   "cell_type": "code",
   "execution_count": 15,
   "id": "15c9c1f7",
   "metadata": {
    "executionInfo": {
     "elapsed": 9,
     "status": "ok",
     "timestamp": 1666733316978,
     "user": {
      "displayName": "Dongyang Wang",
      "userId": "16766972527166923313"
     },
     "user_tz": 420
    },
    "id": "15c9c1f7"
   },
   "outputs": [],
   "source": [
    "Vs = result[1]"
   ]
  },
  {
   "cell_type": "code",
   "execution_count": 16,
   "id": "8243c315",
   "metadata": {
    "executionInfo": {
     "elapsed": 7,
     "status": "ok",
     "timestamp": 1666733316978,
     "user": {
      "displayName": "Dongyang Wang",
      "userId": "16766972527166923313"
     },
     "user_tz": 420
    },
    "id": "8243c315"
   },
   "outputs": [],
   "source": [
    "def obtain_knn_results(result):\n",
    "    \n",
    "    avg_L = []\n",
    "    sd_L = []\n",
    "    avg_l = []\n",
    "    sd_l = []\n",
    "    \n",
    "    for i in range(len(result[0])):\n",
    "        avg_l.append(np.mean(result[0][i][0]))\n",
    "        sd_l.append(np.std(result[0][i][0]))\n",
    "        \n",
    "        avg_L.append(np.mean(result[0][i][1]))\n",
    "        sd_L.append(np.std(result[0][i][1]))\n",
    "    return avg_l, sd_l, avg_L, sd_L"
   ]
  },
  {
   "cell_type": "code",
   "execution_count": 17,
   "id": "95f16f14",
   "metadata": {
    "executionInfo": {
     "elapsed": 6,
     "status": "ok",
     "timestamp": 1666733316978,
     "user": {
      "displayName": "Dongyang Wang",
      "userId": "16766972527166923313"
     },
     "user_tz": 420
    },
    "id": "95f16f14"
   },
   "outputs": [],
   "source": [
    "final_result = obtain_knn_results(result)"
   ]
  },
  {
   "cell_type": "code",
   "execution_count": 18,
   "id": "e3d2ad5e",
   "metadata": {
    "colab": {
     "base_uri": "https://localhost:8080/",
     "height": 295
    },
    "executionInfo": {
     "elapsed": 209,
     "status": "ok",
     "timestamp": 1666733317181,
     "user": {
      "displayName": "Dongyang Wang",
      "userId": "16766972527166923313"
     },
     "user_tz": 420
    },
    "id": "e3d2ad5e",
    "outputId": "98a53a57-2934-452c-bfbe-f54218fd40dc"
   },
   "outputs": [
    {
     "data": {
      "image/png": "[encoded data removed]",
      "text/plain": [
       "<Figure size 640x480 with 1 Axes>"
      ]
     },
     "metadata": {},
     "output_type": "display_data"
    }
   ],
   "source": [
    "plt.errorbar(K,final_result[0], yerr = final_result[1],color = \"red\", label = \"Average Training Loss l hat\")\n",
    "plt.errorbar(K,final_result[2], yerr = final_result[3],color = \"blue\", label = \"Average Testing Loss L\")\n",
    "plt.plot(K,Vs, label = \"Empirical Variance V\")\n",
    "\n",
    "plt.title(\"Losses vs Number of Neighbors\")\n",
    "plt.xlabel(\"Number of Neighbors K\")\n",
    "plt.legend()\n",
    "plt.show()"
   ]
  },
  {
   "cell_type": "markdown",
   "id": "9cadebb5",
   "metadata": {
    "id": "9cadebb5"
   },
   "source": [
    "Part F"
   ]
  },
  {
   "cell_type": "markdown",
   "id": "9e6a81e7",
   "metadata": {
    "id": "9e6a81e7"
   },
   "source": [
    "The graph of the empirical variance shows the influence of K on the classifier variance. Basically, when the number of neighbors is very small, the variance tends to be big. It goes down as the number of neighbors increase, but eventually turns back up when K is equal to 30."
   ]
  },
  {
   "cell_type": "markdown",
   "id": "dd94e743",
   "metadata": {
    "id": "dd94e743"
   },
   "source": [
    "Part G"
   ]
  },
  {
   "cell_type": "markdown",
   "id": "90d5bfe2",
   "metadata": {
    "id": "90d5bfe2"
   },
   "source": [
    "The loss graphs show the bias of the KNN classifier. As we can observe, testing loss is lowest (best) when number of neighbors is around 5-15. The variance of the bias will be low at the same time. Training loss is generally lower when the number of neighbors is small. The variance for training loss is overall constant."
   ]
  },
  {
   "cell_type": "markdown",
   "id": "b36f39b1",
   "metadata": {
    "id": "b36f39b1"
   },
   "source": [
    "Part H"
   ]
  },
  {
   "cell_type": "markdown",
   "id": "4c800e79",
   "metadata": {},
   "source": [
    "$L_{01}^* = E_{P_X}(1 - max_yP(Y|X))$ where $P(Y = 1| X) = \\frac{P(Y = 1) * P(X| Y = 1) }{P(Y = 1) * P(X| Y = 1)  + P(Y = 0) * P(X| Y = 0) }$  The pdf are all provided in the question, so I will not further detail them here. So the algorithm can be followed."
   ]
  },
  {
   "cell_type": "code",
   "execution_count": 19,
   "id": "KFgPPOVXDPRt",
   "metadata": {
    "colab": {
     "base_uri": "https://localhost:8080/"
    },
    "executionInfo": {
     "elapsed": 203,
     "status": "error",
     "timestamp": 1666733374351,
     "user": {
      "displayName": "Dongyang Wang",
      "userId": "16766972527166923313"
     },
     "user_tz": 420
    },
    "id": "KFgPPOVXDPRt",
    "outputId": "24e25ef2-21bc-4f46-8869-cba0bea3051c"
   },
   "outputs": [],
   "source": [
    "def bayes_loss(x):\n",
    "    \n",
    "    pos = multivariate_normal.pdf(x, mean = [1.6, 0], cov = [[1,0],[0,1]])\n",
    "    neg = multivariate_normal.pdf(x, mean = [-1.6, 0], cov = [[1,0],[0,1]])\n",
    "    score = pos*0.7/ (pos*0.7 + neg*0.3)\n",
    "    return min(score, 1-score)"
   ]
  },
  {
   "cell_type": "code",
   "execution_count": 25,
   "id": "91289618",
   "metadata": {},
   "outputs": [
    {
     "data": {
      "text/plain": [
       "0.0496181198661849"
      ]
     },
     "execution_count": 25,
     "metadata": {},
     "output_type": "execute_result"
    }
   ],
   "source": [
    "bayes_l = 0\n",
    "for i in test_set:\n",
    "    bayes_l += bayes_loss(i[0])\n",
    "bayes_l = bayes_l/len(test_set)\n",
    "bayes_l"
   ]
  },
  {
   "cell_type": "code",
   "execution_count": 26,
   "id": "af3ca939",
   "metadata": {},
   "outputs": [],
   "source": [
    "bayes_l = [bayes_l] *len(K)"
   ]
  },
  {
   "cell_type": "code",
   "execution_count": 27,
   "id": "8533232f",
   "metadata": {},
   "outputs": [
    {
     "data": {
      "image/png": "[encoded data removed]",
      "text/plain": [
       "<Figure size 640x480 with 1 Axes>"
      ]
     },
     "metadata": {},
     "output_type": "display_data"
    }
   ],
   "source": [
    "plt.errorbar(K,final_result[0], yerr = final_result[1],color = \"red\", label = \"Average Training Loss l hat\")\n",
    "plt.errorbar(K,final_result[2], yerr = final_result[3],color = \"blue\", label = \"Average Testing Loss L\")\n",
    "plt.plot(K,bayes_l, label = \"Bayes Loss L*\")\n",
    "plt.plot(K,Vs, label = \"Empirical Variance V\")\n",
    "\n",
    "plt.title(\"Losses vs Number of Neighbors\")\n",
    "plt.xlabel(\"Number of Neighbors K\")\n",
    "plt.legend()\n",
    "plt.show()"
   ]
  },
  {
   "cell_type": "markdown",
   "id": "7301263a",
   "metadata": {
    "id": "7301263a"
   },
   "source": [
    "## Problem 3"
   ]
  },
  {
   "cell_type": "markdown",
   "id": "1876a061",
   "metadata": {
    "id": "1876a061"
   },
   "source": [
    "Part A"
   ]
  },
  {
   "cell_type": "markdown",
   "id": "1781089a",
   "metadata": {
    "id": "1781089a"
   },
   "source": [
    "Solving the equation below,\n",
    " $\\int_{-1}^1 \\frac{\\alpha}{3}\\frac{1}{0.3\\sqrt{2\\pi}} \\exp\\left( -\\frac{1}{2}\\left(\\frac{x}{0.3}\\right)^{\\!2}\\,\\right) + \\frac{4}{3} \\frac{1}{0.6\\sqrt{2\\pi}} \\exp\\left( -\\frac{1}{2}\\left(\\frac{x-1}{0.6}\\right)^{\\!2}\\,\\right) \\;\\mathrm{d}x = 1$"
   ]
  },
  {
   "cell_type": "markdown",
   "id": "84c46f2a",
   "metadata": {
    "id": "84c46f2a"
   },
   "source": [
    "By obtaining the cdf of two component distributions at -1 and 1, we obtain that $\\alpha = 2$"
   ]
  },
  {
   "cell_type": "markdown",
   "id": "d15ac6c4",
   "metadata": {
    "id": "d15ac6c4"
   },
   "source": [
    "Part B"
   ]
  },
  {
   "cell_type": "code",
   "execution_count": 126,
   "id": "9997f359",
   "metadata": {
    "executionInfo": {
     "elapsed": 129,
     "status": "ok",
     "timestamp": 1666733317525,
     "user": {
      "displayName": "Dongyang Wang",
      "userId": "16766972527166923313"
     },
     "user_tz": 420
    },
    "id": "9997f359"
   },
   "outputs": [],
   "source": [
    "import requests\n",
    "\n",
    "response = requests.get('https://sites.stat.washington.edu/mmp/courses/535/fall22/assignments/hw2-kr.dat')\n",
    "hw2_kr = response.text\n",
    "\n",
    "data_by_line = hw2_kr.split('\\n')\n",
    "data_by_line = data_by_line[:len(data_by_line)-1]\n",
    "\n",
    "for i in range(0,len(data_by_line)):\n",
    "    data_by_line[i] = ' '.join(data_by_line[i].split())\n",
    "    data_by_line[i] = data_by_line[i].split(' ')\n",
    "\n",
    "hw2_kr = [0] * len(data_by_line)\n",
    "    \n",
    "for i in range(len(data_by_line)):\n",
    "    hw2_kr[i] = [float(j) for j in data_by_line[i]]\n",
    "\n",
    "kr_data = pd.DataFrame(hw2_kr, columns =['x', 'f(x)'])"
   ]
  },
  {
   "cell_type": "code",
   "execution_count": 127,
   "id": "7c9ea50c",
   "metadata": {
    "executionInfo": {
     "elapsed": 7,
     "status": "ok",
     "timestamp": 1666733317526,
     "user": {
      "displayName": "Dongyang Wang",
      "userId": "16766972527166923313"
     },
     "user_tz": 420
    },
    "id": "7c9ea50c"
   },
   "outputs": [],
   "source": [
    "h = 0.1"
   ]
  },
  {
   "cell_type": "code",
   "execution_count": 128,
   "id": "d76de4a0",
   "metadata": {
    "executionInfo": {
     "elapsed": 6,
     "status": "ok",
     "timestamp": 1666733317526,
     "user": {
      "displayName": "Dongyang Wang",
      "userId": "16766972527166923313"
     },
     "user_tz": 420
    },
    "id": "d76de4a0",
    "scrolled": true
   },
   "outputs": [],
   "source": [
    "def gaussian_density(x):\n",
    "    if x >1 or x< -1:\n",
    "        return 0\n",
    "    \n",
    "    part1 = 1/(math.sqrt(2*np.pi*0.3**2)) * np.exp(-x**2/(2*0.3**2))\n",
    "    part2 = 1/(math.sqrt(2*np.pi*0.6**2)) * np.exp(-(x-1)**2/(2*0.6**2))\n",
    "    return 2/3 * part1 + 4/3 * part2"
   ]
  },
  {
   "cell_type": "code",
   "execution_count": 129,
   "id": "30f8c243",
   "metadata": {
    "executionInfo": {
     "elapsed": 144,
     "status": "ok",
     "timestamp": 1666733317665,
     "user": {
      "displayName": "Dongyang Wang",
      "userId": "16766972527166923313"
     },
     "user_tz": 420
    },
    "id": "30f8c243"
   },
   "outputs": [],
   "source": [
    "def kernel_reg(point, data):\n",
    "    \n",
    "    res = 0\n",
    "    weights = 0\n",
    "    \n",
    "    for i in range(len(data)):\n",
    "        cur_point = data.iloc[i]\n",
    "        \n",
    "        if cur_point[0] >= point[0] - h or cur_point[0] <= point[0] + h:\n",
    "            weight = gaussian_density(abs(data.iloc[i][0] - point[0])/h)\n",
    "            weights += weight\n",
    "            res += weight * data.iloc[i][1]\n",
    "    \n",
    "    return res/weights"
   ]
  },
  {
   "cell_type": "code",
   "execution_count": 130,
   "id": "37a4a868",
   "metadata": {
    "executionInfo": {
     "elapsed": 6,
     "status": "ok",
     "timestamp": 1666733317666,
     "user": {
      "displayName": "Dongyang Wang",
      "userId": "16766972527166923313"
     },
     "user_tz": 420
    },
    "id": "37a4a868"
   },
   "outputs": [],
   "source": [
    "def kernel_full(data):\n",
    "    \n",
    "    res = []\n",
    "    \n",
    "    for i in range(len(data)):\n",
    "        \n",
    "        point = data.iloc[i]\n",
    "        res.append(kernel_reg(point, data))\n",
    "    \n",
    "    return res"
   ]
  },
  {
   "cell_type": "code",
   "execution_count": 131,
   "id": "2736b392",
   "metadata": {
    "executionInfo": {
     "elapsed": 17710,
     "status": "ok",
     "timestamp": 1666733335371,
     "user": {
      "displayName": "Dongyang Wang",
      "userId": "16766972527166923313"
     },
     "user_tz": 420
    },
    "id": "2736b392"
   },
   "outputs": [],
   "source": [
    "yhat = kernel_full(kr_data)"
   ]
  },
  {
   "cell_type": "code",
   "execution_count": 132,
   "id": "a11540fb",
   "metadata": {
    "executionInfo": {
     "elapsed": 30,
     "status": "ok",
     "timestamp": 1666733335372,
     "user": {
      "displayName": "Dongyang Wang",
      "userId": "16766972527166923313"
     },
     "user_tz": 420
    },
    "id": "a11540fb"
   },
   "outputs": [],
   "source": [
    "kr_data['yhat'] = yhat"
   ]
  },
  {
   "cell_type": "code",
   "execution_count": 133,
   "id": "ed13b31e",
   "metadata": {
    "executionInfo": {
     "elapsed": 29,
     "status": "ok",
     "timestamp": 1666733335373,
     "user": {
      "displayName": "Dongyang Wang",
      "userId": "16766972527166923313"
     },
     "user_tz": 420
    },
    "id": "ed13b31e"
   },
   "outputs": [],
   "source": [
    "kr_data = kr_data.sort_values(by = \"x\")"
   ]
  },
  {
   "cell_type": "code",
   "execution_count": 134,
   "id": "8b07e0b8",
   "metadata": {
    "colab": {
     "base_uri": "https://localhost:8080/",
     "height": 424
    },
    "executionInfo": {
     "elapsed": 202,
     "status": "ok",
     "timestamp": 1666733335547,
     "user": {
      "displayName": "Dongyang Wang",
      "userId": "16766972527166923313"
     },
     "user_tz": 420
    },
    "id": "8b07e0b8",
    "outputId": "ddaaec12-a83f-4b04-944a-d6b241dabbda"
   },
   "outputs": [
    {
     "data": {
      "text/html": [
       "<div>\n",
       "<style scoped>\n",
       "    .dataframe tbody tr th:only-of-type {\n",
       "        vertical-align: middle;\n",
       "    }\n",
       "\n",
       "    .dataframe tbody tr th {\n",
       "        vertical-align: top;\n",
       "    }\n",
       "\n",
       "    .dataframe thead th {\n",
       "        text-align: right;\n",
       "    }\n",
       "</style>\n",
       "<table border=\"1\" class=\"dataframe\">\n",
       "  <thead>\n",
       "    <tr style=\"text-align: right;\">\n",
       "      <th></th>\n",
       "      <th>x</th>\n",
       "      <th>f(x)</th>\n",
       "      <th>yhat</th>\n",
       "    </tr>\n",
       "  </thead>\n",
       "  <tbody>\n",
       "    <tr>\n",
       "      <th>74</th>\n",
       "      <td>-0.722107</td>\n",
       "      <td>1.521438</td>\n",
       "      <td>1.471140</td>\n",
       "    </tr>\n",
       "    <tr>\n",
       "      <th>209</th>\n",
       "      <td>-0.638217</td>\n",
       "      <td>1.407321</td>\n",
       "      <td>1.422826</td>\n",
       "    </tr>\n",
       "    <tr>\n",
       "      <th>219</th>\n",
       "      <td>-0.583313</td>\n",
       "      <td>1.340254</td>\n",
       "      <td>1.369072</td>\n",
       "    </tr>\n",
       "    <tr>\n",
       "      <th>130</th>\n",
       "      <td>-0.442269</td>\n",
       "      <td>1.195602</td>\n",
       "      <td>1.160935</td>\n",
       "    </tr>\n",
       "    <tr>\n",
       "      <th>252</th>\n",
       "      <td>-0.374001</td>\n",
       "      <td>1.139877</td>\n",
       "      <td>1.131330</td>\n",
       "    </tr>\n",
       "    <tr>\n",
       "      <th>...</th>\n",
       "      <td>...</td>\n",
       "      <td>...</td>\n",
       "      <td>...</td>\n",
       "    </tr>\n",
       "    <tr>\n",
       "      <th>129</th>\n",
       "      <td>0.989994</td>\n",
       "      <td>1.980088</td>\n",
       "      <td>1.914033</td>\n",
       "    </tr>\n",
       "    <tr>\n",
       "      <th>82</th>\n",
       "      <td>0.990637</td>\n",
       "      <td>1.981361</td>\n",
       "      <td>1.914019</td>\n",
       "    </tr>\n",
       "    <tr>\n",
       "      <th>141</th>\n",
       "      <td>0.993361</td>\n",
       "      <td>1.986766</td>\n",
       "      <td>1.917650</td>\n",
       "    </tr>\n",
       "    <tr>\n",
       "      <th>266</th>\n",
       "      <td>0.999056</td>\n",
       "      <td>1.998113</td>\n",
       "      <td>1.917155</td>\n",
       "    </tr>\n",
       "    <tr>\n",
       "      <th>290</th>\n",
       "      <td>0.999812</td>\n",
       "      <td>1.999623</td>\n",
       "      <td>1.920548</td>\n",
       "    </tr>\n",
       "  </tbody>\n",
       "</table>\n",
       "<p>300 rows × 3 columns</p>\n",
       "</div>"
      ],
      "text/plain": [
       "            x      f(x)      yhat\n",
       "74  -0.722107  1.521438  1.471140\n",
       "209 -0.638217  1.407321  1.422826\n",
       "219 -0.583313  1.340254  1.369072\n",
       "130 -0.442269  1.195602  1.160935\n",
       "252 -0.374001  1.139877  1.131330\n",
       "..        ...       ...       ...\n",
       "129  0.989994  1.980088  1.914033\n",
       "82   0.990637  1.981361  1.914019\n",
       "141  0.993361  1.986766  1.917650\n",
       "266  0.999056  1.998113  1.917155\n",
       "290  0.999812  1.999623  1.920548\n",
       "\n",
       "[300 rows x 3 columns]"
      ]
     },
     "execution_count": 134,
     "metadata": {},
     "output_type": "execute_result"
    }
   ],
   "source": [
    "kr_data"
   ]
  },
  {
   "cell_type": "code",
   "execution_count": 135,
   "id": "d9307a57",
   "metadata": {
    "colab": {
     "base_uri": "https://localhost:8080/",
     "height": 295
    },
    "executionInfo": {
     "elapsed": 143,
     "status": "ok",
     "timestamp": 1666733335680,
     "user": {
      "displayName": "Dongyang Wang",
      "userId": "16766972527166923313"
     },
     "user_tz": 420
    },
    "id": "d9307a57",
    "outputId": "d90fccd2-db52-4021-c50e-712712b10ea6"
   },
   "outputs": [
    {
     "data": {
      "image/png": "[encoded data removed]",
      "text/plain": [
       "<Figure size 432x288 with 1 Axes>"
      ]
     },
     "metadata": {
      "needs_background": "light"
     },
     "output_type": "display_data"
    }
   ],
   "source": [
    "plt.plot(kr_data['x'], kr_data['yhat'], label = \"y hat\")\n",
    "plt.plot(kr_data['x'], kr_data['f(x)'], label = \"f(x)\")\n",
    "\n",
    "plt.title(\"Kernel Regression Results\")\n",
    "plt.xlabel(\"X\")\n",
    "plt.xlim(-1.5,1.5)\n",
    "plt.legend()\n",
    "plt.show()"
   ]
  },
  {
   "cell_type": "markdown",
   "id": "73d0f17e",
   "metadata": {
    "id": "73d0f17e"
   },
   "source": [
    "Part C"
   ]
  },
  {
   "cell_type": "code",
   "execution_count": 136,
   "id": "bc7def39",
   "metadata": {
    "executionInfo": {
     "elapsed": 3,
     "status": "ok",
     "timestamp": 1666733335680,
     "user": {
      "displayName": "Dongyang Wang",
      "userId": "16766972527166923313"
     },
     "user_tz": 420
    },
    "id": "bc7def39"
   },
   "outputs": [],
   "source": [
    "kr_data[\"error\"] = kr_data[\"f(x)\"] - kr_data[\"yhat\"]  "
   ]
  },
  {
   "cell_type": "code",
   "execution_count": 137,
   "id": "72dbc4f1",
   "metadata": {
    "colab": {
     "base_uri": "https://localhost:8080/",
     "height": 295
    },
    "executionInfo": {
     "elapsed": 256,
     "status": "ok",
     "timestamp": 1666733335933,
     "user": {
      "displayName": "Dongyang Wang",
      "userId": "16766972527166923313"
     },
     "user_tz": 420
    },
    "id": "72dbc4f1",
    "outputId": "d679a12f-1075-488c-b30f-821332cc06e7"
   },
   "outputs": [
    {
     "data": {
      "image/png": "[encoded data removed]",
      "text/plain": [
       "<Figure size 432x288 with 1 Axes>"
      ]
     },
     "metadata": {
      "needs_background": "light"
     },
     "output_type": "display_data"
    }
   ],
   "source": [
    "plt.plot(kr_data['x'], abs(kr_data['error']), label = \"error\")\n",
    "\n",
    "plt.title(\"Kernel Regression Error\")\n",
    "plt.xlabel(\"x\")\n",
    "plt.xlim(-1.5,1.5)\n",
    "plt.legend()\n",
    "plt.show()"
   ]
  },
  {
   "cell_type": "markdown",
   "id": "77d7146b",
   "metadata": {
    "id": "77d7146b"
   },
   "source": [
    "Part D"
   ]
  },
  {
   "cell_type": "code",
   "execution_count": 138,
   "id": "19b2b531",
   "metadata": {
    "executionInfo": {
     "elapsed": 19,
     "status": "ok",
     "timestamp": 1666733335935,
     "user": {
      "displayName": "Dongyang Wang",
      "userId": "16766972527166923313"
     },
     "user_tz": 420
    },
    "id": "19b2b531"
   },
   "outputs": [],
   "source": [
    "x_den = np.arange(-1,1,step = 0.01)\n",
    "y_den = []\n",
    "for i in x_den:\n",
    "    y_den.append(gaussian_density(i))"
   ]
  },
  {
   "cell_type": "code",
   "execution_count": 139,
   "id": "3f6dc99c",
   "metadata": {
    "colab": {
     "base_uri": "https://localhost:8080/",
     "height": 295
    },
    "executionInfo": {
     "elapsed": 175,
     "status": "ok",
     "timestamp": 1666733336093,
     "user": {
      "displayName": "Dongyang Wang",
      "userId": "16766972527166923313"
     },
     "user_tz": 420
    },
    "id": "3f6dc99c",
    "outputId": "30ba22c7-15a0-4902-f9cd-8fb934411846"
   },
   "outputs": [
    {
     "data": {
      "image/png": "[encoded data removed]",
      "text/plain": [
       "<Figure size 432x288 with 1 Axes>"
      ]
     },
     "metadata": {
      "needs_background": "light"
     },
     "output_type": "display_data"
    }
   ],
   "source": [
    "plt.plot(x_den, y_den)\n",
    "\n",
    "plt.title(\"Data Density\")\n",
    "plt.xlabel(\"X\")\n",
    "plt.ylabel(\"Density\")\n",
    "plt.xlim(-1.5,1.5)\n",
    "plt.show()"
   ]
  },
  {
   "cell_type": "markdown",
   "id": "f4e61b94",
   "metadata": {
    "id": "f4e61b94"
   },
   "source": [
    "Part E"
   ]
  },
  {
   "cell_type": "markdown",
   "id": "YOt2b2xdFHLB",
   "metadata": {
    "id": "YOt2b2xdFHLB"
   },
   "source": [
    "We have $f' = 2x$ and $f'' = 2$ and $p_x = \\frac{2}{3} \\frac{1}{0.3\\sqrt{2\\pi}} \\exp\\left( -\\frac{1}{2}\\left(\\frac{x-0}{0.3}\\right)^{\\!2}\\,\\right) + \\frac{4}{3} \\frac{1}{0.6\\sqrt{2\\pi}} \\exp\\left( -\\frac{1}{2}\\left(\\frac{x-1}{0.6}\\right)^{\\!2}\\,\\right)$ and $p_x' = \\frac{2}{3} (-\\frac{x}{0.3^2})  \\frac{1}{0.3\\sqrt{2\\pi}} \\exp\\left( -\\frac{1}{2}\\left(\\frac{x-0}{0.3}\\right)^{\\!2}\\,\\right) + \\frac{4}{3} (-\\frac{x-1}{0.6^2}) \\frac{1}{0.6\\sqrt{2\\pi}} \\exp\\left( -\\frac{1}{2}\\left(\\frac{x-1}{0.6}\\right)^{\\!2}\\,\\right)$ and $\\frac{p_x'}{p_x} = \\frac{\\frac{2}{3} (-\\frac{x}{0.3^2})  \\frac{1}{0.3\\sqrt{2\\pi}} \\exp\\left( -\\frac{1}{2}\\left(\\frac{x-0}{0.3}\\right)^{\\!2}\\,\\right) + \\frac{4}{3} (-\\frac{x-1}{0.6^2}) \\frac{1}{0.6\\sqrt{2\\pi}} \\exp\\left( -\\frac{1}{2}\\left(\\frac{x-1}{0.6}\\right)^{\\!2}\\,\\right)}{\\frac{2}{3} \\frac{1}{0.3\\sqrt{2\\pi}} \\exp\\left( -\\frac{1}{2}\\left(\\frac{x-0}{0.3}\\right)^{\\!2}\\,\\right) + \\frac{4}{3} \\frac{1}{0.6\\sqrt{2\\pi}} \\exp\\left( -\\frac{1}{2}\\left(\\frac{x-1}{0.6}\\right)^{\\!2}\\,\\right)}$"
   ]
  },
  {
   "cell_type": "code",
   "execution_count": 140,
   "id": "02fabf81",
   "metadata": {},
   "outputs": [],
   "source": [
    "def px_ratio(x):\n",
    "    part1 = 2/3 * 1/(0.3 * math.sqrt(2*np.pi)) * np.exp(-(x/0.3)**2/2)\n",
    "    part2 = 4/3 * 1/(0.6 * math.sqrt(2*np.pi)) * np.exp(-((x-1)/0.6)**2/2)\n",
    "    part1_updated = part1 * (-x/(0.3**2))\n",
    "    part2_updated = part1 * (-(x-1)/(0.6**2))\n",
    "    return (part1_updated + part2_updated)/(part1 + part2)"
   ]
  },
  {
   "cell_type": "code",
   "execution_count": 141,
   "id": "ce0782c1",
   "metadata": {},
   "outputs": [],
   "source": [
    "kr_data[\"f_prime\"] = kr_data['x'] *2\n",
    "kr_data[\"f_prime2\"] = 2\n",
    "kr_data[\"px_ratio\"] = px_ratio(kr_data['x'])"
   ]
  },
  {
   "cell_type": "code",
   "execution_count": 142,
   "id": "24f17574",
   "metadata": {
    "executionInfo": {
     "elapsed": 9,
     "status": "ok",
     "timestamp": 1666733336095,
     "user": {
      "displayName": "Dongyang Wang",
      "userId": "16766972527166923313"
     },
     "user_tz": 420
    },
    "id": "24f17574"
   },
   "outputs": [
    {
     "data": {
      "image/png": "[encoded data removed]",
      "text/plain": [
       "<Figure size 432x288 with 1 Axes>"
      ]
     },
     "metadata": {
      "needs_background": "light"
     },
     "output_type": "display_data"
    }
   ],
   "source": [
    "plt.plot(kr_data['x'], kr_data['f_prime'], label = \"f_prime\")\n",
    "plt.plot(kr_data['x'], kr_data['f_prime2'], label = \"f_prime2\")\n",
    "plt.plot(kr_data['x'], kr_data['px_ratio'], label = \"px_ratio\")\n",
    "\n",
    "plt.title(\"Quantities of f(x)\")\n",
    "plt.xlabel(\"X\")\n",
    "plt.ylabel(\"Value\")\n",
    "plt.xlim(-1.5,1.5)\n",
    "plt.legend()\n",
    "plt.show()"
   ]
  },
  {
   "cell_type": "markdown",
   "id": "0e65ae8b",
   "metadata": {},
   "source": [
    "Part F"
   ]
  },
  {
   "cell_type": "code",
   "execution_count": 143,
   "id": "6a8d0688",
   "metadata": {
    "executionInfo": {
     "elapsed": 9,
     "status": "ok",
     "timestamp": 1666733336095,
     "user": {
      "displayName": "Dongyang Wang",
      "userId": "16766972527166923313"
     },
     "user_tz": 420
    },
    "id": "6a8d0688"
   },
   "outputs": [],
   "source": [
    "kr_data[\"bias\"] = kr_data['px_ratio']*kr_data['f_prime'] + kr_data['f_prime2']**2 "
   ]
  },
  {
   "cell_type": "code",
   "execution_count": 144,
   "id": "3c6066a2",
   "metadata": {},
   "outputs": [
    {
     "data": {
      "text/html": [
       "<div>\n",
       "<style scoped>\n",
       "    .dataframe tbody tr th:only-of-type {\n",
       "        vertical-align: middle;\n",
       "    }\n",
       "\n",
       "    .dataframe tbody tr th {\n",
       "        vertical-align: top;\n",
       "    }\n",
       "\n",
       "    .dataframe thead th {\n",
       "        text-align: right;\n",
       "    }\n",
       "</style>\n",
       "<table border=\"1\" class=\"dataframe\">\n",
       "  <thead>\n",
       "    <tr style=\"text-align: right;\">\n",
       "      <th></th>\n",
       "      <th>x</th>\n",
       "      <th>f(x)</th>\n",
       "      <th>yhat</th>\n",
       "      <th>error</th>\n",
       "      <th>f_prime</th>\n",
       "      <th>f_prime2</th>\n",
       "      <th>px_ratio</th>\n",
       "      <th>bias</th>\n",
       "    </tr>\n",
       "  </thead>\n",
       "  <tbody>\n",
       "    <tr>\n",
       "      <th>74</th>\n",
       "      <td>-0.722107</td>\n",
       "      <td>1.521438</td>\n",
       "      <td>1.471140</td>\n",
       "      <td>0.050298</td>\n",
       "      <td>-1.444214</td>\n",
       "      <td>2</td>\n",
       "      <td>9.892538</td>\n",
       "      <td>-10.286942</td>\n",
       "    </tr>\n",
       "    <tr>\n",
       "      <th>209</th>\n",
       "      <td>-0.638217</td>\n",
       "      <td>1.407321</td>\n",
       "      <td>1.422826</td>\n",
       "      <td>-0.015505</td>\n",
       "      <td>-1.276434</td>\n",
       "      <td>2</td>\n",
       "      <td>9.455863</td>\n",
       "      <td>-8.069785</td>\n",
       "    </tr>\n",
       "    <tr>\n",
       "      <th>219</th>\n",
       "      <td>-0.583313</td>\n",
       "      <td>1.340254</td>\n",
       "      <td>1.369072</td>\n",
       "      <td>-0.028818</td>\n",
       "      <td>-1.166626</td>\n",
       "      <td>2</td>\n",
       "      <td>9.038821</td>\n",
       "      <td>-6.544924</td>\n",
       "    </tr>\n",
       "    <tr>\n",
       "      <th>130</th>\n",
       "      <td>-0.442269</td>\n",
       "      <td>1.195602</td>\n",
       "      <td>1.160935</td>\n",
       "      <td>0.034667</td>\n",
       "      <td>-0.884538</td>\n",
       "      <td>2</td>\n",
       "      <td>7.657645</td>\n",
       "      <td>-2.773478</td>\n",
       "    </tr>\n",
       "    <tr>\n",
       "      <th>252</th>\n",
       "      <td>-0.374001</td>\n",
       "      <td>1.139877</td>\n",
       "      <td>1.131330</td>\n",
       "      <td>0.008547</td>\n",
       "      <td>-0.748002</td>\n",
       "      <td>2</td>\n",
       "      <td>6.884300</td>\n",
       "      <td>-1.149470</td>\n",
       "    </tr>\n",
       "    <tr>\n",
       "      <th>...</th>\n",
       "      <td>...</td>\n",
       "      <td>...</td>\n",
       "      <td>...</td>\n",
       "      <td>...</td>\n",
       "      <td>...</td>\n",
       "      <td>...</td>\n",
       "      <td>...</td>\n",
       "      <td>...</td>\n",
       "    </tr>\n",
       "    <tr>\n",
       "      <th>129</th>\n",
       "      <td>0.989994</td>\n",
       "      <td>1.980088</td>\n",
       "      <td>1.914033</td>\n",
       "      <td>0.066055</td>\n",
       "      <td>1.979988</td>\n",
       "      <td>2</td>\n",
       "      <td>-0.047182</td>\n",
       "      <td>3.906580</td>\n",
       "    </tr>\n",
       "    <tr>\n",
       "      <th>82</th>\n",
       "      <td>0.990637</td>\n",
       "      <td>1.981361</td>\n",
       "      <td>1.914019</td>\n",
       "      <td>0.067342</td>\n",
       "      <td>1.981274</td>\n",
       "      <td>2</td>\n",
       "      <td>-0.046888</td>\n",
       "      <td>3.907102</td>\n",
       "    </tr>\n",
       "    <tr>\n",
       "      <th>141</th>\n",
       "      <td>0.993361</td>\n",
       "      <td>1.986766</td>\n",
       "      <td>1.917650</td>\n",
       "      <td>0.069116</td>\n",
       "      <td>1.986722</td>\n",
       "      <td>2</td>\n",
       "      <td>-0.045661</td>\n",
       "      <td>3.909284</td>\n",
       "    </tr>\n",
       "    <tr>\n",
       "      <th>266</th>\n",
       "      <td>0.999056</td>\n",
       "      <td>1.998113</td>\n",
       "      <td>1.917155</td>\n",
       "      <td>0.080958</td>\n",
       "      <td>1.998112</td>\n",
       "      <td>2</td>\n",
       "      <td>-0.043187</td>\n",
       "      <td>3.913707</td>\n",
       "    </tr>\n",
       "    <tr>\n",
       "      <th>290</th>\n",
       "      <td>0.999812</td>\n",
       "      <td>1.999623</td>\n",
       "      <td>1.920548</td>\n",
       "      <td>0.079075</td>\n",
       "      <td>1.999624</td>\n",
       "      <td>2</td>\n",
       "      <td>-0.042868</td>\n",
       "      <td>3.914280</td>\n",
       "    </tr>\n",
       "  </tbody>\n",
       "</table>\n",
       "<p>300 rows × 8 columns</p>\n",
       "</div>"
      ],
      "text/plain": [
       "            x      f(x)      yhat     error   f_prime  f_prime2  px_ratio  \\\n",
       "74  -0.722107  1.521438  1.471140  0.050298 -1.444214         2  9.892538   \n",
       "209 -0.638217  1.407321  1.422826 -0.015505 -1.276434         2  9.455863   \n",
       "219 -0.583313  1.340254  1.369072 -0.028818 -1.166626         2  9.038821   \n",
       "130 -0.442269  1.195602  1.160935  0.034667 -0.884538         2  7.657645   \n",
       "252 -0.374001  1.139877  1.131330  0.008547 -0.748002         2  6.884300   \n",
       "..        ...       ...       ...       ...       ...       ...       ...   \n",
       "129  0.989994  1.980088  1.914033  0.066055  1.979988         2 -0.047182   \n",
       "82   0.990637  1.981361  1.914019  0.067342  1.981274         2 -0.046888   \n",
       "141  0.993361  1.986766  1.917650  0.069116  1.986722         2 -0.045661   \n",
       "266  0.999056  1.998113  1.917155  0.080958  1.998112         2 -0.043187   \n",
       "290  0.999812  1.999623  1.920548  0.079075  1.999624         2 -0.042868   \n",
       "\n",
       "          bias  \n",
       "74  -10.286942  \n",
       "209  -8.069785  \n",
       "219  -6.544924  \n",
       "130  -2.773478  \n",
       "252  -1.149470  \n",
       "..         ...  \n",
       "129   3.906580  \n",
       "82    3.907102  \n",
       "141   3.909284  \n",
       "266   3.913707  \n",
       "290   3.914280  \n",
       "\n",
       "[300 rows x 8 columns]"
      ]
     },
     "execution_count": 144,
     "metadata": {},
     "output_type": "execute_result"
    }
   ],
   "source": [
    "kr_data"
   ]
  },
  {
   "cell_type": "code",
   "execution_count": 145,
   "id": "e6e989af",
   "metadata": {},
   "outputs": [
    {
     "data": {
      "image/png": "[encoded data removed]",
      "text/plain": [
       "<Figure size 432x288 with 1 Axes>"
      ]
     },
     "metadata": {
      "needs_background": "light"
     },
     "output_type": "display_data"
    }
   ],
   "source": [
    "plt.plot(kr_data['x'], abs(kr_data['error']), label = \"error\")\n",
    "plt.plot(kr_data['x'], abs(kr_data['bias']*0.005), label = \"bias\")\n",
    "\n",
    "plt.title(\"Kernel Regression Error\")\n",
    "plt.xlabel(\"x\")\n",
    "plt.xlim(-1.5,1.5)\n",
    "plt.legend()\n",
    "plt.show()"
   ]
  },
  {
   "cell_type": "markdown",
   "id": "ed78d879",
   "metadata": {},
   "source": [
    "The graphs are similar except that the bias is smoother on the upper end where x is near 1."
   ]
  },
  {
   "cell_type": "code",
   "execution_count": 146,
   "id": "a99a84e2",
   "metadata": {},
   "outputs": [
    {
     "data": {
      "text/plain": [
       "(array([ 3.,  1., 15., 16., 30., 40., 39., 47., 53., 56.]),\n",
       " array([-0.722107 , -0.5499151, -0.3777232, -0.2055313, -0.0333394,\n",
       "         0.1388525,  0.3110444,  0.4832363,  0.6554282,  0.8276201,\n",
       "         0.999812 ]),\n",
       " <BarContainer object of 10 artists>)"
      ]
     },
     "execution_count": 146,
     "metadata": {},
     "output_type": "execute_result"
    },
    {
     "data": {
      "image/png": "[encoded data removed]",
      "text/plain": [
       "<Figure size 432x288 with 1 Axes>"
      ]
     },
     "metadata": {
      "needs_background": "light"
     },
     "output_type": "display_data"
    }
   ],
   "source": [
    "plt.hist(kr_data['x'])"
   ]
  },
  {
   "cell_type": "markdown",
   "id": "70fc17dc",
   "metadata": {
    "executionInfo": {
     "elapsed": 9,
     "status": "ok",
     "timestamp": 1666733336096,
     "user": {
      "displayName": "Dongyang Wang",
      "userId": "16766972527166923313"
     },
     "user_tz": 420
    },
    "id": "f76bf2d0"
   },
   "source": [
    "Part G\n",
    "\n",
    "Yes, there are border effects at x = +1 and x = -1. For one thing, there are very few observations near x = -1. This makes the small bandwidth 0.1 cover only a small number of points, which can easily lead to higher bias. On the other hand, at x = 1, since there are no other points to the right, the predictions of the Gaussian kernel tends to be a little smaller since within the bandwidth there are quite a few points that take weights but they generally contain smaller y values as compared with points to the very right end of the distribution."
   ]
  },
  {
   "cell_type": "markdown",
   "id": "8ed8897f",
   "metadata": {},
   "source": [
    "Part H\n",
    "\n",
    "The bias observed at x = 0 is exactly 4 due to the calculation that the first derivative of f will be 0 and the bias is determined solely by the second derivative. It appears as a local maximum in our case."
   ]
  },
  {
   "cell_type": "markdown",
   "id": "c79848ab",
   "metadata": {
    "id": "c79848ab"
   },
   "source": [
    "## Problem 4"
   ]
  },
  {
   "cell_type": "markdown",
   "id": "flYoA5HjM47s",
   "metadata": {
    "id": "flYoA5HjM47s"
   },
   "source": [
    "Part A"
   ]
  },
  {
   "cell_type": "markdown",
   "id": "e2748fc6",
   "metadata": {
    "colab": {
     "base_uri": "https://localhost:8080/",
     "height": 60
    },
    "executionInfo": {
     "elapsed": 11,
     "status": "ok",
     "timestamp": 1666734266293,
     "user": {
      "displayName": "Dongyang Wang",
      "userId": "16766972527166923313"
     },
     "user_tz": 420
    },
    "id": "f7324e82",
    "outputId": "4273125d-eeaf-47aa-c103-c75d248d990d"
   },
   "source": [
    "$P(Y = 1| X) = \\frac{P(Y = 1) * P(X| Y = 1) }{P(Y = 1) * P(X| Y = 1)  + P(Y = 0) * P(X| Y = 0) } \n",
    "= \\frac{\\frac{1}{3} \\frac{1}{\\sqrt{2\\pi}} \\exp\\left( -\\frac{1}{2}\\left(\\frac{x-2}{1}\\right)^{\\!2}\\,\\right)} {\\frac{1}{3} \\frac{1}{\\sqrt{2\\pi}} \\exp\\left( -\\frac{1}{2}\\left(\\frac{x-2}{1}\\right)^{\\!2}\\,\\right) + \\frac{2}{3} \\frac{1}{\\sqrt{2\\pi}} \\exp\\left( -\\frac{1}{2}\\left(\\frac{x+1.2}{1}\\right)^{\\!2}\\,\\right)}$"
   ]
  },
  {
   "cell_type": "markdown",
   "id": "o7Km2ph-M8vo",
   "metadata": {
    "id": "o7Km2ph-M8vo"
   },
   "source": [
    "Part B"
   ]
  },
  {
   "cell_type": "markdown",
   "id": "tNlr1uD0M_MN",
   "metadata": {
    "id": "tNlr1uD0M_MN"
   },
   "source": [
    "The following is the Bayes Classifier"
   ]
  },
  {
   "cell_type": "markdown",
   "id": "GL8qIup2JkAS",
   "metadata": {
    "id": "GL8qIup2JkAS"
   },
   "source": [
    "$f^*(x) = 1$ if $P(Y = 1| X) > P(Y = 0| X)$ and $f^*(x) = -1$ otherwise. $P(Y = 1| X) > P(Y = 0| X)$  can also be written as $\\frac{1}{3}  \\exp\\left( -\\frac{1}{2}\\left(\\frac{x-2}{1}\\right)^{\\!2}\\,\\right) > \\frac{2}{3} \\exp\\left( -\\frac{1}{2}\\left(\\frac{x+1.2}{1}\\right)^{\\!2}\\,\\right)$"
   ]
  },
  {
   "cell_type": "markdown",
   "id": "UB-5BpEJNDUu",
   "metadata": {
    "id": "UB-5BpEJNDUu"
   },
   "source": [
    "The following is the Bayes Loss"
   ]
  },
  {
   "cell_type": "markdown",
   "id": "XuoH5OPIPJrf",
   "metadata": {
    "id": "XuoH5OPIPJrf"
   },
   "source": [
    "$L_{01}^* = E_{P_X}(1 - max_yP(Y|X))$ where $P(Y = 1| X) = \\frac{\\frac{1}{3} \\frac{1}{\\sqrt{2\\pi}} \\exp\\left( -\\frac{1}{2}\\left(\\frac{x-2}{1}\\right)^{\\!2}\\,\\right)} {\\frac{1}{3} \\frac{1}{\\sqrt{2\\pi}} \\exp\\left( -\\frac{1}{2}\\left(\\frac{x-2}{1}\\right)^{\\!2}\\,\\right) + \\frac{2}{3} \\frac{1}{\\sqrt{2\\pi}} \\exp\\left( -\\frac{1}{2}\\left(\\frac{x+1.2}{1}\\right)^{\\!2}\\,\\right)}$ and $P(Y = 0| X) =1 - \\frac{\\frac{1}{3} \\frac{1}{\\sqrt{2\\pi}} \\exp\\left( -\\frac{1}{2}\\left(\\frac{x-2}{1}\\right)^{\\!2}\\,\\right)} {\\frac{1}{3} \\frac{1}{\\sqrt{2\\pi}} \\exp\\left( -\\frac{1}{2}\\left(\\frac{x-2}{1}\\right)^{\\!2}\\,\\right) + \\frac{2}{3} \\frac{1}{\\sqrt{2\\pi}} \\exp\\left( -\\frac{1}{2}\\left(\\frac{x+1.2}{1}\\right)^{\\!2}\\,\\right)}$"
   ]
  },
  {
   "cell_type": "markdown",
   "id": "6J_DJRVdR6Sl",
   "metadata": {
    "id": "6J_DJRVdR6Sl"
   },
   "source": [
    "For the numerical integration of L*"
   ]
  },
  {
   "cell_type": "code",
   "execution_count": 147,
   "id": "108a18c0",
   "metadata": {
    "executionInfo": {
     "elapsed": 335,
     "status": "ok",
     "timestamp": 1666734013442,
     "user": {
      "displayName": "Dongyang Wang",
      "userId": "16766972527166923313"
     },
     "user_tz": 420
    },
    "id": "108a18c0"
   },
   "outputs": [],
   "source": [
    "import requests\n",
    "\n",
    "response = requests.get('https://sites.stat.washington.edu/mmp/courses/535/fall22/assignments/hw2-1d-train.dat')\n",
    "hw2_1d = response.text\n",
    "\n",
    "data_by_line = hw2_1d.split('\\n')\n",
    "data_by_line = data_by_line[:len(data_by_line)-1]\n",
    "\n",
    "for i in range(0,len(data_by_line)):\n",
    "    data_by_line[i] = ' '.join(data_by_line[i].split())\n",
    "    data_by_line[i] = data_by_line[i].split(' ')\n",
    "\n",
    "hw2_1d = [0] * len(data_by_line)\n",
    "    \n",
    "for i in range(len(data_by_line)):\n",
    "    hw2_1d[i] = [float(j) for j in data_by_line[i]]\n",
    "\n",
    "d_data = pd.DataFrame(hw2_kr, columns =['x', 'y'])"
   ]
  },
  {
   "cell_type": "code",
   "execution_count": 148,
   "id": "f_FZA58ASAID",
   "metadata": {
    "id": "f_FZA58ASAID"
   },
   "outputs": [],
   "source": [
    "def bayes_loss1(x):\n",
    "    \n",
    "    pos = scipy.stats.norm(2, 1).pdf(x)\n",
    "    neg = scipy.stats.norm(-1.2, 1).pdf(x)\n",
    "    score = 1/3 * pos / (pos*1/3 + neg*2/3)\n",
    "    return min(score, 1-score)"
   ]
  },
  {
   "cell_type": "code",
   "execution_count": 149,
   "id": "06776424",
   "metadata": {},
   "outputs": [],
   "source": [
    "b_loss = 0\n",
    "for i in d_data[\"x\"]:\n",
    "    b_loss += bayes_loss1(i)\n",
    "b_loss = b_loss/len(d_data[\"x\"])"
   ]
  },
  {
   "cell_type": "code",
   "execution_count": 150,
   "id": "6502f24f",
   "metadata": {},
   "outputs": [
    {
     "data": {
      "text/plain": [
       "0.2890278466236203"
      ]
     },
     "execution_count": 150,
     "metadata": {},
     "output_type": "execute_result"
    }
   ],
   "source": [
    "b_loss"
   ]
  },
  {
   "cell_type": "markdown",
   "id": "BwfdyBW3P6jB",
   "metadata": {
    "id": "BwfdyBW3P6jB"
   },
   "source": [
    "As for $\\theta^*$, we derive it by setting $P(Y = 1| X) = P(Y = 0| X)$, that is solving $\\frac{1}{3}  \\exp\\left( -\\frac{1}{2}\\left(\\frac{x-2}{1}\\right)^{\\!2}\\,\\right) = \\frac{2}{3} \\exp\\left( -\\frac{1}{2}\\left(\\frac{x+1.2}{1}\\right)^{\\!2}\\,\\right)$ and we get $ - \\frac{1}{2} (x^2 - 4x + 4) = \\log2 - \\frac{1}{2} (x^2 + 2.4x + 1.44)$ and by calculation, we obtain $\\theta^* = 0.689$."
   ]
  },
  {
   "cell_type": "markdown",
   "id": "kWI0vEk7R5bY",
   "metadata": {
    "id": "kWI0vEk7R5bY"
   },
   "source": [
    "Part C"
   ]
  },
  {
   "cell_type": "code",
   "execution_count": 151,
   "id": "6ae32bf2",
   "metadata": {
    "executionInfo": {
     "elapsed": 7,
     "status": "ok",
     "timestamp": 1666733336220,
     "user": {
      "displayName": "Dongyang Wang",
      "userId": "16766972527166923313"
     },
     "user_tz": 420
    },
    "id": "6ae32bf2"
   },
   "outputs": [],
   "source": [
    "def normal_pos(x):\n",
    "  return 1/3 * 1/(math.sqrt(2*np.pi)) * np.exp(-(x-2)**2/2)\n",
    "\n",
    "def normal_neg(x):\n",
    "  return 2/3 * 1/(math.sqrt(2*np.pi)) * np.exp(-(x+1.2)**2/2)"
   ]
  },
  {
   "cell_type": "code",
   "execution_count": 152,
   "id": "c49b61b4",
   "metadata": {
    "executionInfo": {
     "elapsed": 7,
     "status": "ok",
     "timestamp": 1666733336221,
     "user": {
      "displayName": "Dongyang Wang",
      "userId": "16766972527166923313"
     },
     "user_tz": 420
    },
    "id": "c49b61b4"
   },
   "outputs": [
    {
     "data": {
      "text/plain": [
       "<matplotlib.legend.Legend at 0x7ff5f03ae670>"
      ]
     },
     "execution_count": 152,
     "metadata": {},
     "output_type": "execute_result"
    },
    {
     "data": {
      "image/png": "[encoded data removed]",
      "text/plain": [
       "<Figure size 432x288 with 1 Axes>"
      ]
     },
     "metadata": {
      "needs_background": "light"
     },
     "output_type": "display_data"
    }
   ],
   "source": [
    "x_q4 = np.arange(-5,5,step = 0.01)\n",
    "y_pos = []\n",
    "y_neg = []\n",
    "for i in x_q4:\n",
    "    y_pos.append(normal_pos(i))\n",
    "    y_neg.append(normal_neg(i))\n",
    "\n",
    "plt.plot(x_q4, y_pos, label = 'Positive Scenario')\n",
    "plt.plot(x_q4, y_neg, label = 'Negative Scenario')\n",
    "plt.axvline(x = 0.689, color = 'b', label = 'Theta Hat')\n",
    "plt.axvline(x = 2, color = 'r', label = 'Positive Mean')\n",
    "plt.axvline(x = -1.2, color = 'y', label = 'Negative Mean')\n",
    "plt.legend()"
   ]
  },
  {
   "cell_type": "markdown",
   "id": "UUc5WJlISIw-",
   "metadata": {
    "id": "UUc5WJlISIw-"
   },
   "source": [
    "Part D"
   ]
  },
  {
   "cell_type": "markdown",
   "id": "C3mMgHs3SSKW",
   "metadata": {
    "id": "C3mMgHs3SSKW"
   },
   "source": [
    "With given form of $P(Y=1|X)$ we can set $\n",
    "= \\frac{\\frac{1}{3} \\frac{1}{\\sqrt{2\\pi}} \\exp\\left( -\\frac{1}{2}\\left(\\frac{x-2}{1}\\right)^{\\!2}\\,\\right)} {\\frac{1}{3} \\frac{1}{\\sqrt{2\\pi}} \\exp\\left( -\\frac{1}{2}\\left(\\frac{x-2}{1}\\right)^{\\!2}\\,\\right) + \\frac{2}{3} \\frac{1}{\\sqrt{2\\pi}} \\exp\\left( -\\frac{1}{2}\\left(\\frac{x+1.2}{1}\\right)^{\\!2}\\,\\right)} = \\frac{1}{1+\\exp(ax-b)}$ After simplification, we obtain $\\exp(-\\frac{1}{2}(x- 2)^2 + ax +b) = 2\\exp(-\\frac{1}{2} (x+1.2)^2)$. Solving this, we have $a = -2.72$ and $b = \\log2+0.8$\n"
   ]
  }
 ],
 "metadata": {
  "colab": {
   "collapsed_sections": [],
   "provenance": []
  },
  "kernelspec": {
   "display_name": "Python 3",
   "language": "python",
   "name": "python3"
  },
  "language_info": {
   "codemirror_mode": {
    "name": "ipython",
    "version": 3
   },
   "file_extension": ".py",
   "mimetype": "text/x-python",
   "name": "python",
   "nbconvert_exporter": "python",
   "pygments_lexer": "ipython3",
   "version": "3.8.8"
  }
 },
 "nbformat": 4,
 "nbformat_minor": 5
}
