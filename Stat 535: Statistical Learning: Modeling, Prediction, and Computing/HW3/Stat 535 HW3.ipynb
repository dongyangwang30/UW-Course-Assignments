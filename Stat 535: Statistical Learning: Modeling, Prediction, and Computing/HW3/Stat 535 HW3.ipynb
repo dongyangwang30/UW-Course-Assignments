{
 "cells": [
  {
   "cell_type": "markdown",
   "id": "1f553765",
   "metadata": {},
   "source": [
    "# Stat 535 HW3\n",
    "Dongyang Wang"
   ]
  },
  {
   "cell_type": "code",
   "execution_count": 22,
   "id": "1ff8568a",
   "metadata": {},
   "outputs": [],
   "source": [
    "import numpy as np\n",
    "import matplotlib.pyplot as plt\n",
    "plt.style.use('seaborn-white')\n",
    "%matplotlib inline"
   ]
  },
  {
   "cell_type": "markdown",
   "id": "f011baca",
   "metadata": {},
   "source": [
    "### Problem 1\n",
    "\n",
    "#### a\n",
    "\n",
    "There are 6 quantities I have calculated during HW2 Problem 1. Namely, \n",
    "1. Traning Cost for dataset b: $\\hat{l_b}$\n",
    "2. Testing Cost for dataset b: $L_b$\n",
    "3. Average Training Cost: $\\hat{l}$\n",
    "4. Average Testing Cost: $\\hat{L}$\n",
    "5. Empirical Variance: $V$\n",
    "6. Bayesian Loss: $L^*$\n",
    "\n",
    "Out of these, statistical approximations include: Average Training Cost $\\hat{l}$ is a statistical approximation because it calculates the mean from samples of Traning Cost $\\hat{l_b}$; Average Testing Cost $\\hat{L}$ is a statistical approximation because it calculates the mean from samples of Testing Cost $L_b$. Empirical Variance $V$ can also be regarded as a statistical approximation because it takes the mean of the averaged variance in terms of $p_i$.\n",
    "\n",
    "Also, a numerical approximation is the Bayesian Loss $L^*$. We are trying to calculate the expectation of $1 - max_yP(Y|X)$ which would ideally be integrated but are actually calculated using discretization by obtaining the probability at specific points for the given pdf.\n",
    "\n",
    "#### b\n",
    "If we can change the data generation function, we may choose distributions with bigger gaps in means and smaller variance for the +1 and -1 cases, this would improve the approximation accuracy for the traning costs, reduce the empirical variance, as well as make the Bayes loss better.\n",
    "\n",
    "Otherwise, we can also add in more data points. This would help us get a better decision boundary and improve the approximation accuracy for the errors and the variance. This will not affect the Bayes Loss much.\n",
    "\n",
    "Moreover, we can find the best K. To reduce the training error, we can simply set K =1. But for test error, we can use cross validation for reducing the error. The empirical variance will be reduced accordingly. The Bayes Loss will not be affected though.\n",
    "\n",
    "#### c\n",
    "The Bayesian Loss $L^*$ is exact because it is calculated with the use of normal distribution pdf.\n",
    "\n",
    "\n",
    "#### d\n",
    "No. Even if we increase n to approximately infinity, the Bayes error is not converging to 0 because the density at given points of x will not change because the pdf does not change and therefore will not always provide the correct classification.\n",
    "\n",
    "#### e\n",
    "Yes. With infinite number of observations, the training models would be the same model and therefore the predictions on the test will be identical and the error bars will approach 0.\n",
    "\n",
    "#### f\n",
    "Yes. With infinite number of observations, the training models would be the same model and therefore there will be no variation in the training error and the error bars will approach 0.\n",
    "\n",
    "#### g\n",
    "With a LDA, for example, The Bayes error will not approach 0 as explained above: because the density at given points of x will not change because the pdf does not change and therefore will not always provide the correct classification. The error bars on L will approach 0 because the training models would be the same model and therefore the predictions on the test will be identical. For error bars on l hat, the training models would be the same model and therefore there will be no variation in the training error and the error bars will approach 0.\n",
    "\n",
    "#### h\n",
    "No. The test error does not imply anything about the Bayes Loss, with the latter calculated based on the true distribution of the data generating function.\n",
    "\n",
    "#### i\n",
    "It does not imply zero testing error because the training models are potentially overfitted (e.g., K=1 in KNN); and the variance of model is not necessarily zero because the model can be too sensitive to small changes in the training set and will display huge variance as new data is introduced."
   ]
  },
  {
   "cell_type": "markdown",
   "id": "725fa677",
   "metadata": {},
   "source": [
    "### Problem 2\n",
    "\n",
    "#### a\n",
    "\n",
    "$MISE = C_1 h^4 + C_2 \\frac{1}{n h^d} = C_1 {C_3}^4 n^{-\\frac{4}{d+4}} + C_2\\frac{1}{{C_3}^d n^{1-\\frac{d}{d+4}}} = C_1 {C_3}^4 n^{-\\frac{4}{d+4}} + \\frac{C_2}{{C_3}^d}  n^{-\\frac{4}{d+4}} \\propto n^{-\\frac{4}{d+4}}$\n",
    "\n",
    "Therefore, $\\alpha = -\\frac{4}{d+4}$ and $\\alpha = -\\frac{4}{5}$ when $d=1$\n",
    "\n",
    "#### b\n",
    "\n",
    "$MISE = C_1 h^4 + C_2 \\frac{1}{n h^d} = C_1 {C_3}^4 n^{-\\frac{4}{d+5}} + C_2\\frac{1}{{C_3}^d n^{1-\\frac{d}{d+5}}} = C_1 {C_3}^4 n^{-\\frac{4}{d+5}} + \\frac{C_2}{{C_3}^d}  n^{-\\frac{5}{d+5}} \\propto n^{-\\frac{4}{d+5}}$\n",
    "\n",
    "Therefore, $\\alpha' = -\\frac{4}{d+5}$ and $\\alpha' = -\\frac{4}{6} = -\\frac{2}{3}$ when $d=1$\n",
    "\n",
    "By comparison, $\\alpha < \\alpha'$ so with $\\alpha'$ we converge faster and the choice of $h = C_3 n^{-\\frac{1}{d+5}}$"
   ]
  },
  {
   "cell_type": "markdown",
   "id": "9897062d",
   "metadata": {},
   "source": [
    "### Problem 4\n",
    "\n",
    "#### a\n",
    "\n",
    "$z_1 = \\phi((1 + x_1 - x_2)*20) = \\frac{1}{1 + \\exp(-20 - 20x_1 + 20x_2)}$\n",
    "\n",
    "$z_2 = \\phi((x_1 + x_2)*20) = \\frac{1}{1 + \\exp(- 20 x_1 - 20 x_2)}$\n",
    "\n",
    "$z_3 = \\phi((2 - x_2)*20) = \\frac{1}{1 + \\exp(-40 + 20x_2)}$\n",
    "\n",
    "$z_4 = \\phi((2 - x_1)*20) = \\frac{1}{1 + \\exp(-40 + 20 x_1)}$\n",
    "\n",
    "$z_5 = \\phi((2 -0.5 x_1 + x_2)*20) = \\frac{1}{1 + \\exp(-40 + 10 x_1 - 20 x_2)}$\n",
    "\n",
    "$f(x) = -4.9 + \\frac{1}{1 + \\exp(-20 - 20x_1 + 20x_2)} + \\frac{1}{1 + \\exp(- 20 x_1 - 20 x_2)} + \\frac{1}{1 + \\exp(-40 + 20x_2)} + \\frac{1}{1 + \\exp(-40 + 20 x_1)} + \\frac{1}{1 + \\exp(-40 + 10 x_1 - 20 x_2)}$"
   ]
  },
  {
   "cell_type": "code",
   "execution_count": 48,
   "id": "9eb183b5",
   "metadata": {},
   "outputs": [],
   "source": [
    "def f_x(x1, x2):\n",
    "    part1 = 1/(1+np.exp(-20-20*x1+20*x2))\n",
    "    part2 = 1/(1+np.exp(-20*x1 - 20*x2))\n",
    "    part3 = 1/(1+np.exp(-40+20*x2))\n",
    "    part4 = 1/(1+np.exp(-40+20*x1))\n",
    "    part5 = 1/(1+np.exp(-40+10*x1-20*x2))\n",
    "    return -4.9 + part1 + part2 + part3 + part4 + part5"
   ]
  },
  {
   "cell_type": "code",
   "execution_count": 49,
   "id": "94f78720",
   "metadata": {},
   "outputs": [],
   "source": [
    "x = np.linspace(-10, 10, num = 100)\n",
    "y = np.linspace(-10, 10, num = 100)\n",
    "\n",
    "X, Y = np.meshgrid(x, y)\n",
    "Z = f_x(X, Y)"
   ]
  },
  {
   "cell_type": "code",
   "execution_count": 50,
   "id": "adfe3c50",
   "metadata": {},
   "outputs": [
    {
     "data": {
      "text/plain": [
       "<matplotlib.contour.QuadContourSet at 0x7fea2fc8f430>"
      ]
     },
     "execution_count": 50,
     "metadata": {},
     "output_type": "execute_result"
    },
    {
     "data": {
      "image/png": "[encoded data removed]",
      "text/plain": [
       "<Figure size 640x480 with 1 Axes>"
      ]
     },
     "metadata": {},
     "output_type": "display_data"
    }
   ],
   "source": [
    "plt.contour(X, Y, Z, levels=[0], colors='black')"
   ]
  },
  {
   "cell_type": "markdown",
   "id": "32395306",
   "metadata": {},
   "source": [
    "#### b\n",
    "\n",
    "$f(x) = -3.9 + \\frac{1}{1 + \\exp(-20 - 20x_1 + 20x_2)} + \\frac{1}{1 + \\exp(- 20 x_1 - 20 x_2)} + \\frac{1}{1 + \\exp(-40 + 20x_2)} + \\frac{1}{1 + \\exp(-40 + 20 x_1)} + \\frac{1}{1 + \\exp(-40 + 10 x_1 - 20 x_2)}$"
   ]
  },
  {
   "cell_type": "code",
   "execution_count": 45,
   "id": "622ca8db",
   "metadata": {},
   "outputs": [],
   "source": [
    "def f_x(x1, x2):\n",
    "    part1 = 1/(1+np.exp(-20-20*x1+20*x2))\n",
    "    part2 = 1/(1+np.exp(-20*x1 - 20*x2))\n",
    "    part3 = 1/(1+np.exp(-40+20*x2))\n",
    "    part4 = 1/(1+np.exp(-40+20*x1))\n",
    "    part5 = 1/(1+np.exp(-40+10*x1-20*x2))\n",
    "    return -3.9 + part1 + part2 + part3 + part4 + part5"
   ]
  },
  {
   "cell_type": "code",
   "execution_count": 47,
   "id": "55fccbf5",
   "metadata": {},
   "outputs": [
    {
     "data": {
      "text/plain": [
       "<matplotlib.contour.QuadContourSet at 0x7fea2f9b2370>"
      ]
     },
     "execution_count": 47,
     "metadata": {},
     "output_type": "execute_result"
    },
    {
     "data": {
      "image/png": "[encoded data removed]",
      "text/plain": [
       "<Figure size 640x480 with 1 Axes>"
      ]
     },
     "metadata": {},
     "output_type": "display_data"
    }
   ],
   "source": [
    "x = np.linspace(-10, 10, num = 100)\n",
    "y = np.linspace(-10, 10, num = 100)\n",
    "\n",
    "X, Y = np.meshgrid(x, y)\n",
    "Z = f_x(X, Y)\n",
    "plt.contour(X, Y, Z, levels=[0], colors='black')"
   ]
  }
 ],
 "metadata": {
  "kernelspec": {
   "display_name": "Python 3",
   "language": "python",
   "name": "python3"
  },
  "language_info": {
   "codemirror_mode": {
    "name": "ipython",
    "version": 3
   },
   "file_extension": ".py",
   "mimetype": "text/x-python",
   "name": "python",
   "nbconvert_exporter": "python",
   "pygments_lexer": "ipython3",
   "version": "3.8.8"
  }
 },
 "nbformat": 4,
 "nbformat_minor": 5
}
