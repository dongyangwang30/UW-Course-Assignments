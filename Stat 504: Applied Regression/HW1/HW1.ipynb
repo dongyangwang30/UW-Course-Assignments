{
 "cells": [
  {
   "cell_type": "markdown",
   "metadata": {},
   "source": [
    "---\n",
    "title: HW 1\n",
    "author: Dongyang Wang\n",
    "date: today\n",
    "---"
   ]
  },
  {
   "cell_type": "markdown",
   "metadata": {},
   "source": [
    "# Q1"
   ]
  },
  {
   "cell_type": "code",
   "execution_count": 113,
   "metadata": {},
   "outputs": [
    {
     "data": {
      "text/plain": [
       "[<matplotlib.lines.Line2D at 0x7fee275726a0>]"
      ]
     },
     "execution_count": 113,
     "metadata": {},
     "output_type": "execute_result"
    },
    {
     "data": {
      "image/png": "[encoded data removed]",
      "text/plain": [
       "<Figure size 432x288 with 1 Axes>"
      ]
     },
     "metadata": {
      "needs_background": "light"
     },
     "output_type": "display_data"
    }
   ],
   "source": [
    "import numpy as np\n",
    "from sklearn.linear_model import LinearRegression\n",
    "import matplotlib.pyplot as plt\n",
    "\n",
    "np.random.seed(42)\n",
    "\n",
    "# a\n",
    "x = np.random.normal(size = 100)\n",
    "e = np.random.normal(size = 100)\n",
    "y = 10 + 5*x + e\n",
    "\n",
    "# b\n",
    "x = x.reshape((-1, 1))\n",
    "reg = LinearRegression().fit(x, y)\n",
    "\n",
    "# c\n",
    "plt.plot(x, y, 'o')\n",
    "plt.plot(x, reg.coef_*x+reg.intercept_)\n"
   ]
  },
  {
   "cell_type": "markdown",
   "metadata": {},
   "source": [
    "# Q2\n"
   ]
  },
  {
   "cell_type": "markdown",
   "metadata": {},
   "source": [
    "## a\n",
    "The sample space is {1,2,3,4,5,6}. The event space is the power set of the sample space, including $2^6 = 64$ elements, e.g., 1,2, {1,2}. The probability measure is $P(X= i) = \\frac{1}{6}$ where $i \\in \\{1,2,3,4,5,6\\}$.\n",
    "\n",
    "## b\n",
    "The sample space is {I,D,R}. The event space is {$\\phi$, {I}, {D}, {R}, {I,D}, {I,R}, {D,R}, {I,D,R}}. The probability measure is $P(X = I) = 0.4$, $P(X = R) = 0.2$, $P(X = D) = 0.4$."
   ]
  },
  {
   "cell_type": "markdown",
   "metadata": {},
   "source": [
    "# Q3"
   ]
  },
  {
   "cell_type": "markdown",
   "metadata": {},
   "source": [
    "## 3.1\n",
    "\n",
    "### a\n",
    "\n",
    "$E(X) = \\int_{x} x p(x) \\,dx$\n",
    "\n",
    "### b\n",
    "$Var(X) = E[( X- E(X))^2]$\n",
    "\n",
    "### c\n",
    "\n",
    "\\begin{align*}\n",
    "Var(X) &= E[( X- E(X))^2]\\\\\n",
    "&= E[X^2 + (E(X))^2 - 2XE(X)]\\\\\n",
    "&= E(X^2) + (E(X))^2 - 2(E(X))^2\\\\\n",
    "&= E(X^2) - (E(X))^2\n",
    "\\end{align*}\n",
    "\n",
    "\n",
    "### d\n",
    "$SD[X] = \\sqrt{Var(X)} = \\sqrt{E[( X- E(X))^2]}$\n",
    "\n",
    "### e\n",
    "Let $y = g(x)$, $E(y) = \\Sigma_y y f(y) = \\Sigma_y g(x) P(g(x) = y) = \\Sigma_x g(x) p(x)$.\n",
    "\n",
    "### f\n",
    "$E(a+bX) = \\int_x (a+bX) p(x) \\,dx = \\int_x ap(x) \\,dx + \\int_x bX p(x) \\,dx = a *1 + b * E(x) = a + b E(X)$\n",
    "\n",
    "### g\n",
    "$Var(a + bX) = (E((a+bX) - E(a+bX)))^2 = (E(bX - bE(X)))^2 = (b * E(X - E(X)))^2 = b^2 Var(X)$\n",
    "\n",
    "### h\n",
    "$SD(a+bX) = \\sqrt{Var(a + bX)} =  \\sqrt{b^2 Var(X)} = |b| SD(X)$"
   ]
  },
  {
   "cell_type": "markdown",
   "metadata": {},
   "source": [
    "## 3.2\n",
    "### Markov\n",
    "\n",
    "\\begin{align*}\n",
    "    E(X) &= \\int_0^{\\infty} xp(x) \\,dx\\\\\n",
    "    &= \\int_0^{a} xp(x) \\,dx + \\int_a^{\\infty} xp(x) \\,dx\\\\\n",
    "    &\\geq \\int_a^{\\infty} xp(x) \\,dx\\\\\n",
    "    &\\geq \\int_a^{\\infty} ap(x) \\,dx\\\\\n",
    "    &= a \\int_a^{\\infty} p(x) \\,dx\\\\\n",
    "    &= a P(X \\geq a)\n",
    "\\end{align*}\n",
    "\n",
    "So, $P(X\\geq a) \\leq \\frac{E(X)}{a}$\n",
    "\n",
    "### Chebyshev\n",
    "\n",
    "\\begin{align*}\n",
    "P(|X - E(X)| \\geq k\\sigma) &= P((X - E(X))^2 \\geq k^2\\sigma^2)\\\\\n",
    "&\\leq \\frac{\\sigma^2}{k^2\\sigma^2}\\\\\n",
    "&= \\frac{1}{k^2}\n",
    "\\end{align*}\n",
    "\n",
    "So, $P(|X - E(X)| \\geq k\\sigma) \\leq \\frac{1}{k^2}$ where $\\sigma = SD(X)$."
   ]
  },
  {
   "cell_type": "markdown",
   "metadata": {},
   "source": [
    "## 3.3\n",
    "\n",
    "### a"
   ]
  },
  {
   "cell_type": "code",
   "execution_count": 114,
   "metadata": {},
   "outputs": [
    {
     "data": {
      "text/plain": [
       "[<matplotlib.lines.Line2D at 0x7fee27a5f220>]"
      ]
     },
     "execution_count": 114,
     "metadata": {},
     "output_type": "execute_result"
    },
    {
     "data": {
      "image/png": "[encoded data removed]",
      "text/plain": [
       "<Figure size 432x288 with 1 Axes>"
      ]
     },
     "metadata": {
      "needs_background": "light"
     },
     "output_type": "display_data"
    }
   ],
   "source": [
    "snow = [0,1,2,3,4,5,6,7,10,11,12,15,17,18,23,31]\n",
    "prob = [0.4,0.1,0.08,0.04,0.05,0.04,0.04,0.04,0.02,0.04,0.04,0.02,0.04,0.02,0.02,0.01]\n",
    "\n",
    "# pmf\n",
    "plt.bar(snow,prob)\n",
    "\n",
    "# cdf\n",
    "cdf = prob.copy()\n",
    "for p in range(len(cdf)):\n",
    "    if p == 0:\n",
    "        continue\n",
    "    cdf[p] = cdf[p] + cdf[p-1]\n",
    "\n",
    "plt.plot(snow,cdf)"
   ]
  },
  {
   "cell_type": "markdown",
   "metadata": {},
   "source": [
    "The expectation is the dot product. \n",
    "\n",
    "### b"
   ]
  },
  {
   "cell_type": "code",
   "execution_count": 115,
   "metadata": {},
   "outputs": [
    {
     "data": {
      "text/plain": [
       "4.529999999999999"
      ]
     },
     "execution_count": 115,
     "metadata": {},
     "output_type": "execute_result"
    }
   ],
   "source": [
    "import itertools\n",
    "\n",
    "# E(X)\n",
    "np.dot(snow, prob)"
   ]
  },
  {
   "cell_type": "markdown",
   "metadata": {},
   "source": [
    "The median depends on if there are odd or even number of data. If odd, the median is 1 because that is where 50%% of the data is equal to or below; if even, the median should be 1.5 because 1 and 2 are both used to compute the median. the mode is simply 0, where by observation most data points reside. The variance is calculated below."
   ]
  },
  {
   "cell_type": "code",
   "execution_count": 116,
   "metadata": {},
   "outputs": [
    {
     "data": {
      "text/plain": [
       "40.78909999999999"
      ]
     },
     "execution_count": 116,
     "metadata": {},
     "output_type": "execute_result"
    }
   ],
   "source": [
    "# median\n",
    "1\n",
    "1.5\n",
    "\n",
    "# mode\n",
    "0\n",
    "\n",
    "# Var\n",
    "count = [int(i * 100) for i in prob]\n",
    "count\n",
    "new_snow = []\n",
    "for i in range(len(count)):\n",
    "    new_snow.extend(itertools.repeat(snow[i],count[i]))\n",
    "np.var(new_snow)"
   ]
  },
  {
   "cell_type": "markdown",
   "metadata": {},
   "source": [
    "The 95% is found using index, and the inches is 17."
   ]
  },
  {
   "cell_type": "code",
   "execution_count": 117,
   "metadata": {},
   "outputs": [
    {
     "data": {
      "text/plain": [
       "17"
      ]
     },
     "execution_count": 117,
     "metadata": {},
     "output_type": "execute_result"
    }
   ],
   "source": [
    "# percentile 95%\n",
    "cdf\n",
    "snow[cdf.index(0.9500000000000003)]"
   ]
  },
  {
   "cell_type": "markdown",
   "metadata": {},
   "source": [
    "### c"
   ]
  },
  {
   "cell_type": "code",
   "execution_count": 118,
   "metadata": {},
   "outputs": [
    {
     "data": {
      "text/plain": [
       "0.6"
      ]
     },
     "execution_count": 118,
     "metadata": {},
     "output_type": "execute_result"
    }
   ],
   "source": [
    "1 - prob[0]"
   ]
  },
  {
   "cell_type": "markdown",
   "metadata": {},
   "source": [
    "### d\n",
    "The best predictor I would use is the mode, because I define the best to be the most likely case. And in other words, no snow is my prediction.\n",
    "\n",
    "### e\n",
    "If I use E(X), the expected squared error would be the variance, i.e., (E(X-E(X)))^2.\n",
    "\n",
    "### f\n",
    "A 95% prediction interval should cover 95% of the data. As we have shown above, we know the 95% percentile. So we can simply choose [0,17]."
   ]
  },
  {
   "cell_type": "markdown",
   "metadata": {},
   "source": [
    "# Q4"
   ]
  },
  {
   "cell_type": "markdown",
   "metadata": {},
   "source": [
    "## a\n",
    "$E[(X-c)^2] = (E(X-c))^2 + Var(X-c) = Var(X) + (E(X-c))^2$ since c is constant and Var(X - c) = Var(X).\n",
    "\n",
    "## b\n",
    "$argmin_{c \\in R} E[(X-c)^2]= argmin_{c \\in R}  Var(X) + (E(X-c))^2 = argmin_{c \\in R} (E(X)-c)^2$\n",
    "Since $(E(X)-c)^2 \\geq 0$, we have $(E(X)-c)^2 = 0$ for minimization. That means $E(X) = argmin_{c \\in R} E[(X-c)^2]$.\n",
    "\n",
    "## c\n",
    "We take the derivative and set it equal to 0 to find the minimum. $\\frac{d E(|X-c|)}{d c} = E( \\frac{d |X-c|}{d c} ) = E \\frac{x-c}{|X-c|} = E (I(x \\leq c) + I(x \\geq c)) = 0$. To solve this, we need $I(x \\leq c) = I(x \\geq c)$ which means by definition is $c = Median[X]$, equivalent to $P(X\\leq c) = \\frac{1}{2}$ such that $Median[X] = argmax_{c\\in R} E(|X-c|)$.\n",
    "\n",
    "## d\n",
    "By definition, $Mode[X] = argmax_{c\\in R} P(X=c) = argmax_{c\\in R} P(X-c = 0)$."
   ]
  },
  {
   "cell_type": "markdown",
   "metadata": {},
   "source": [
    "# Q5"
   ]
  },
  {
   "cell_type": "markdown",
   "metadata": {},
   "source": [
    "## 5.1\n",
    "\n",
    "### a\n",
    "$E(a+bX+cY) = E(a) + E(bX) + E(cY) = a + bE(X) + cE(Y)$\n",
    "\n",
    "### b\n",
    "Given some value of x, the expected value of Y.\n",
    "\n",
    "### c\n",
    "Given some value of x, the variance of Y.\n",
    "\n",
    "### d\n",
    "$Cov(X,Y) = E((X - E(X))(Y - E(Y)))$\n",
    "\n",
    "### e\n",
    "$Cov(X,Y) = E((X - E(X))(Y - E(Y))) = E(XY -YE(X) -XE(Y) +E(X)E(Y)) = E(XY) - 2 E(X)E(Y) + E(X)E(Y) = E(XY) - E(X)E(Y)$\n",
    "\n",
    "$Cov(X,X) = E(X^2) -E(X)E(X) = Var(X)$\n",
    "\n",
    "### f\n",
    "$Cov(bX,cY) = E(bXcY) - E(bX)E(cY) = bc(E(XY) - E(X)E(Y)) = bcCov(X,Y)$\n",
    "\n",
    "### g\n",
    "$Var(a + bX + cY) = Var(bX + cY) = Var(bX) + Var(cY) + 2 Cov(bX, cY) = b^2Var(X) + c^2Var(Y) + 2bcCov(X,Y)$\n",
    "\n",
    "### h\n",
    "$Cov(Y+X, Z) = E(YZ + XZ) - E(Y+X)E(Z) = E(YZ) + E(XZ) - E(Y)E(Z) - E(X)E(Z) = Cov(Y, Z) + Cov(X, Z)$\n",
    "\n",
    "### i\n",
    "$Cor(X,Y) = \\frac{Cov(X,Y)}{SD(X)SD(Y)}$\n",
    "\n",
    "### j\n",
    "$Cor(a+bX,c+dY) = \\frac{Cov(a+bX,c+dY) }{SD(a+bX)SD(c+dY)} = \\frac{1}{|b||d|} \\frac{E((a+bX)(c+dY)) - E(a+bX)E(c+dY)}{SD(X)SD(Y)} = \\frac{1}{|b||d|} \\frac{E((bX)(dY)) - E(bX)E(dY)}{SD(X)SD(Y)} = \\frac{bd}{|b||d|} \\frac{E((X)(Y)) - E(X)E(Y)}{SD(X)SD(Y)} = \\frac{bd}{|b||d|} \\frac{Cov(X,Y)}{SD(X)SD(Y)} = \\frac{bd}{|b||d|} Cor(X,Y)$"
   ]
  },
  {
   "cell_type": "markdown",
   "metadata": {},
   "source": [
    "## 5.2"
   ]
  },
  {
   "cell_type": "code",
   "execution_count": 159,
   "metadata": {},
   "outputs": [],
   "source": [
    "with open('data.txt') as text:\n",
    "    data = text.read()\n",
    "data = data.split()\n",
    "data1 = []\n",
    "for i in data:\n",
    "    data1.append(float(i))\n",
    "\n",
    "# check if data is right\n",
    "sum(data1)\n",
    "\n",
    "# reshape\n",
    "data1 = np.reshape(data1, (9,-1))\n",
    "data1\n",
    "\n",
    "# load in X & Y \n",
    "X = '0.5 1.5 2.5 3.5 4.5 5.5 6.7 8.8 12.5 17.5'.split()\n",
    "X = [float(i) for i in X]\n",
    "\n",
    "Y = [-0.25, -0.18, -0.05, 0, 0.05, 0.15, 0.25, 0.4, 0.5]"
   ]
  },
  {
   "cell_type": "markdown",
   "metadata": {},
   "source": [
    "### a\n",
    "Joint distribution describes the probability distribution when there are two or more random variables."
   ]
  },
  {
   "cell_type": "markdown",
   "metadata": {},
   "source": [
    "### b"
   ]
  },
  {
   "cell_type": "code",
   "execution_count": 160,
   "metadata": {},
   "outputs": [
    {
     "data": {
      "text/plain": [
       "[0.07,\n",
       " 0.065,\n",
       " 0.098,\n",
       " 0.208,\n",
       " 0.302,\n",
       " 0.028999999999999998,\n",
       " 0.09500000000000001,\n",
       " 0.07,\n",
       " 0.063]"
      ]
     },
     "execution_count": 160,
     "metadata": {},
     "output_type": "execute_result"
    }
   ],
   "source": [
    "marginal_y = [0]*9\n",
    "marginal_x = [0]*10\n",
    "\n",
    "# marginal y\n",
    "for col in range(len(data1)):\n",
    "    marginal_y[col] = sum(data1[col])\n",
    "\n",
    "marginal_y"
   ]
  },
  {
   "cell_type": "code",
   "execution_count": 161,
   "metadata": {},
   "outputs": [
    {
     "data": {
      "text/plain": [
       "[0.041,\n",
       " 0.09299999999999999,\n",
       " 0.093,\n",
       " 0.08200000000000002,\n",
       " 0.11299999999999999,\n",
       " 0.10300000000000001,\n",
       " 0.15500000000000003,\n",
       " 0.15500000000000003,\n",
       " 0.11300000000000002,\n",
       " 0.05200000000000001]"
      ]
     },
     "execution_count": 161,
     "metadata": {},
     "output_type": "execute_result"
    }
   ],
   "source": [
    "# marginal x\n",
    "for i in range(len(data1)):\n",
    "    for j in range(len(data1[i])):\n",
    "        marginal_x[j] += data1[i][j]\n",
    "\n",
    "marginal_x"
   ]
  },
  {
   "cell_type": "markdown",
   "metadata": {},
   "source": [
    "### c"
   ]
  },
  {
   "cell_type": "code",
   "execution_count": 162,
   "metadata": {},
   "outputs": [
    {
     "data": {
      "text/html": [
       "<div>\n",
       "<style scoped>\n",
       "    .dataframe tbody tr th:only-of-type {\n",
       "        vertical-align: middle;\n",
       "    }\n",
       "\n",
       "    .dataframe tbody tr th {\n",
       "        vertical-align: top;\n",
       "    }\n",
       "\n",
       "    .dataframe thead th {\n",
       "        text-align: right;\n",
       "    }\n",
       "</style>\n",
       "<table border=\"1\" class=\"dataframe\">\n",
       "  <thead>\n",
       "    <tr style=\"text-align: right;\">\n",
       "      <th></th>\n",
       "      <th>0.5</th>\n",
       "      <th>1.5</th>\n",
       "      <th>2.5</th>\n",
       "      <th>3.5</th>\n",
       "      <th>4.5</th>\n",
       "      <th>5.5</th>\n",
       "      <th>6.7</th>\n",
       "      <th>8.8</th>\n",
       "      <th>12.5</th>\n",
       "      <th>17.5</th>\n",
       "    </tr>\n",
       "  </thead>\n",
       "  <tbody>\n",
       "    <tr>\n",
       "      <th>0.50</th>\n",
       "      <td>0.001</td>\n",
       "      <td>0.011</td>\n",
       "      <td>0.007</td>\n",
       "      <td>0.006</td>\n",
       "      <td>0.005</td>\n",
       "      <td>0.005</td>\n",
       "      <td>0.008</td>\n",
       "      <td>0.009</td>\n",
       "      <td>0.014</td>\n",
       "      <td>0.004</td>\n",
       "    </tr>\n",
       "    <tr>\n",
       "      <th>0.40</th>\n",
       "      <td>0.001</td>\n",
       "      <td>0.002</td>\n",
       "      <td>0.006</td>\n",
       "      <td>0.007</td>\n",
       "      <td>0.010</td>\n",
       "      <td>0.007</td>\n",
       "      <td>0.008</td>\n",
       "      <td>0.009</td>\n",
       "      <td>0.008</td>\n",
       "      <td>0.007</td>\n",
       "    </tr>\n",
       "    <tr>\n",
       "      <th>0.25</th>\n",
       "      <td>0.002</td>\n",
       "      <td>0.006</td>\n",
       "      <td>0.004</td>\n",
       "      <td>0.007</td>\n",
       "      <td>0.010</td>\n",
       "      <td>0.011</td>\n",
       "      <td>0.020</td>\n",
       "      <td>0.019</td>\n",
       "      <td>0.013</td>\n",
       "      <td>0.006</td>\n",
       "    </tr>\n",
       "    <tr>\n",
       "      <th>0.15</th>\n",
       "      <td>0.002</td>\n",
       "      <td>0.009</td>\n",
       "      <td>0.009</td>\n",
       "      <td>0.012</td>\n",
       "      <td>0.016</td>\n",
       "      <td>0.020</td>\n",
       "      <td>0.042</td>\n",
       "      <td>0.054</td>\n",
       "      <td>0.024</td>\n",
       "      <td>0.020</td>\n",
       "    </tr>\n",
       "    <tr>\n",
       "      <th>0.05</th>\n",
       "      <td>0.010</td>\n",
       "      <td>0.023</td>\n",
       "      <td>0.033</td>\n",
       "      <td>0.031</td>\n",
       "      <td>0.041</td>\n",
       "      <td>0.029</td>\n",
       "      <td>0.047</td>\n",
       "      <td>0.039</td>\n",
       "      <td>0.042</td>\n",
       "      <td>0.007</td>\n",
       "    </tr>\n",
       "    <tr>\n",
       "      <th>0.00</th>\n",
       "      <td>0.013</td>\n",
       "      <td>0.013</td>\n",
       "      <td>0.000</td>\n",
       "      <td>0.002</td>\n",
       "      <td>0.001</td>\n",
       "      <td>0.000</td>\n",
       "      <td>0.000</td>\n",
       "      <td>0.000</td>\n",
       "      <td>0.000</td>\n",
       "      <td>0.000</td>\n",
       "    </tr>\n",
       "    <tr>\n",
       "      <th>-0.05</th>\n",
       "      <td>0.001</td>\n",
       "      <td>0.012</td>\n",
       "      <td>0.011</td>\n",
       "      <td>0.005</td>\n",
       "      <td>0.012</td>\n",
       "      <td>0.016</td>\n",
       "      <td>0.017</td>\n",
       "      <td>0.014</td>\n",
       "      <td>0.004</td>\n",
       "      <td>0.003</td>\n",
       "    </tr>\n",
       "    <tr>\n",
       "      <th>-0.18</th>\n",
       "      <td>0.002</td>\n",
       "      <td>0.008</td>\n",
       "      <td>0.013</td>\n",
       "      <td>0.006</td>\n",
       "      <td>0.009</td>\n",
       "      <td>0.008</td>\n",
       "      <td>0.008</td>\n",
       "      <td>0.008</td>\n",
       "      <td>0.006</td>\n",
       "      <td>0.002</td>\n",
       "    </tr>\n",
       "    <tr>\n",
       "      <th>-0.25</th>\n",
       "      <td>0.009</td>\n",
       "      <td>0.009</td>\n",
       "      <td>0.010</td>\n",
       "      <td>0.006</td>\n",
       "      <td>0.009</td>\n",
       "      <td>0.007</td>\n",
       "      <td>0.005</td>\n",
       "      <td>0.003</td>\n",
       "      <td>0.002</td>\n",
       "      <td>0.003</td>\n",
       "    </tr>\n",
       "  </tbody>\n",
       "</table>\n",
       "</div>"
      ],
      "text/plain": [
       "        0.5    1.5    2.5    3.5    4.5    5.5    6.7    8.8    12.5   17.5\n",
       " 0.50  0.001  0.011  0.007  0.006  0.005  0.005  0.008  0.009  0.014  0.004\n",
       " 0.40  0.001  0.002  0.006  0.007  0.010  0.007  0.008  0.009  0.008  0.007\n",
       " 0.25  0.002  0.006  0.004  0.007  0.010  0.011  0.020  0.019  0.013  0.006\n",
       " 0.15  0.002  0.009  0.009  0.012  0.016  0.020  0.042  0.054  0.024  0.020\n",
       " 0.05  0.010  0.023  0.033  0.031  0.041  0.029  0.047  0.039  0.042  0.007\n",
       " 0.00  0.013  0.013  0.000  0.002  0.001  0.000  0.000  0.000  0.000  0.000\n",
       "-0.05  0.001  0.012  0.011  0.005  0.012  0.016  0.017  0.014  0.004  0.003\n",
       "-0.18  0.002  0.008  0.013  0.006  0.009  0.008  0.008  0.008  0.006  0.002\n",
       "-0.25  0.009  0.009  0.010  0.006  0.009  0.007  0.005  0.003  0.002  0.003"
      ]
     },
     "execution_count": 162,
     "metadata": {},
     "output_type": "execute_result"
    }
   ],
   "source": [
    "import pandas as pd\n",
    "data2 = pd.DataFrame(data1)\n",
    "data2.columns = X\n",
    "data2.index = Y[::-1]\n",
    "\n",
    "data2"
   ]
  },
  {
   "cell_type": "code",
   "execution_count": 163,
   "metadata": {},
   "outputs": [
    {
     "data": {
      "text/html": [
       "<div>\n",
       "<style scoped>\n",
       "    .dataframe tbody tr th:only-of-type {\n",
       "        vertical-align: middle;\n",
       "    }\n",
       "\n",
       "    .dataframe tbody tr th {\n",
       "        vertical-align: top;\n",
       "    }\n",
       "\n",
       "    .dataframe thead th {\n",
       "        text-align: right;\n",
       "    }\n",
       "</style>\n",
       "<table border=\"1\" class=\"dataframe\">\n",
       "  <thead>\n",
       "    <tr style=\"text-align: right;\">\n",
       "      <th></th>\n",
       "      <th>0</th>\n",
       "      <th>1</th>\n",
       "      <th>2</th>\n",
       "      <th>3</th>\n",
       "      <th>4</th>\n",
       "      <th>5</th>\n",
       "      <th>6</th>\n",
       "      <th>7</th>\n",
       "      <th>8</th>\n",
       "      <th>9</th>\n",
       "    </tr>\n",
       "  </thead>\n",
       "  <tbody>\n",
       "    <tr>\n",
       "      <th>0</th>\n",
       "      <td>0.024390</td>\n",
       "      <td>0.118280</td>\n",
       "      <td>0.075269</td>\n",
       "      <td>0.073171</td>\n",
       "      <td>0.044248</td>\n",
       "      <td>0.048544</td>\n",
       "      <td>0.051613</td>\n",
       "      <td>0.058065</td>\n",
       "      <td>0.123894</td>\n",
       "      <td>0.076923</td>\n",
       "    </tr>\n",
       "    <tr>\n",
       "      <th>1</th>\n",
       "      <td>0.024390</td>\n",
       "      <td>0.021505</td>\n",
       "      <td>0.064516</td>\n",
       "      <td>0.085366</td>\n",
       "      <td>0.088496</td>\n",
       "      <td>0.067961</td>\n",
       "      <td>0.051613</td>\n",
       "      <td>0.058065</td>\n",
       "      <td>0.070796</td>\n",
       "      <td>0.134615</td>\n",
       "    </tr>\n",
       "    <tr>\n",
       "      <th>2</th>\n",
       "      <td>0.048780</td>\n",
       "      <td>0.064516</td>\n",
       "      <td>0.043011</td>\n",
       "      <td>0.085366</td>\n",
       "      <td>0.088496</td>\n",
       "      <td>0.106796</td>\n",
       "      <td>0.129032</td>\n",
       "      <td>0.122581</td>\n",
       "      <td>0.115044</td>\n",
       "      <td>0.115385</td>\n",
       "    </tr>\n",
       "    <tr>\n",
       "      <th>3</th>\n",
       "      <td>0.048780</td>\n",
       "      <td>0.096774</td>\n",
       "      <td>0.096774</td>\n",
       "      <td>0.146341</td>\n",
       "      <td>0.141593</td>\n",
       "      <td>0.194175</td>\n",
       "      <td>0.270968</td>\n",
       "      <td>0.348387</td>\n",
       "      <td>0.212389</td>\n",
       "      <td>0.384615</td>\n",
       "    </tr>\n",
       "    <tr>\n",
       "      <th>4</th>\n",
       "      <td>0.243902</td>\n",
       "      <td>0.247312</td>\n",
       "      <td>0.354839</td>\n",
       "      <td>0.378049</td>\n",
       "      <td>0.362832</td>\n",
       "      <td>0.281553</td>\n",
       "      <td>0.303226</td>\n",
       "      <td>0.251613</td>\n",
       "      <td>0.371681</td>\n",
       "      <td>0.134615</td>\n",
       "    </tr>\n",
       "    <tr>\n",
       "      <th>5</th>\n",
       "      <td>0.317073</td>\n",
       "      <td>0.139785</td>\n",
       "      <td>0.000000</td>\n",
       "      <td>0.024390</td>\n",
       "      <td>0.008850</td>\n",
       "      <td>0.000000</td>\n",
       "      <td>0.000000</td>\n",
       "      <td>0.000000</td>\n",
       "      <td>0.000000</td>\n",
       "      <td>0.000000</td>\n",
       "    </tr>\n",
       "    <tr>\n",
       "      <th>6</th>\n",
       "      <td>0.024390</td>\n",
       "      <td>0.129032</td>\n",
       "      <td>0.118280</td>\n",
       "      <td>0.060976</td>\n",
       "      <td>0.106195</td>\n",
       "      <td>0.155340</td>\n",
       "      <td>0.109677</td>\n",
       "      <td>0.090323</td>\n",
       "      <td>0.035398</td>\n",
       "      <td>0.057692</td>\n",
       "    </tr>\n",
       "    <tr>\n",
       "      <th>7</th>\n",
       "      <td>0.048780</td>\n",
       "      <td>0.086022</td>\n",
       "      <td>0.139785</td>\n",
       "      <td>0.073171</td>\n",
       "      <td>0.079646</td>\n",
       "      <td>0.077670</td>\n",
       "      <td>0.051613</td>\n",
       "      <td>0.051613</td>\n",
       "      <td>0.053097</td>\n",
       "      <td>0.038462</td>\n",
       "    </tr>\n",
       "    <tr>\n",
       "      <th>8</th>\n",
       "      <td>0.219512</td>\n",
       "      <td>0.096774</td>\n",
       "      <td>0.107527</td>\n",
       "      <td>0.073171</td>\n",
       "      <td>0.079646</td>\n",
       "      <td>0.067961</td>\n",
       "      <td>0.032258</td>\n",
       "      <td>0.019355</td>\n",
       "      <td>0.017699</td>\n",
       "      <td>0.057692</td>\n",
       "    </tr>\n",
       "  </tbody>\n",
       "</table>\n",
       "</div>"
      ],
      "text/plain": [
       "          0         1         2         3         4         5         6  \\\n",
       "0  0.024390  0.118280  0.075269  0.073171  0.044248  0.048544  0.051613   \n",
       "1  0.024390  0.021505  0.064516  0.085366  0.088496  0.067961  0.051613   \n",
       "2  0.048780  0.064516  0.043011  0.085366  0.088496  0.106796  0.129032   \n",
       "3  0.048780  0.096774  0.096774  0.146341  0.141593  0.194175  0.270968   \n",
       "4  0.243902  0.247312  0.354839  0.378049  0.362832  0.281553  0.303226   \n",
       "5  0.317073  0.139785  0.000000  0.024390  0.008850  0.000000  0.000000   \n",
       "6  0.024390  0.129032  0.118280  0.060976  0.106195  0.155340  0.109677   \n",
       "7  0.048780  0.086022  0.139785  0.073171  0.079646  0.077670  0.051613   \n",
       "8  0.219512  0.096774  0.107527  0.073171  0.079646  0.067961  0.032258   \n",
       "\n",
       "          7         8         9  \n",
       "0  0.058065  0.123894  0.076923  \n",
       "1  0.058065  0.070796  0.134615  \n",
       "2  0.122581  0.115044  0.115385  \n",
       "3  0.348387  0.212389  0.384615  \n",
       "4  0.251613  0.371681  0.134615  \n",
       "5  0.000000  0.000000  0.000000  \n",
       "6  0.090323  0.035398  0.057692  \n",
       "7  0.051613  0.053097  0.038462  \n",
       "8  0.019355  0.017699  0.057692  "
      ]
     },
     "execution_count": 163,
     "metadata": {},
     "output_type": "execute_result"
    }
   ],
   "source": [
    "total_prob_x = [0]*10\n",
    "for i in range(len(data1)):\n",
    "    for j in range(len(data1[i])):\n",
    "        total_prob_x[j] += data1[i][j]\n",
    "\n",
    "data3 = data1.copy()\n",
    "\n",
    "for i in range(len(data3)):\n",
    "    for j in range(len(data3[i])):\n",
    "        data3[i,j] = data3[i][j]/total_prob_x[j]\n",
    "\n",
    "# verified that columns sum up to 1\n",
    "pd.DataFrame(data3).sum(axis = 0)\n",
    "\n",
    "pd.DataFrame(data3)"
   ]
  },
  {
   "cell_type": "markdown",
   "metadata": {},
   "source": [
    "Above is the conditional distribution of Y given X, each probability means that for a given X=x, Y takes on a certain probability."
   ]
  },
  {
   "cell_type": "markdown",
   "metadata": {},
   "source": [
    "### d"
   ]
  },
  {
   "cell_type": "code",
   "execution_count": 164,
   "metadata": {},
   "outputs": [
    {
     "data": {
      "text/plain": [
       "[0.1821951219512195,\n",
       " 0.11172043010752689,\n",
       " 0.12440860215053764,\n",
       " 0.06573170731707317,\n",
       " 0.08628318584070796,\n",
       " 0.08825242718446602,\n",
       " 0.05070967741935484,\n",
       " 0.03438709677419355,\n",
       " 0.00805309734513275,\n",
       " 0.01615384615384615]"
      ]
     },
     "execution_count": 164,
     "metadata": {},
     "output_type": "execute_result"
    }
   ],
   "source": [
    "cond_expectation = [0]*10\n",
    "\n",
    "for i in range(10):\n",
    "    for j in range(9):\n",
    "        cond_expectation[i] += data3[j,i] * Y[j]\n",
    "\n",
    "# conditional expectation\n",
    "cond_expectation"
   ]
  },
  {
   "cell_type": "code",
   "execution_count": 165,
   "metadata": {},
   "outputs": [
    {
     "data": {
      "text/plain": [
       "0.06859999999999998"
      ]
     },
     "execution_count": 165,
     "metadata": {},
     "output_type": "execute_result"
    }
   ],
   "source": [
    "# expectation with conditional\n",
    "total = 0\n",
    "for i in range(10):\n",
    "    total += total_prob_x[i] * cond_expectation[i]\n",
    "\n",
    "total"
   ]
  },
  {
   "cell_type": "code",
   "execution_count": 166,
   "metadata": {},
   "outputs": [
    {
     "data": {
      "text/plain": [
       "0.06860000000000001"
      ]
     },
     "execution_count": 166,
     "metadata": {},
     "output_type": "execute_result"
    }
   ],
   "source": [
    "# expectation without conditional\n",
    "total1 = 0\n",
    "y = Y[::-1]\n",
    "for i in range(10):\n",
    "    for j in range(9):\n",
    "        total1 += data1[j][i] * Y[j]\n",
    "\n",
    "total1"
   ]
  },
  {
   "cell_type": "markdown",
   "metadata": {},
   "source": [
    "The results from both calculations are the same (although there are some round off errors). So we have shown $E(E(Y|X)) = E(Y)$."
   ]
  },
  {
   "cell_type": "markdown",
   "metadata": {},
   "source": [
    "### e & f"
   ]
  },
  {
   "cell_type": "code",
   "execution_count": 167,
   "metadata": {},
   "outputs": [
    {
     "data": {
      "text/plain": [
       "array([[ 1., 11.,  7.,  6.,  5.,  5.,  8.,  9., 14.,  4.],\n",
       "       [ 1.,  2.,  6.,  7., 10.,  7.,  8.,  9.,  8.,  7.],\n",
       "       [ 2.,  6.,  4.,  7., 10., 11., 20., 19., 13.,  6.],\n",
       "       [ 2.,  9.,  9., 12., 16., 20., 42., 54., 24., 20.],\n",
       "       [10., 23., 33., 31., 41., 29., 47., 39., 42.,  7.],\n",
       "       [13., 13.,  0.,  2.,  1.,  0.,  0.,  0.,  0.,  0.],\n",
       "       [ 1., 12., 11.,  5., 12., 16., 17., 14.,  4.,  3.],\n",
       "       [ 2.,  8., 13.,  6.,  9.,  8.,  8.,  8.,  6.,  2.],\n",
       "       [ 9.,  9., 10.,  6.,  9.,  7.,  5.,  3.,  2.,  3.]])"
      ]
     },
     "execution_count": 167,
     "metadata": {},
     "output_type": "execute_result"
    }
   ],
   "source": [
    "# Use probability to produce some data points for the actual regression\n",
    "data4 = data1.copy()\n",
    "data5 = data4*1000\n",
    "data5"
   ]
  },
  {
   "cell_type": "code",
   "execution_count": 168,
   "metadata": {},
   "outputs": [
    {
     "data": {
      "text/plain": [
       "1000"
      ]
     },
     "execution_count": 168,
     "metadata": {},
     "output_type": "execute_result"
    }
   ],
   "source": [
    "reg_x = []\n",
    "reg_y = []\n",
    "for i in range(9):\n",
    "    for j in range(10):\n",
    "        if data5[i,j] != 0:\n",
    "            reg_x.extend(itertools.repeat(X[j], int(data5[i,j])))\n",
    "            reg_y.extend(itertools.repeat(Y[i], int(data5[i,j])))             \n",
    "\n",
    "# lengths are 1000, seem right\n",
    "len(reg_x)\n",
    "len(reg_y)"
   ]
  },
  {
   "cell_type": "code",
   "execution_count": 172,
   "metadata": {},
   "outputs": [
    {
     "data": {
      "text/plain": [
       "[<matplotlib.lines.Line2D at 0x7fee297a5d90>]"
      ]
     },
     "execution_count": 172,
     "metadata": {},
     "output_type": "execute_result"
    },
    {
     "data": {
      "image/png": "[encoded data removed]",
      "text/plain": [
       "<Figure size 432x288 with 1 Axes>"
      ]
     },
     "metadata": {
      "needs_background": "light"
     },
     "output_type": "display_data"
    }
   ],
   "source": [
    "import statsmodels.api as sm\n",
    "# add a constant to covariates\n",
    "x  = sm.add_constant(reg_x)\n",
    "\n",
    "ols = sm.OLS(reg_y, x)\n",
    "ols_fit = ols.fit()\n",
    "\n",
    "# create predicted values\n",
    "yhat = ols_fit.predict()\n",
    "\n",
    "# Cite: https://stackoverflow.com/questions/8671808/matplotlib-avoiding-overlapping-datapoints-in-a-scatter-dot-beeswarm-plot\n",
    "def rand_jitter(arr):\n",
    "    stdev = .01 * (max(arr) - min(arr))\n",
    "    return arr + np.random.randn(len(arr)) * stdev\n",
    "\n",
    "# regression plot\n",
    "plt.scatter(rand_jitter(reg_x), rand_jitter(reg_y))\n",
    "plt.plot(reg_x, yhat, color = 'black')\n",
    "\n",
    "# Conditional expectation\n",
    "plt.plot(X, cond_expectation, color = 'blue')"
   ]
  },
  {
   "cell_type": "markdown",
   "metadata": {},
   "source": [
    "Therefore, we can observe that the black regression line (BLP) is pretty close to the conditional expectation blue line (CEF)."
   ]
  }
 ],
 "metadata": {
  "interpreter": {
   "hash": "40d3a090f54c6569ab1632332b64b2c03c39dcf918b08424e98f38b5ae0af88f"
  },
  "kernelspec": {
   "display_name": "Python 3.8.8 64-bit",
   "name": "python3"
  },
  "language_info": {
   "codemirror_mode": {
    "name": "ipython",
    "version": 3
   },
   "file_extension": ".py",
   "mimetype": "text/x-python",
   "name": "python",
   "nbconvert_exporter": "python",
   "pygments_lexer": "ipython3",
   "version": "3.8.8"
  },
  "orig_nbformat": 4
 },
 "nbformat": 4,
 "nbformat_minor": 2
}
