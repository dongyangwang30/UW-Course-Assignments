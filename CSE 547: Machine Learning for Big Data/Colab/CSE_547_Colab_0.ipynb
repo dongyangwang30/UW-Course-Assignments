{
  "cells": [
    {
      "cell_type": "markdown",
      "metadata": {
        "id": "GTwDFnjHMk25"
      },
      "source": [
        "# CSE547 - Colab 0\n",
        "## Spark Tutorial\n",
        "\n",
        "In this tutorial we will learn how to use [Apache Spark](https://spark.apache.org) in local mode on a Colab enviroment.\n",
        "\n",
        "This is adapted from the Spark Tutorial used in the Applied Data Analysis class at EPFL taught by [Tiziano Piccardi](http://piccardi.me/), which was in turn adapted From Stanford's CS246."
      ]
    },
    {
      "cell_type": "markdown",
      "metadata": {
        "id": "eXQzA01OS_yQ"
      },
      "source": [
        "### Setup"
      ]
    },
    {
      "cell_type": "markdown",
      "metadata": {
        "id": "AbYZoVVWOZA5"
      },
      "source": [
        "We'll begin by setting Spark on your Colab environment.  Run the cell below!"
      ]
    },
    {
      "cell_type": "code",
      "execution_count": null,
      "metadata": {
        "id": "dhzk3GE6S9RC",
        "outputId": "88351846-2b1a-4745-cf82-569353d07a4c",
        "colab": {
          "base_uri": "https://localhost:8080/"
        }
      },
      "outputs": [
        {
          "output_type": "stream",
          "name": "stdout",
          "text": [
            "Looking in indexes: https://pypi.org/simple, https://us-python.pkg.dev/colab-wheels/public/simple/\n",
            "Collecting pyspark\n",
            "  Downloading pyspark-3.3.1.tar.gz (281.4 MB)\n",
            "\u001b[2K     \u001b[90m━━━━━━━━━━━━━━━━━━━━━━━━━━━━━━━━━━━━━━━\u001b[0m \u001b[32m281.4/281.4 MB\u001b[0m \u001b[31m4.3 MB/s\u001b[0m eta \u001b[36m0:00:00\u001b[0m\n",
            "\u001b[?25h  Preparing metadata (setup.py) ... \u001b[?25l\u001b[?25hdone\n",
            "Collecting py4j==0.10.9.5\n",
            "  Downloading py4j-0.10.9.5-py2.py3-none-any.whl (199 kB)\n",
            "\u001b[2K     \u001b[90m━━━━━━━━━━━━━━━━━━━━━━━━━━━━━━━━━━━━━━\u001b[0m \u001b[32m199.7/199.7 KB\u001b[0m \u001b[31m14.4 MB/s\u001b[0m eta \u001b[36m0:00:00\u001b[0m\n",
            "\u001b[?25hBuilding wheels for collected packages: pyspark\n",
            "  Building wheel for pyspark (setup.py) ... \u001b[?25l\u001b[?25hdone\n",
            "  Created wheel for pyspark: filename=pyspark-3.3.1-py2.py3-none-any.whl size=281845512 sha256=ce3a98ebec63895beddf1d6d23cb697f545a07b7a83648dfac54d9959205b4a4\n",
            "  Stored in directory: /root/.cache/pip/wheels/43/dc/11/ec201cd671da62fa9c5cc77078235e40722170ceba231d7598\n",
            "Successfully built pyspark\n",
            "Installing collected packages: py4j, pyspark\n",
            "Successfully installed py4j-0.10.9.5 pyspark-3.3.1\n",
            "Get:1 http://security.ubuntu.com/ubuntu bionic-security InRelease [88.7 kB]\n",
            "Get:2 https://cloud.r-project.org/bin/linux/ubuntu bionic-cran40/ InRelease [3,626 B]\n",
            "Ign:3 https://developer.download.nvidia.com/compute/machine-learning/repos/ubuntu1804/x86_64  InRelease\n",
            "Hit:4 http://archive.ubuntu.com/ubuntu bionic InRelease\n",
            "Hit:5 http://ppa.launchpad.net/c2d4u.team/c2d4u4.0+/ubuntu bionic InRelease\n",
            "Hit:6 https://developer.download.nvidia.com/compute/cuda/repos/ubuntu1804/x86_64  InRelease\n",
            "Hit:7 https://developer.download.nvidia.com/compute/machine-learning/repos/ubuntu1804/x86_64  Release\n",
            "Get:8 http://archive.ubuntu.com/ubuntu bionic-updates InRelease [88.7 kB]\n",
            "Hit:9 http://ppa.launchpad.net/cran/libgit2/ubuntu bionic InRelease\n",
            "Hit:10 http://ppa.launchpad.net/deadsnakes/ppa/ubuntu bionic InRelease\n",
            "Get:11 http://archive.ubuntu.com/ubuntu bionic-backports InRelease [83.3 kB]\n",
            "Get:12 http://security.ubuntu.com/ubuntu bionic-security/restricted amd64 Packages [1,351 kB]\n",
            "Hit:13 http://ppa.launchpad.net/graphics-drivers/ppa/ubuntu bionic InRelease\n",
            "Get:14 http://security.ubuntu.com/ubuntu bionic-security/universe amd64 Packages [1,573 kB]\n",
            "Get:15 http://security.ubuntu.com/ubuntu bionic-security/main amd64 Packages [3,129 kB]\n",
            "Get:17 http://archive.ubuntu.com/ubuntu bionic-updates/restricted amd64 Packages [1,392 kB]\n",
            "Get:18 http://archive.ubuntu.com/ubuntu bionic-updates/main amd64 Packages [3,552 kB]\n",
            "Get:19 http://archive.ubuntu.com/ubuntu bionic-updates/universe amd64 Packages [2,348 kB]\n",
            "Fetched 13.6 MB in 3s (4,250 kB/s)\n",
            "Reading package lists... Done\n",
            "Building dependency tree       \n",
            "Reading state information... Done\n",
            "23 packages can be upgraded. Run 'apt list --upgradable' to see them.\n",
            "The following package was automatically installed and is no longer required:\n",
            "  libnvidia-common-460\n",
            "Use 'apt autoremove' to remove it.\n",
            "The following additional packages will be installed:\n",
            "  openjdk-8-jre-headless\n",
            "Suggested packages:\n",
            "  openjdk-8-demo openjdk-8-source libnss-mdns fonts-dejavu-extra\n",
            "  fonts-ipafont-gothic fonts-ipafont-mincho fonts-wqy-microhei\n",
            "  fonts-wqy-zenhei fonts-indic\n",
            "The following NEW packages will be installed:\n",
            "  openjdk-8-jdk-headless openjdk-8-jre-headless\n",
            "0 upgraded, 2 newly installed, 0 to remove and 23 not upgraded.\n",
            "Need to get 36.6 MB of archives.\n",
            "After this operation, 143 MB of additional disk space will be used.\n",
            "Selecting previously unselected package openjdk-8-jre-headless:amd64.\n",
            "(Reading database ... 124016 files and directories currently installed.)\n",
            "Preparing to unpack .../openjdk-8-jre-headless_8u352-ga-1~18.04_amd64.deb ...\n",
            "Unpacking openjdk-8-jre-headless:amd64 (8u352-ga-1~18.04) ...\n",
            "Selecting previously unselected package openjdk-8-jdk-headless:amd64.\n",
            "Preparing to unpack .../openjdk-8-jdk-headless_8u352-ga-1~18.04_amd64.deb ...\n",
            "Unpacking openjdk-8-jdk-headless:amd64 (8u352-ga-1~18.04) ...\n",
            "Setting up openjdk-8-jre-headless:amd64 (8u352-ga-1~18.04) ...\n",
            "update-alternatives: using /usr/lib/jvm/java-8-openjdk-amd64/jre/bin/orbd to provide /usr/bin/orbd (orbd) in auto mode\n",
            "update-alternatives: using /usr/lib/jvm/java-8-openjdk-amd64/jre/bin/servertool to provide /usr/bin/servertool (servertool) in auto mode\n",
            "update-alternatives: using /usr/lib/jvm/java-8-openjdk-amd64/jre/bin/tnameserv to provide /usr/bin/tnameserv (tnameserv) in auto mode\n",
            "Setting up openjdk-8-jdk-headless:amd64 (8u352-ga-1~18.04) ...\n",
            "update-alternatives: using /usr/lib/jvm/java-8-openjdk-amd64/bin/idlj to provide /usr/bin/idlj (idlj) in auto mode\n",
            "update-alternatives: using /usr/lib/jvm/java-8-openjdk-amd64/bin/wsimport to provide /usr/bin/wsimport (wsimport) in auto mode\n",
            "update-alternatives: using /usr/lib/jvm/java-8-openjdk-amd64/bin/jsadebugd to provide /usr/bin/jsadebugd (jsadebugd) in auto mode\n",
            "update-alternatives: using /usr/lib/jvm/java-8-openjdk-amd64/bin/native2ascii to provide /usr/bin/native2ascii (native2ascii) in auto mode\n",
            "update-alternatives: using /usr/lib/jvm/java-8-openjdk-amd64/bin/javah to provide /usr/bin/javah (javah) in auto mode\n",
            "update-alternatives: using /usr/lib/jvm/java-8-openjdk-amd64/bin/clhsdb to provide /usr/bin/clhsdb (clhsdb) in auto mode\n",
            "update-alternatives: using /usr/lib/jvm/java-8-openjdk-amd64/bin/xjc to provide /usr/bin/xjc (xjc) in auto mode\n",
            "update-alternatives: using /usr/lib/jvm/java-8-openjdk-amd64/bin/hsdb to provide /usr/bin/hsdb (hsdb) in auto mode\n",
            "update-alternatives: using /usr/lib/jvm/java-8-openjdk-amd64/bin/schemagen to provide /usr/bin/schemagen (schemagen) in auto mode\n",
            "update-alternatives: using /usr/lib/jvm/java-8-openjdk-amd64/bin/extcheck to provide /usr/bin/extcheck (extcheck) in auto mode\n",
            "update-alternatives: using /usr/lib/jvm/java-8-openjdk-amd64/bin/jhat to provide /usr/bin/jhat (jhat) in auto mode\n",
            "update-alternatives: using /usr/lib/jvm/java-8-openjdk-amd64/bin/wsgen to provide /usr/bin/wsgen (wsgen) in auto mode\n"
          ]
        }
      ],
      "source": [
        "!pip install pyspark\n",
        "!pip install -U -q PyDrive\n",
        "!apt update\n",
        "!apt install openjdk-8-jdk-headless -qq\n",
        "import os\n",
        "os.environ[\"JAVA_HOME\"] = \"/usr/lib/jvm/java-8-openjdk-amd64\""
      ]
    },
    {
      "cell_type": "markdown",
      "metadata": {
        "id": "ctU1dYjfOif7"
      },
      "source": [
        "Now we authenticate a Google Drive client to download the file we will be processing in our Spark job. **Make sure to follow the interactive instructions, and allow Google Drive to save the data files.** Alternatively, download the files directly (see links below) and then upload them into your Colab instance"
      ]
    },
    {
      "cell_type": "code",
      "execution_count": null,
      "metadata": {
        "id": "1dfnX7IAOkvH"
      },
      "outputs": [],
      "source": [
        "from pydrive.auth import GoogleAuth\n",
        "from pydrive.drive import GoogleDrive\n",
        "from google.colab import auth\n",
        "from oauth2client.client import GoogleCredentials\n",
        "\n",
        "# Authenticate and create the PyDrive client\n",
        "auth.authenticate_user()\n",
        "gauth = GoogleAuth()\n",
        "gauth.credentials = GoogleCredentials.get_application_default()\n",
        "drive = GoogleDrive(gauth)"
      ]
    },
    {
      "cell_type": "code",
      "execution_count": null,
      "metadata": {
        "id": "UF5nuSdyTJpc"
      },
      "outputs": [],
      "source": [
        "id='1yUNY2zq8NRn2LGsDurXqBwXv5XrqmIeH'\n",
        "downloaded = drive.CreateFile({'id': id}) \n",
        "downloaded.GetContentFile('title.basics.tsv.gz')\n",
        "\n",
        "id='1NY8-Hip68lS04FlaoZBTCSWf8wyKvK4h'\n",
        "downloaded = drive.CreateFile({'id': id}) \n",
        "downloaded.GetContentFile('title.principals.tsv.gz')"
      ]
    },
    {
      "cell_type": "markdown",
      "metadata": {
        "id": "wA49WWqmO5rR"
      },
      "source": [
        "We should now see the files *title.basics.tsv.gz* and *title.principals.tsv.gz* under the \"Files\" tab on the left panel."
      ]
    },
    {
      "cell_type": "code",
      "execution_count": null,
      "metadata": {
        "id": "xgQaRx6rSaf9"
      },
      "outputs": [],
      "source": [
        "# Import the libraries we will need\n",
        "import pandas as pd\n",
        "import numpy as np\n",
        "import matplotlib.pyplot as plt\n",
        "%matplotlib inline\n",
        "\n",
        "import pyspark\n",
        "from pyspark.sql import *\n",
        "from pyspark.sql.functions import *\n",
        "from pyspark import SparkContext, SparkConf"
      ]
    },
    {
      "cell_type": "markdown",
      "metadata": {
        "id": "uUD5XpD_SagA"
      },
      "source": [
        "We first initialize the Spark context.\n"
      ]
    },
    {
      "cell_type": "code",
      "execution_count": null,
      "metadata": {
        "id": "7ft3VivrSagB"
      },
      "outputs": [],
      "source": [
        "# create the session\n",
        "conf = SparkConf().set(\"spark.ui.port\", \"4050\")\n",
        "\n",
        "# create the context\n",
        "sc = pyspark.SparkContext(conf=conf)\n",
        "spark = SparkSession.builder.getOrCreate()"
      ]
    },
    {
      "cell_type": "markdown",
      "metadata": {
        "id": "-n20ixkgSagD"
      },
      "source": [
        "We can easily check the current version and get the link of the web interface. In the Spark UI, we can monitor the progress of our job and debug performance bottlenecks (only when the Colab is running with a **local runtime**)."
      ]
    },
    {
      "cell_type": "code",
      "execution_count": null,
      "metadata": {
        "id": "Fl4RHbqFSagE",
        "outputId": "02927669-5c76-4e70-c9d9-415eac29f57e",
        "colab": {
          "base_uri": "https://localhost:8080/",
          "height": 219
        }
      },
      "outputs": [
        {
          "output_type": "execute_result",
          "data": {
            "text/plain": [
              "<pyspark.sql.session.SparkSession at 0x7fe40e4451f0>"
            ],
            "text/html": [
              "\n",
              "            <div>\n",
              "                <p><b>SparkSession - in-memory</b></p>\n",
              "                \n",
              "        <div>\n",
              "            <p><b>SparkContext</b></p>\n",
              "\n",
              "            <p><a href=\"http://0269d02a39dd:4050\">Spark UI</a></p>\n",
              "\n",
              "            <dl>\n",
              "              <dt>Version</dt>\n",
              "                <dd><code>v3.3.1</code></dd>\n",
              "              <dt>Master</dt>\n",
              "                <dd><code>local[*]</code></dd>\n",
              "              <dt>AppName</dt>\n",
              "                <dd><code>pyspark-shell</code></dd>\n",
              "            </dl>\n",
              "        </div>\n",
              "        \n",
              "            </div>\n",
              "        "
            ]
          },
          "metadata": {},
          "execution_count": 6
        }
      ],
      "source": [
        "spark"
      ]
    },
    {
      "cell_type": "markdown",
      "metadata": {
        "id": "xlw1Mgx0T9-l"
      },
      "source": [
        "If, however, we choose to run this Colab on a Google hosted runtime, the cell below will create an *ngrok* tunnel which will allow us to check the Spark UI.\n",
        "\n",
        "(Note: this cell is sometimes flaky.)"
      ]
    },
    {
      "cell_type": "code",
      "execution_count": null,
      "metadata": {
        "id": "cYYlUTWYQMjb",
        "outputId": "b96d1626-7999-49f1-8fea-5bcaef9f26d2",
        "colab": {
          "base_uri": "https://localhost:8080/"
        }
      },
      "outputs": [
        {
          "output_type": "stream",
          "name": "stdout",
          "text": [
            "--2023-01-10 23:57:44--  https://bin.equinox.io/c/4VmDzA7iaHb/ngrok-stable-linux-amd64.zip\n",
            "Resolving bin.equinox.io (bin.equinox.io)... 18.205.222.128, 54.161.241.46, 52.202.168.65, ...\n",
            "Connecting to bin.equinox.io (bin.equinox.io)|18.205.222.128|:443... connected.\n",
            "HTTP request sent, awaiting response... 200 OK\n",
            "Length: 13832437 (13M) [application/octet-stream]\n",
            "Saving to: ‘ngrok-stable-linux-amd64.zip’\n",
            "\n",
            "ngrok-stable-linux- 100%[===================>]  13.19M  58.7MB/s    in 0.2s    \n",
            "\n",
            "2023-01-10 23:57:45 (58.7 MB/s) - ‘ngrok-stable-linux-amd64.zip’ saved [13832437/13832437]\n",
            "\n",
            "Archive:  ngrok-stable-linux-amd64.zip\n",
            "  inflating: ngrok                   \n",
            "  % Total    % Received % Xferd  Average Speed   Time    Time     Time  Current\n",
            "                                 Dload  Upload   Total   Spent    Left  Speed\n",
            "100    36  100    36    0     0  18000      0 --:--:-- --:--:-- --:--:-- 18000\n",
            "Traceback (most recent call last):\n",
            "  File \"<string>\", line 1, in <module>\n",
            "IndexError: list index out of range\n"
          ]
        }
      ],
      "source": [
        "!wget https://bin.equinox.io/c/4VmDzA7iaHb/ngrok-stable-linux-amd64.zip\n",
        "!unzip ngrok-stable-linux-amd64.zip\n",
        "get_ipython().system_raw('./ngrok http 4050 &')\n",
        "!curl http://localhost:4040/api/tunnels | python3 -c \\\n",
        "    \"import sys, json; print(json.load(sys.stdin)['tunnels'][0]['public_url']);\""
      ]
    },
    {
      "cell_type": "markdown",
      "metadata": {
        "id": "gewv-lKMSagI"
      },
      "source": [
        "# IMDB"
      ]
    },
    {
      "cell_type": "markdown",
      "metadata": {
        "id": "skjUv84VSagJ"
      },
      "source": [
        "----\n",
        "\n",
        "\n",
        "**The IMDB dataset describes TV, film, and other media titles listed on the IMDB site.**\n",
        "\n",
        "This dataset consists of multiple tables, but we use only two for this lab. The below descriptions are copied from the IMDB dataset [interfaces page](https://www.imdb.com/interfaces/).\n",
        "\n",
        "**Title Basic Information** [IMDB link](https://datasets.imdbws.com/title.basics.tsv.gz)\n",
        "- tconst (string) - alphanumeric unique identifier of the title\n",
        "- titleType (string) – the type/format of the title (e.g. movie, short, tvseries, tvepisode, video, etc)\n",
        "- primaryTitle (string) – the more popular title / the title used by the filmmakers on promotional materials at the point of release\n",
        "- originalTitle (string) - original title, in the original language\n",
        "- isAdult (boolean) - 0: non-adult title; 1: adult title\n",
        "- startYear (YYYY) – represents the release year of a title. In the case of TV Series, it is the series start year\n",
        "- endYear (YYYY) – TV Series end year. ‘\\N’ for all other title types\n",
        "- runtimeMinutes – primary runtime of the title, in minutes\n",
        "- genres (string array) – includes up to three genres associated with the title\n",
        "\n",
        "**Principal Cast/Crew** [IMDB link](https://datasets.imdbws.com/title.principals.tsv.gz)\n",
        "- tconst (string) - alphanumeric unique identifier of the title\n",
        "- ordering (integer) – a number to uniquely identify rows for a given titleId\n",
        "- nconst (string) - alphanumeric unique identifier of the name/person\n",
        "- category (string) - the category of job that person was in\n",
        "- job (string) - the specific job title if applicable, else '\\N'\n",
        "- characters (string) - the name of the character played if applicable, else '\\N'\n",
        "\n"
      ]
    },
    {
      "cell_type": "markdown",
      "metadata": {
        "id": "VSWoULeWSagJ"
      },
      "source": [
        "First, we load the datasets into Spark DataFrames:"
      ]
    },
    {
      "cell_type": "code",
      "execution_count": null,
      "metadata": {
        "id": "XLyVPuLXSagK"
      },
      "outputs": [],
      "source": [
        "Titles = spark.read.csv(\"title.basics.tsv.gz\", sep='\\t', header=True)\n",
        "Principals = spark.read.csv(\"title.principals.tsv.gz\", sep='\\t', header=True)"
      ]
    },
    {
      "cell_type": "markdown",
      "metadata": {
        "id": "MP2JmCeoSagM"
      },
      "source": [
        "We can check the schema of each DataFrame:"
      ]
    },
    {
      "cell_type": "code",
      "execution_count": null,
      "metadata": {
        "id": "KpUT8viNSagM",
        "colab": {
          "base_uri": "https://localhost:8080/"
        },
        "outputId": "8a125a89-a9d4-45a4-af3a-bb521bf0b7b5"
      },
      "outputs": [
        {
          "output_type": "stream",
          "name": "stdout",
          "text": [
            "root\n",
            " |-- tconst: string (nullable = true)\n",
            " |-- titleType: string (nullable = true)\n",
            " |-- primaryTitle: string (nullable = true)\n",
            " |-- originalTitle: string (nullable = true)\n",
            " |-- isAdult: string (nullable = true)\n",
            " |-- startYear: string (nullable = true)\n",
            " |-- endYear: string (nullable = true)\n",
            " |-- runtimeMinutes: string (nullable = true)\n",
            " |-- genres: string (nullable = true)\n",
            "\n"
          ]
        }
      ],
      "source": [
        "Titles.printSchema()"
      ]
    },
    {
      "cell_type": "code",
      "execution_count": null,
      "metadata": {
        "id": "6LJsbmlxSagO",
        "colab": {
          "base_uri": "https://localhost:8080/"
        },
        "outputId": "def06d77-701f-41b4-f13c-b298b68c9202"
      },
      "outputs": [
        {
          "output_type": "stream",
          "name": "stdout",
          "text": [
            "root\n",
            " |-- tconst: string (nullable = true)\n",
            " |-- ordering: string (nullable = true)\n",
            " |-- nconst: string (nullable = true)\n",
            " |-- category: string (nullable = true)\n",
            " |-- job: string (nullable = true)\n",
            " |-- characters: string (nullable = true)\n",
            "\n"
          ]
        }
      ],
      "source": [
        "Principals.printSchema()"
      ]
    },
    {
      "cell_type": "code",
      "source": [
        "type(Principals)"
      ],
      "metadata": {
        "colab": {
          "base_uri": "https://localhost:8080/"
        },
        "id": "-6AeiwZPGem5",
        "outputId": "370e93ef-f2a4-46e3-ee58-d94dab6e0ffb"
      },
      "execution_count": null,
      "outputs": [
        {
          "output_type": "execute_result",
          "data": {
            "text/plain": [
              "pyspark.sql.dataframe.DataFrame"
            ]
          },
          "metadata": {},
          "execution_count": 11
        }
      ]
    },
    {
      "cell_type": "markdown",
      "metadata": {
        "id": "1jP5IBezSagQ"
      },
      "source": [
        "`take()` returns a sample of rows:"
      ]
    },
    {
      "cell_type": "code",
      "execution_count": null,
      "metadata": {
        "id": "jrJpiG5ISagQ",
        "outputId": "b44c9bc7-3421-4cfb-96ee-203be06cab48",
        "colab": {
          "base_uri": "https://localhost:8080/"
        }
      },
      "outputs": [
        {
          "output_type": "execute_result",
          "data": {
            "text/plain": [
              "[Row(tconst='tt0000001', titleType='short', primaryTitle='Carmencita', originalTitle='Carmencita', isAdult='0', startYear='1894', endYear='\\\\N', runtimeMinutes='1', genres='Documentary,Short'),\n",
              " Row(tconst='tt0000002', titleType='short', primaryTitle='Le clown et ses chiens', originalTitle='Le clown et ses chiens', isAdult='0', startYear='1892', endYear='\\\\N', runtimeMinutes='5', genres='Animation,Short'),\n",
              " Row(tconst='tt0000003', titleType='short', primaryTitle='Pauvre Pierrot', originalTitle='Pauvre Pierrot', isAdult='0', startYear='1892', endYear='\\\\N', runtimeMinutes='4', genres='Animation,Comedy,Romance')]"
            ]
          },
          "metadata": {},
          "execution_count": 11
        }
      ],
      "source": [
        "Titles.take(3)"
      ]
    },
    {
      "cell_type": "markdown",
      "metadata": {
        "id": "iu7n8KKjSagS"
      },
      "source": [
        "`show()` returns a *formatted* sample of rows:"
      ]
    },
    {
      "cell_type": "code",
      "execution_count": null,
      "metadata": {
        "id": "nwYZrwanSagT",
        "outputId": "065c2281-83bf-4215-b795-6cba114d600a",
        "colab": {
          "base_uri": "https://localhost:8080/"
        }
      },
      "outputs": [
        {
          "output_type": "stream",
          "name": "stdout",
          "text": [
            "+---------+--------+---------+---------------+--------------------+--------------+\n",
            "|   tconst|ordering|   nconst|       category|                 job|    characters|\n",
            "+---------+--------+---------+---------------+--------------------+--------------+\n",
            "|tt0000001|       1|nm1588970|           self|                  \\N|      [\"Self\"]|\n",
            "|tt0000001|       2|nm0005690|       director|                  \\N|            \\N|\n",
            "|tt0000001|       3|nm0374658|cinematographer|director of photo...|            \\N|\n",
            "|tt0000002|       1|nm0721526|       director|                  \\N|            \\N|\n",
            "|tt0000002|       2|nm1335271|       composer|                  \\N|            \\N|\n",
            "|tt0000003|       1|nm0721526|       director|                  \\N|            \\N|\n",
            "|tt0000003|       2|nm1770680|       producer|            producer|            \\N|\n",
            "|tt0000003|       3|nm1335271|       composer|                  \\N|            \\N|\n",
            "|tt0000003|       4|nm5442200|         editor|                  \\N|            \\N|\n",
            "|tt0000004|       1|nm0721526|       director|                  \\N|            \\N|\n",
            "|tt0000004|       2|nm1335271|       composer|                  \\N|            \\N|\n",
            "|tt0000005|       1|nm0443482|          actor|                  \\N|[\"Blacksmith\"]|\n",
            "|tt0000005|       2|nm0653042|          actor|                  \\N| [\"Assistant\"]|\n",
            "|tt0000005|       3|nm0005690|       director|                  \\N|            \\N|\n",
            "|tt0000005|       4|nm0249379|       producer|            producer|            \\N|\n",
            "|tt0000006|       1|nm0005690|       director|                  \\N|            \\N|\n",
            "|tt0000007|       1|nm0179163|          actor|                  \\N|            \\N|\n",
            "|tt0000007|       2|nm0183947|          actor|                  \\N|            \\N|\n",
            "|tt0000007|       3|nm0005690|       director|                  \\N|            \\N|\n",
            "|tt0000007|       4|nm0374658|       director|                  \\N|            \\N|\n",
            "+---------+--------+---------+---------------+--------------------+--------------+\n",
            "only showing top 20 rows\n",
            "\n"
          ]
        }
      ],
      "source": [
        "Principals.show()"
      ]
    },
    {
      "cell_type": "code",
      "execution_count": null,
      "metadata": {
        "id": "hMAab2rJSagU",
        "outputId": "6eb04d7d-9a04-4711-ad24-a1309f943558",
        "colab": {
          "base_uri": "https://localhost:8080/"
        }
      },
      "outputs": [
        {
          "output_type": "stream",
          "name": "stdout",
          "text": [
            "In total there are 9,388,564 IMDB titles.\n"
          ]
        }
      ],
      "source": [
        "print(f\"In total there are {Titles.count():,d} IMDB titles.\")"
      ]
    },
    {
      "cell_type": "markdown",
      "metadata": {
        "id": "9xy_2ZitTFtV"
      },
      "source": [
        "We'll do a little bit of preprocessing here to remove any titles with a null title type or start year field."
      ]
    },
    {
      "cell_type": "code",
      "execution_count": null,
      "metadata": {
        "id": "atfpEfTBdZEz"
      },
      "outputs": [],
      "source": [
        "Titles = Titles.replace({'\\\\N': None}).dropna(subset=['titleType', 'startYear'])"
      ]
    },
    {
      "cell_type": "code",
      "execution_count": null,
      "metadata": {
        "id": "jP-IIAKHTVxm",
        "colab": {
          "base_uri": "https://localhost:8080/"
        },
        "outputId": "28fb51de-6c90-4f8d-c8fe-8fcf0f9324f7"
      },
      "outputs": [
        {
          "output_type": "stream",
          "name": "stdout",
          "text": [
            "After preprocessing, there are 8,127,526 IMDB titles.\n"
          ]
        }
      ],
      "source": [
        "print(f\"After preprocessing, there are {Titles.count():,d} IMDB titles.\")"
      ]
    },
    {
      "cell_type": "markdown",
      "metadata": {
        "id": "hkKWEEcLSagW"
      },
      "source": [
        "## Question 1: How many titles of each type are in the IMDB dataset?\n",
        "\n",
        "---\n",
        "\n",
        "\n",
        "\n",
        "Keywords: `Dataframe API`, `SQL`, `group by`, `sort`"
      ]
    },
    {
      "cell_type": "markdown",
      "metadata": {
        "id": "MwPL1-P5SagW"
      },
      "source": [
        "IMDB lists many different kinds of media -- movies, video games, TV episodes, etc. Let's group the IMDB titles by `titleType` and count how many records exist belonging to each title type:"
      ]
    },
    {
      "cell_type": "code",
      "execution_count": null,
      "metadata": {
        "id": "BWcMVcgwSagX",
        "scrolled": true,
        "outputId": "25f0619e-3180-460d-e107-ec8e278c4de1",
        "colab": {
          "base_uri": "https://localhost:8080/"
        }
      },
      "outputs": [
        {
          "output_type": "stream",
          "name": "stdout",
          "text": [
            "+------------+---------+\n",
            "|   titleType|numTitles|\n",
            "+------------+---------+\n",
            "|   tvEpisode|  5969375|\n",
            "|       short|   873245|\n",
            "|       movie|   542939|\n",
            "|       video|   266050|\n",
            "|    tvSeries|   216350|\n",
            "|     tvMovie|   134634|\n",
            "|tvMiniSeries|    43071|\n",
            "|   tvSpecial|    38953|\n",
            "|   videoGame|    32258|\n",
            "|     tvShort|    10649|\n",
            "|     tvPilot|        2|\n",
            "+------------+---------+\n",
            "\n"
          ]
        }
      ],
      "source": [
        "title_type_counts = Titles.groupBy(\"titleType\")\\\n",
        "                                    .agg(count(\"*\").alias(\"numTitles\"))\\\n",
        "                                    .sort(desc(\"numTitles\"))\n",
        "title_type_counts.show()"
      ]
    },
    {
      "cell_type": "markdown",
      "metadata": {
        "id": "t5trEAkzSagY"
      },
      "source": [
        "In this case we use the Spark DataFrame API, but we could rewite this query using pure SQL:"
      ]
    },
    {
      "cell_type": "code",
      "execution_count": null,
      "metadata": {
        "id": "3slo-sXOSagZ",
        "outputId": "17233d7a-feac-4649-e210-9ef6996272d9",
        "colab": {
          "base_uri": "https://localhost:8080/"
        }
      },
      "outputs": [
        {
          "output_type": "stream",
          "name": "stderr",
          "text": [
            "/usr/local/lib/python3.8/dist-packages/pyspark/sql/dataframe.py:229: FutureWarning: Deprecated in 2.0, use createOrReplaceTempView instead.\n",
            "  warnings.warn(\"Deprecated in 2.0, use createOrReplaceTempView instead.\", FutureWarning)\n"
          ]
        },
        {
          "output_type": "stream",
          "name": "stdout",
          "text": [
            "+------------+---------+\n",
            "|   titleType|numTitles|\n",
            "+------------+---------+\n",
            "|   tvEpisode|  5969375|\n",
            "|       short|   873245|\n",
            "|       movie|   542939|\n",
            "|       video|   266050|\n",
            "|    tvSeries|   216350|\n",
            "|     tvMovie|   134634|\n",
            "|tvMiniSeries|    43071|\n",
            "|   tvSpecial|    38953|\n",
            "|   videoGame|    32258|\n",
            "|     tvShort|    10649|\n",
            "|     tvPilot|        2|\n",
            "+------------+---------+\n",
            "\n"
          ]
        }
      ],
      "source": [
        "Titles.registerTempTable(\"Titles\")\n",
        "\n",
        "query = \"\"\"\n",
        "SELECT titleType, count(*) as numTitles\n",
        "FROM Titles\n",
        "GROUP BY titleType\n",
        "ORDER BY numTitles DESC\n",
        "\"\"\"\n",
        "\n",
        "title_type_counts = spark.sql(query)\n",
        "title_type_counts.show()"
      ]
    },
    {
      "cell_type": "markdown",
      "metadata": {
        "id": "5wQNXQnOSaga"
      },
      "source": [
        "This Dataframe is small enough to be moved to Pandas, so we create a Pandas DataFrame object with all of the affordances of the Pandas API:"
      ]
    },
    {
      "cell_type": "code",
      "execution_count": null,
      "metadata": {
        "id": "4nVJdPLDSagb",
        "outputId": "e5eef0cf-2787-45b2-d636-939d51545788",
        "colab": {
          "base_uri": "https://localhost:8080/",
          "height": 206
        }
      },
      "outputs": [
        {
          "output_type": "execute_result",
          "data": {
            "text/plain": [
              "   titleType  numTitles\n",
              "0  tvEpisode    5969375\n",
              "1      short     873245\n",
              "2      movie     542939\n",
              "3      video     266050\n",
              "4   tvSeries     216350"
            ],
            "text/html": [
              "\n",
              "  <div id=\"df-1d91fbaf-abe1-4e74-b45e-0588ce533f03\">\n",
              "    <div class=\"colab-df-container\">\n",
              "      <div>\n",
              "<style scoped>\n",
              "    .dataframe tbody tr th:only-of-type {\n",
              "        vertical-align: middle;\n",
              "    }\n",
              "\n",
              "    .dataframe tbody tr th {\n",
              "        vertical-align: top;\n",
              "    }\n",
              "\n",
              "    .dataframe thead th {\n",
              "        text-align: right;\n",
              "    }\n",
              "</style>\n",
              "<table border=\"1\" class=\"dataframe\">\n",
              "  <thead>\n",
              "    <tr style=\"text-align: right;\">\n",
              "      <th></th>\n",
              "      <th>titleType</th>\n",
              "      <th>numTitles</th>\n",
              "    </tr>\n",
              "  </thead>\n",
              "  <tbody>\n",
              "    <tr>\n",
              "      <th>0</th>\n",
              "      <td>tvEpisode</td>\n",
              "      <td>5969375</td>\n",
              "    </tr>\n",
              "    <tr>\n",
              "      <th>1</th>\n",
              "      <td>short</td>\n",
              "      <td>873245</td>\n",
              "    </tr>\n",
              "    <tr>\n",
              "      <th>2</th>\n",
              "      <td>movie</td>\n",
              "      <td>542939</td>\n",
              "    </tr>\n",
              "    <tr>\n",
              "      <th>3</th>\n",
              "      <td>video</td>\n",
              "      <td>266050</td>\n",
              "    </tr>\n",
              "    <tr>\n",
              "      <th>4</th>\n",
              "      <td>tvSeries</td>\n",
              "      <td>216350</td>\n",
              "    </tr>\n",
              "  </tbody>\n",
              "</table>\n",
              "</div>\n",
              "      <button class=\"colab-df-convert\" onclick=\"convertToInteractive('df-1d91fbaf-abe1-4e74-b45e-0588ce533f03')\"\n",
              "              title=\"Convert this dataframe to an interactive table.\"\n",
              "              style=\"display:none;\">\n",
              "        \n",
              "  <svg xmlns=\"http://www.w3.org/2000/svg\" height=\"24px\"viewBox=\"0 0 24 24\"\n",
              "       width=\"24px\">\n",
              "    <path d=\"M0 0h24v24H0V0z\" fill=\"none\"/>\n",
              "    <path d=\"M18.56 5.44l.94 2.06.94-2.06 2.06-.94-2.06-.94-.94-2.06-.94 2.06-2.06.94zm-11 1L8.5 8.5l.94-2.06 2.06-.94-2.06-.94L8.5 2.5l-.94 2.06-2.06.94zm10 10l.94 2.06.94-2.06 2.06-.94-2.06-.94-.94-2.06-.94 2.06-2.06.94z\"/><path d=\"M17.41 7.96l-1.37-1.37c-.4-.4-.92-.59-1.43-.59-.52 0-1.04.2-1.43.59L10.3 9.45l-7.72 7.72c-.78.78-.78 2.05 0 2.83L4 21.41c.39.39.9.59 1.41.59.51 0 1.02-.2 1.41-.59l7.78-7.78 2.81-2.81c.8-.78.8-2.07 0-2.86zM5.41 20L4 18.59l7.72-7.72 1.47 1.35L5.41 20z\"/>\n",
              "  </svg>\n",
              "      </button>\n",
              "      \n",
              "  <style>\n",
              "    .colab-df-container {\n",
              "      display:flex;\n",
              "      flex-wrap:wrap;\n",
              "      gap: 12px;\n",
              "    }\n",
              "\n",
              "    .colab-df-convert {\n",
              "      background-color: #E8F0FE;\n",
              "      border: none;\n",
              "      border-radius: 50%;\n",
              "      cursor: pointer;\n",
              "      display: none;\n",
              "      fill: #1967D2;\n",
              "      height: 32px;\n",
              "      padding: 0 0 0 0;\n",
              "      width: 32px;\n",
              "    }\n",
              "\n",
              "    .colab-df-convert:hover {\n",
              "      background-color: #E2EBFA;\n",
              "      box-shadow: 0px 1px 2px rgba(60, 64, 67, 0.3), 0px 1px 3px 1px rgba(60, 64, 67, 0.15);\n",
              "      fill: #174EA6;\n",
              "    }\n",
              "\n",
              "    [theme=dark] .colab-df-convert {\n",
              "      background-color: #3B4455;\n",
              "      fill: #D2E3FC;\n",
              "    }\n",
              "\n",
              "    [theme=dark] .colab-df-convert:hover {\n",
              "      background-color: #434B5C;\n",
              "      box-shadow: 0px 1px 3px 1px rgba(0, 0, 0, 0.15);\n",
              "      filter: drop-shadow(0px 1px 2px rgba(0, 0, 0, 0.3));\n",
              "      fill: #FFFFFF;\n",
              "    }\n",
              "  </style>\n",
              "\n",
              "      <script>\n",
              "        const buttonEl =\n",
              "          document.querySelector('#df-1d91fbaf-abe1-4e74-b45e-0588ce533f03 button.colab-df-convert');\n",
              "        buttonEl.style.display =\n",
              "          google.colab.kernel.accessAllowed ? 'block' : 'none';\n",
              "\n",
              "        async function convertToInteractive(key) {\n",
              "          const element = document.querySelector('#df-1d91fbaf-abe1-4e74-b45e-0588ce533f03');\n",
              "          const dataTable =\n",
              "            await google.colab.kernel.invokeFunction('convertToInteractive',\n",
              "                                                     [key], {});\n",
              "          if (!dataTable) return;\n",
              "\n",
              "          const docLinkHtml = 'Like what you see? Visit the ' +\n",
              "            '<a target=\"_blank\" href=https://colab.research.google.com/notebooks/data_table.ipynb>data table notebook</a>'\n",
              "            + ' to learn more about interactive tables.';\n",
              "          element.innerHTML = '';\n",
              "          dataTable['output_type'] = 'display_data';\n",
              "          await google.colab.output.renderOutput(dataTable, element);\n",
              "          const docLink = document.createElement('div');\n",
              "          docLink.innerHTML = docLinkHtml;\n",
              "          element.appendChild(docLink);\n",
              "        }\n",
              "      </script>\n",
              "    </div>\n",
              "  </div>\n",
              "  "
            ]
          },
          "metadata": {},
          "execution_count": 18
        }
      ],
      "source": [
        "title_type_count_pd = title_type_counts.toPandas()\n",
        "title_type_count_pd.head()"
      ]
    },
    {
      "cell_type": "markdown",
      "metadata": {
        "id": "VQedtuQZSagc"
      },
      "source": [
        "We visualize this title type information by plotting a barchart with the number of titles by type:"
      ]
    },
    {
      "cell_type": "code",
      "execution_count": null,
      "metadata": {
        "id": "tgbceprDSagd",
        "outputId": "723998fa-72a1-470b-acb8-7638b434ad88",
        "colab": {
          "base_uri": "https://localhost:8080/",
          "height": 527
        }
      },
      "outputs": [
        {
          "output_type": "execute_result",
          "data": {
            "text/plain": [
              "Text(0.5, 1.0, 'Number of Titles by Type')"
            ]
          },
          "metadata": {},
          "execution_count": 19
        },
        {
          "output_type": "display_data",
          "data": {
            "text/plain": [
              "<Figure size 720x504 with 1 Axes>"
            ],
            "image/png": "[encoded data removed]"
          },
          "metadata": {
            "needs_background": "light"
          }
        }
      ],
      "source": [
        "pl = title_type_count_pd.plot(kind=\"bar\", \n",
        "                            x=\"titleType\", y=\"numTitles\", \n",
        "                            figsize=(10, 7), log=True, alpha=0.5, color=\"olive\")\n",
        "pl.set_xlabel(\"Type of Title\")\n",
        "pl.set_ylabel(\"Number of Titles (Log scale)\")\n",
        "pl.set_title(\"Number of Titles by Type\")"
      ]
    },
    {
      "cell_type": "markdown",
      "metadata": {
        "id": "1jCZfwK2Sage"
      },
      "source": [
        "----"
      ]
    },
    {
      "cell_type": "markdown",
      "metadata": {
        "id": "LLan66cXSagf"
      },
      "source": [
        "## Questions 2: Show the number of titles started in every year, by type of title (TV episode, short, movie, etc).\n",
        "\n",
        "Keywords: `group by`, `parse date`, `plot`\n",
        "\n",
        "We begin by selecting the relevant columns:"
      ]
    },
    {
      "cell_type": "code",
      "execution_count": null,
      "metadata": {
        "id": "BXNKt5PHSagf",
        "outputId": "ade86b4b-c3a8-47ff-e272-b7700ca2fff3",
        "colab": {
          "base_uri": "https://localhost:8080/"
        }
      },
      "outputs": [
        {
          "output_type": "stream",
          "name": "stdout",
          "text": [
            "root\n",
            " |-- titleType: string (nullable = true)\n",
            " |-- startYear: string (nullable = true)\n",
            "\n"
          ]
        }
      ],
      "source": [
        "year_titles = Titles.selectExpr([\"titleType\", \"startYear\"])\n",
        "year_titles.printSchema()"
      ]
    },
    {
      "cell_type": "markdown",
      "metadata": {
        "id": "da9IeKntSagh"
      },
      "source": [
        "Now we use the `.groupBy()` function from the Spark DataFrame API to get the number of titles with each  `titleType` and `startYear`:"
      ]
    },
    {
      "cell_type": "code",
      "execution_count": null,
      "metadata": {
        "id": "TLza0bF9Sagh",
        "outputId": "c4d1d009-56e5-4702-d8f5-0b287a6db9ea",
        "colab": {
          "base_uri": "https://localhost:8080/",
          "height": 206
        }
      },
      "outputs": [
        {
          "output_type": "execute_result",
          "data": {
            "text/plain": [
              "  titleType startYear  numTitles\n",
              "0     short      1874          1\n",
              "1     short      1877          4\n",
              "2     short      1878          2\n",
              "3     short      1881          2\n",
              "4     short      1882          2"
            ],
            "text/html": [
              "\n",
              "  <div id=\"df-35ea94e3-7d49-4115-a5fe-c900fe4481ef\">\n",
              "    <div class=\"colab-df-container\">\n",
              "      <div>\n",
              "<style scoped>\n",
              "    .dataframe tbody tr th:only-of-type {\n",
              "        vertical-align: middle;\n",
              "    }\n",
              "\n",
              "    .dataframe tbody tr th {\n",
              "        vertical-align: top;\n",
              "    }\n",
              "\n",
              "    .dataframe thead th {\n",
              "        text-align: right;\n",
              "    }\n",
              "</style>\n",
              "<table border=\"1\" class=\"dataframe\">\n",
              "  <thead>\n",
              "    <tr style=\"text-align: right;\">\n",
              "      <th></th>\n",
              "      <th>titleType</th>\n",
              "      <th>startYear</th>\n",
              "      <th>numTitles</th>\n",
              "    </tr>\n",
              "  </thead>\n",
              "  <tbody>\n",
              "    <tr>\n",
              "      <th>0</th>\n",
              "      <td>short</td>\n",
              "      <td>1874</td>\n",
              "      <td>1</td>\n",
              "    </tr>\n",
              "    <tr>\n",
              "      <th>1</th>\n",
              "      <td>short</td>\n",
              "      <td>1877</td>\n",
              "      <td>4</td>\n",
              "    </tr>\n",
              "    <tr>\n",
              "      <th>2</th>\n",
              "      <td>short</td>\n",
              "      <td>1878</td>\n",
              "      <td>2</td>\n",
              "    </tr>\n",
              "    <tr>\n",
              "      <th>3</th>\n",
              "      <td>short</td>\n",
              "      <td>1881</td>\n",
              "      <td>2</td>\n",
              "    </tr>\n",
              "    <tr>\n",
              "      <th>4</th>\n",
              "      <td>short</td>\n",
              "      <td>1882</td>\n",
              "      <td>2</td>\n",
              "    </tr>\n",
              "  </tbody>\n",
              "</table>\n",
              "</div>\n",
              "      <button class=\"colab-df-convert\" onclick=\"convertToInteractive('df-35ea94e3-7d49-4115-a5fe-c900fe4481ef')\"\n",
              "              title=\"Convert this dataframe to an interactive table.\"\n",
              "              style=\"display:none;\">\n",
              "        \n",
              "  <svg xmlns=\"http://www.w3.org/2000/svg\" height=\"24px\"viewBox=\"0 0 24 24\"\n",
              "       width=\"24px\">\n",
              "    <path d=\"M0 0h24v24H0V0z\" fill=\"none\"/>\n",
              "    <path d=\"M18.56 5.44l.94 2.06.94-2.06 2.06-.94-2.06-.94-.94-2.06-.94 2.06-2.06.94zm-11 1L8.5 8.5l.94-2.06 2.06-.94-2.06-.94L8.5 2.5l-.94 2.06-2.06.94zm10 10l.94 2.06.94-2.06 2.06-.94-2.06-.94-.94-2.06-.94 2.06-2.06.94z\"/><path d=\"M17.41 7.96l-1.37-1.37c-.4-.4-.92-.59-1.43-.59-.52 0-1.04.2-1.43.59L10.3 9.45l-7.72 7.72c-.78.78-.78 2.05 0 2.83L4 21.41c.39.39.9.59 1.41.59.51 0 1.02-.2 1.41-.59l7.78-7.78 2.81-2.81c.8-.78.8-2.07 0-2.86zM5.41 20L4 18.59l7.72-7.72 1.47 1.35L5.41 20z\"/>\n",
              "  </svg>\n",
              "      </button>\n",
              "      \n",
              "  <style>\n",
              "    .colab-df-container {\n",
              "      display:flex;\n",
              "      flex-wrap:wrap;\n",
              "      gap: 12px;\n",
              "    }\n",
              "\n",
              "    .colab-df-convert {\n",
              "      background-color: #E8F0FE;\n",
              "      border: none;\n",
              "      border-radius: 50%;\n",
              "      cursor: pointer;\n",
              "      display: none;\n",
              "      fill: #1967D2;\n",
              "      height: 32px;\n",
              "      padding: 0 0 0 0;\n",
              "      width: 32px;\n",
              "    }\n",
              "\n",
              "    .colab-df-convert:hover {\n",
              "      background-color: #E2EBFA;\n",
              "      box-shadow: 0px 1px 2px rgba(60, 64, 67, 0.3), 0px 1px 3px 1px rgba(60, 64, 67, 0.15);\n",
              "      fill: #174EA6;\n",
              "    }\n",
              "\n",
              "    [theme=dark] .colab-df-convert {\n",
              "      background-color: #3B4455;\n",
              "      fill: #D2E3FC;\n",
              "    }\n",
              "\n",
              "    [theme=dark] .colab-df-convert:hover {\n",
              "      background-color: #434B5C;\n",
              "      box-shadow: 0px 1px 3px 1px rgba(0, 0, 0, 0.15);\n",
              "      filter: drop-shadow(0px 1px 2px rgba(0, 0, 0, 0.3));\n",
              "      fill: #FFFFFF;\n",
              "    }\n",
              "  </style>\n",
              "\n",
              "      <script>\n",
              "        const buttonEl =\n",
              "          document.querySelector('#df-35ea94e3-7d49-4115-a5fe-c900fe4481ef button.colab-df-convert');\n",
              "        buttonEl.style.display =\n",
              "          google.colab.kernel.accessAllowed ? 'block' : 'none';\n",
              "\n",
              "        async function convertToInteractive(key) {\n",
              "          const element = document.querySelector('#df-35ea94e3-7d49-4115-a5fe-c900fe4481ef');\n",
              "          const dataTable =\n",
              "            await google.colab.kernel.invokeFunction('convertToInteractive',\n",
              "                                                     [key], {});\n",
              "          if (!dataTable) return;\n",
              "\n",
              "          const docLinkHtml = 'Like what you see? Visit the ' +\n",
              "            '<a target=\"_blank\" href=https://colab.research.google.com/notebooks/data_table.ipynb>data table notebook</a>'\n",
              "            + ' to learn more about interactive tables.';\n",
              "          element.innerHTML = '';\n",
              "          dataTable['output_type'] = 'display_data';\n",
              "          await google.colab.output.renderOutput(dataTable, element);\n",
              "          const docLink = document.createElement('div');\n",
              "          docLink.innerHTML = docLinkHtml;\n",
              "          element.appendChild(docLink);\n",
              "        }\n",
              "      </script>\n",
              "    </div>\n",
              "  </div>\n",
              "  "
            ]
          },
          "metadata": {},
          "execution_count": 21
        }
      ],
      "source": [
        "titles_by_year_and_type = year_titles\\\n",
        "                    .groupBy([\"titleType\", \"startYear\"])\\\n",
        "                    .agg(count(\"*\").alias(\"numTitles\"))\\\n",
        "                    .sort(asc(\"startYear\")).toPandas()\n",
        "titles_by_year_and_type.head()"
      ]
    },
    {
      "cell_type": "markdown",
      "metadata": {
        "id": "IAhOE55wSagj"
      },
      "source": [
        "We plot this data using a different series for each type of IMDB title:"
      ]
    },
    {
      "cell_type": "code",
      "execution_count": null,
      "metadata": {
        "id": "wLq6ulAySagl",
        "outputId": "e457b61c-9aae-47b9-97a7-af5022cc9d45",
        "colab": {
          "base_uri": "https://localhost:8080/",
          "height": 391
        }
      },
      "outputs": [
        {
          "output_type": "execute_result",
          "data": {
            "text/plain": [
              "<matplotlib.legend.Legend at 0x7f15287dfa60>"
            ]
          },
          "metadata": {},
          "execution_count": 22
        },
        {
          "output_type": "display_data",
          "data": {
            "text/plain": [
              "<Figure size 720x432 with 1 Axes>"
            ],
            "image/png": "[encoded data removed]"
          },
          "metadata": {
            "needs_background": "light"
          }
        }
      ],
      "source": [
        "fig = plt.figure(figsize=(10, 6))\n",
        "\n",
        "# iterate the different groups to create a different series\n",
        "for titleType, titles in titles_by_year_and_type.groupby(\"titleType\"): \n",
        "    plt.plot(\n",
        "        pd.to_numeric(titles[\"startYear\"]), titles[\"numTitles\"], label=titleType\n",
        "    )\n",
        "\n",
        "plt.yscale('log')\n",
        "plt.legend(loc='best')"
      ]
    },
    {
      "cell_type": "markdown",
      "metadata": {
        "id": "GEMzTwxGSagp"
      },
      "source": [
        "We now observe that titles of the 'short' and 'movie' types increase in count in the 1890s and 1900s. Other title types, which all depend on distribution via household TVs, increase in count much later, around the 1940s-1950s. This intuitively coincides with TVs becoming more prevalent in households; in the US, household TV ownership rose from 9% to almost 90% during the 1950s.\n"
      ]
    },
    {
      "cell_type": "markdown",
      "metadata": {
        "id": "dl6m0B6iSagp"
      },
      "source": [
        "----"
      ]
    },
    {
      "cell_type": "markdown",
      "metadata": {
        "id": "uEwBspLySagp"
      },
      "source": [
        "## Question 3: What was the most popular genre of movie in 2000?\n",
        "\n",
        "Keywords: `RDD map reduce` `cache` `save results`\n",
        "\n",
        "\n",
        "We are interested in discovering what genre of movie was the most common  during the year of 2000."
      ]
    },
    {
      "cell_type": "markdown",
      "metadata": {
        "id": "Qurjwd0zSagr"
      },
      "source": [
        "We begin by filtering for movies that start in 2000:"
      ]
    },
    {
      "cell_type": "code",
      "execution_count": null,
      "metadata": {
        "id": "uq6jqsgBSagq"
      },
      "outputs": [],
      "source": [
        "year2000_movies = Titles.where(\"titleType='movie' AND startYear='2000'\")"
      ]
    },
    {
      "cell_type": "markdown",
      "metadata": {
        "id": "3PcIgTzuITS2"
      },
      "source": [
        "We now split the genres column, which is currently formatted as a string, into an array of strings, then explode -- which means that we expand each row in the existing DataFrame by creating a copy of it for each distinct value in that array."
      ]
    },
    {
      "cell_type": "code",
      "execution_count": null,
      "metadata": {
        "id": "bzdwtiVzJAKm"
      },
      "outputs": [],
      "source": [
        "year2000_movies = year2000_movies.select([\"*\", explode(split(Titles.genres, '[,]', 3)).alias(\"genre\")])"
      ]
    },
    {
      "cell_type": "code",
      "execution_count": null,
      "metadata": {
        "id": "cLec-CkmSagu",
        "colab": {
          "base_uri": "https://localhost:8080/"
        },
        "outputId": "06a2aeb0-dd45-4510-a845-63738c74c185"
      },
      "outputs": [
        {
          "output_type": "stream",
          "name": "stdout",
          "text": [
            "+---------+---------+--------------------+--------------------+-------+---------+-------+--------------+--------------------+---------+\n",
            "|   tconst|titleType|        primaryTitle|       originalTitle|isAdult|startYear|endYear|runtimeMinutes|              genres|    genre|\n",
            "+---------+---------+--------------------+--------------------+-------+---------+-------+--------------+--------------------+---------+\n",
            "|tt0102362|    movie|              Istota|              Istota|      0|     2000|   null|            80|       Drama,Romance|    Drama|\n",
            "|tt0102362|    movie|              Istota|              Istota|      0|     2000|   null|            80|       Drama,Romance|  Romance|\n",
            "|tt0113026|    movie|     The Fantasticks|     The Fantasticks|      0|     2000|   null|            86|     Musical,Romance|  Musical|\n",
            "|tt0113026|    movie|     The Fantasticks|     The Fantasticks|      0|     2000|   null|            86|     Musical,Romance|  Romance|\n",
            "|tt0113086|    movie|Florentino y el d...|Florentino y el d...|      0|     2000|   null|          null|               Drama|    Drama|\n",
            "|tt0113092|    movie|       For the Cause|       For the Cause|      0|     2000|   null|           100|Action,Adventure,...|   Action|\n",
            "|tt0113092|    movie|       For the Cause|       For the Cause|      0|     2000|   null|           100|Action,Adventure,...|Adventure|\n",
            "|tt0113092|    movie|       For the Cause|       For the Cause|      0|     2000|   null|           100|Action,Adventure,...|    Drama|\n",
            "|tt0115937|    movie|         Consequence|         Consequence|      0|     2000|   null|            91|               Drama|    Drama|\n",
            "|tt0116391|    movie|                Gang|                Gang|      0|     2000|   null|           167|  Action,Crime,Drama|   Action|\n",
            "|tt0116391|    movie|                Gang|                Gang|      0|     2000|   null|           167|  Action,Crime,Drama|    Crime|\n",
            "|tt0116391|    movie|                Gang|                Gang|      0|     2000|   null|           167|  Action,Crime,Drama|    Drama|\n",
            "|tt0116628|    movie|    The Incorporated|    The Incorporated|      0|     2000|   null|            86|     Action,Thriller|   Action|\n",
            "|tt0116628|    movie|    The Incorporated|    The Incorporated|      0|     2000|   null|            86|     Action,Thriller| Thriller|\n",
            "|tt0116748|    movie|Karobaar: The Bus...|Karobaar: The Bus...|      0|     2000|   null|           180|       Drama,Romance|    Drama|\n",
            "|tt0116748|    movie|Karobaar: The Bus...|Karobaar: The Bus...|      0|     2000|   null|           180|       Drama,Romance|  Romance|\n",
            "|tt0118694|    movie|In the Mood for Love|    Fa yeung nin wah|      0|     2000|   null|            98|       Drama,Romance|    Drama|\n",
            "|tt0118694|    movie|In the Mood for Love|    Fa yeung nin wah|      0|     2000|   null|            98|       Drama,Romance|  Romance|\n",
            "|tt0118710|    movie|     Beyond the Pale|     Beyond the Pale|      0|     2000|   null|            96|               Drama|    Drama|\n",
            "|tt0118852|    movie|      Chinese Coffee|      Chinese Coffee|      0|     2000|   null|            99|               Drama|    Drama|\n",
            "+---------+---------+--------------------+--------------------+-------+---------+-------+--------------+--------------------+---------+\n",
            "only showing top 20 rows\n",
            "\n"
          ]
        }
      ],
      "source": [
        "year2000_movies.show(20)"
      ]
    },
    {
      "cell_type": "code",
      "execution_count": null,
      "metadata": {
        "id": "uoiVSE7NSags",
        "colab": {
          "base_uri": "https://localhost:8080/",
          "height": 771
        },
        "outputId": "b593cc36-a884-4ac9-f833-1a9a6fc387d3"
      },
      "outputs": [
        {
          "output_type": "execute_result",
          "data": {
            "text/plain": [
              "          genre  numTitles\n",
              "0         Drama       1825\n",
              "1   Documentary       1049\n",
              "2        Comedy        980\n",
              "3       Romance        515\n",
              "4        Action        479\n",
              "5      Thriller        393\n",
              "6         Crime        384\n",
              "7        Horror        232\n",
              "8     Adventure        154\n",
              "9        Family        139\n",
              "10      Mystery        121\n",
              "11      Fantasy        115\n",
              "12        Music        109\n",
              "13    Biography        107\n",
              "14    Animation         84\n",
              "15       Sci-Fi         80\n",
              "16      Musical         69\n",
              "17      History         68\n",
              "18          War         59\n",
              "19        Sport         48\n",
              "20        Adult         27\n",
              "21      Western         11\n",
              "22        Short          1"
            ],
            "text/html": [
              "\n",
              "  <div id=\"df-2584f490-c66b-43ae-879c-039a2e8b2488\">\n",
              "    <div class=\"colab-df-container\">\n",
              "      <div>\n",
              "<style scoped>\n",
              "    .dataframe tbody tr th:only-of-type {\n",
              "        vertical-align: middle;\n",
              "    }\n",
              "\n",
              "    .dataframe tbody tr th {\n",
              "        vertical-align: top;\n",
              "    }\n",
              "\n",
              "    .dataframe thead th {\n",
              "        text-align: right;\n",
              "    }\n",
              "</style>\n",
              "<table border=\"1\" class=\"dataframe\">\n",
              "  <thead>\n",
              "    <tr style=\"text-align: right;\">\n",
              "      <th></th>\n",
              "      <th>genre</th>\n",
              "      <th>numTitles</th>\n",
              "    </tr>\n",
              "  </thead>\n",
              "  <tbody>\n",
              "    <tr>\n",
              "      <th>0</th>\n",
              "      <td>Drama</td>\n",
              "      <td>1825</td>\n",
              "    </tr>\n",
              "    <tr>\n",
              "      <th>1</th>\n",
              "      <td>Documentary</td>\n",
              "      <td>1049</td>\n",
              "    </tr>\n",
              "    <tr>\n",
              "      <th>2</th>\n",
              "      <td>Comedy</td>\n",
              "      <td>980</td>\n",
              "    </tr>\n",
              "    <tr>\n",
              "      <th>3</th>\n",
              "      <td>Romance</td>\n",
              "      <td>515</td>\n",
              "    </tr>\n",
              "    <tr>\n",
              "      <th>4</th>\n",
              "      <td>Action</td>\n",
              "      <td>479</td>\n",
              "    </tr>\n",
              "    <tr>\n",
              "      <th>5</th>\n",
              "      <td>Thriller</td>\n",
              "      <td>393</td>\n",
              "    </tr>\n",
              "    <tr>\n",
              "      <th>6</th>\n",
              "      <td>Crime</td>\n",
              "      <td>384</td>\n",
              "    </tr>\n",
              "    <tr>\n",
              "      <th>7</th>\n",
              "      <td>Horror</td>\n",
              "      <td>232</td>\n",
              "    </tr>\n",
              "    <tr>\n",
              "      <th>8</th>\n",
              "      <td>Adventure</td>\n",
              "      <td>154</td>\n",
              "    </tr>\n",
              "    <tr>\n",
              "      <th>9</th>\n",
              "      <td>Family</td>\n",
              "      <td>139</td>\n",
              "    </tr>\n",
              "    <tr>\n",
              "      <th>10</th>\n",
              "      <td>Mystery</td>\n",
              "      <td>121</td>\n",
              "    </tr>\n",
              "    <tr>\n",
              "      <th>11</th>\n",
              "      <td>Fantasy</td>\n",
              "      <td>115</td>\n",
              "    </tr>\n",
              "    <tr>\n",
              "      <th>12</th>\n",
              "      <td>Music</td>\n",
              "      <td>109</td>\n",
              "    </tr>\n",
              "    <tr>\n",
              "      <th>13</th>\n",
              "      <td>Biography</td>\n",
              "      <td>107</td>\n",
              "    </tr>\n",
              "    <tr>\n",
              "      <th>14</th>\n",
              "      <td>Animation</td>\n",
              "      <td>84</td>\n",
              "    </tr>\n",
              "    <tr>\n",
              "      <th>15</th>\n",
              "      <td>Sci-Fi</td>\n",
              "      <td>80</td>\n",
              "    </tr>\n",
              "    <tr>\n",
              "      <th>16</th>\n",
              "      <td>Musical</td>\n",
              "      <td>69</td>\n",
              "    </tr>\n",
              "    <tr>\n",
              "      <th>17</th>\n",
              "      <td>History</td>\n",
              "      <td>68</td>\n",
              "    </tr>\n",
              "    <tr>\n",
              "      <th>18</th>\n",
              "      <td>War</td>\n",
              "      <td>59</td>\n",
              "    </tr>\n",
              "    <tr>\n",
              "      <th>19</th>\n",
              "      <td>Sport</td>\n",
              "      <td>48</td>\n",
              "    </tr>\n",
              "    <tr>\n",
              "      <th>20</th>\n",
              "      <td>Adult</td>\n",
              "      <td>27</td>\n",
              "    </tr>\n",
              "    <tr>\n",
              "      <th>21</th>\n",
              "      <td>Western</td>\n",
              "      <td>11</td>\n",
              "    </tr>\n",
              "    <tr>\n",
              "      <th>22</th>\n",
              "      <td>Short</td>\n",
              "      <td>1</td>\n",
              "    </tr>\n",
              "  </tbody>\n",
              "</table>\n",
              "</div>\n",
              "      <button class=\"colab-df-convert\" onclick=\"convertToInteractive('df-2584f490-c66b-43ae-879c-039a2e8b2488')\"\n",
              "              title=\"Convert this dataframe to an interactive table.\"\n",
              "              style=\"display:none;\">\n",
              "        \n",
              "  <svg xmlns=\"http://www.w3.org/2000/svg\" height=\"24px\"viewBox=\"0 0 24 24\"\n",
              "       width=\"24px\">\n",
              "    <path d=\"M0 0h24v24H0V0z\" fill=\"none\"/>\n",
              "    <path d=\"M18.56 5.44l.94 2.06.94-2.06 2.06-.94-2.06-.94-.94-2.06-.94 2.06-2.06.94zm-11 1L8.5 8.5l.94-2.06 2.06-.94-2.06-.94L8.5 2.5l-.94 2.06-2.06.94zm10 10l.94 2.06.94-2.06 2.06-.94-2.06-.94-.94-2.06-.94 2.06-2.06.94z\"/><path d=\"M17.41 7.96l-1.37-1.37c-.4-.4-.92-.59-1.43-.59-.52 0-1.04.2-1.43.59L10.3 9.45l-7.72 7.72c-.78.78-.78 2.05 0 2.83L4 21.41c.39.39.9.59 1.41.59.51 0 1.02-.2 1.41-.59l7.78-7.78 2.81-2.81c.8-.78.8-2.07 0-2.86zM5.41 20L4 18.59l7.72-7.72 1.47 1.35L5.41 20z\"/>\n",
              "  </svg>\n",
              "      </button>\n",
              "      \n",
              "  <style>\n",
              "    .colab-df-container {\n",
              "      display:flex;\n",
              "      flex-wrap:wrap;\n",
              "      gap: 12px;\n",
              "    }\n",
              "\n",
              "    .colab-df-convert {\n",
              "      background-color: #E8F0FE;\n",
              "      border: none;\n",
              "      border-radius: 50%;\n",
              "      cursor: pointer;\n",
              "      display: none;\n",
              "      fill: #1967D2;\n",
              "      height: 32px;\n",
              "      padding: 0 0 0 0;\n",
              "      width: 32px;\n",
              "    }\n",
              "\n",
              "    .colab-df-convert:hover {\n",
              "      background-color: #E2EBFA;\n",
              "      box-shadow: 0px 1px 2px rgba(60, 64, 67, 0.3), 0px 1px 3px 1px rgba(60, 64, 67, 0.15);\n",
              "      fill: #174EA6;\n",
              "    }\n",
              "\n",
              "    [theme=dark] .colab-df-convert {\n",
              "      background-color: #3B4455;\n",
              "      fill: #D2E3FC;\n",
              "    }\n",
              "\n",
              "    [theme=dark] .colab-df-convert:hover {\n",
              "      background-color: #434B5C;\n",
              "      box-shadow: 0px 1px 3px 1px rgba(0, 0, 0, 0.15);\n",
              "      filter: drop-shadow(0px 1px 2px rgba(0, 0, 0, 0.3));\n",
              "      fill: #FFFFFF;\n",
              "    }\n",
              "  </style>\n",
              "\n",
              "      <script>\n",
              "        const buttonEl =\n",
              "          document.querySelector('#df-2584f490-c66b-43ae-879c-039a2e8b2488 button.colab-df-convert');\n",
              "        buttonEl.style.display =\n",
              "          google.colab.kernel.accessAllowed ? 'block' : 'none';\n",
              "\n",
              "        async function convertToInteractive(key) {\n",
              "          const element = document.querySelector('#df-2584f490-c66b-43ae-879c-039a2e8b2488');\n",
              "          const dataTable =\n",
              "            await google.colab.kernel.invokeFunction('convertToInteractive',\n",
              "                                                     [key], {});\n",
              "          if (!dataTable) return;\n",
              "\n",
              "          const docLinkHtml = 'Like what you see? Visit the ' +\n",
              "            '<a target=\"_blank\" href=https://colab.research.google.com/notebooks/data_table.ipynb>data table notebook</a>'\n",
              "            + ' to learn more about interactive tables.';\n",
              "          element.innerHTML = '';\n",
              "          dataTable['output_type'] = 'display_data';\n",
              "          await google.colab.output.renderOutput(dataTable, element);\n",
              "          const docLink = document.createElement('div');\n",
              "          docLink.innerHTML = docLinkHtml;\n",
              "          element.appendChild(docLink);\n",
              "        }\n",
              "      </script>\n",
              "    </div>\n",
              "  </div>\n",
              "  "
            ]
          },
          "metadata": {},
          "execution_count": 26
        }
      ],
      "source": [
        "year2000_movies.groupBy(\"genre\").agg(count(\"*\").alias(\"numTitles\")).sort(desc(\"numTitles\")).toPandas()"
      ]
    },
    {
      "cell_type": "markdown",
      "metadata": {
        "id": "-0Q2bS4KSagt"
      },
      "source": [
        "'Drama' was the most common genre in IMDB movies of 2000, with 1825 movies being listed as dramas."
      ]
    },
    {
      "cell_type": "markdown",
      "metadata": {
        "id": "77XdZuNDSagv"
      },
      "source": [
        "We can cache the content in memory, which saves time for repeat operations:"
      ]
    },
    {
      "cell_type": "code",
      "execution_count": null,
      "metadata": {
        "id": "q45a-OYwSagw",
        "colab": {
          "base_uri": "https://localhost:8080/"
        },
        "outputId": "c6ce05f6-fb33-461d-aad1-ec8723e26c69"
      },
      "outputs": [
        {
          "output_type": "execute_result",
          "data": {
            "text/plain": [
              "DataFrame[tconst: string, titleType: string, primaryTitle: string, originalTitle: string, isAdult: string, startYear: string, endYear: string, runtimeMinutes: string, genres: string, genre: string]"
            ]
          },
          "metadata": {},
          "execution_count": 27
        }
      ],
      "source": [
        "year2000_movies.cache()"
      ]
    },
    {
      "cell_type": "markdown",
      "metadata": {
        "id": "feWOqgKISagx"
      },
      "source": [
        "Now we count the number of rows and move the content to the cache:"
      ]
    },
    {
      "cell_type": "code",
      "execution_count": null,
      "metadata": {
        "id": "vIpLEQrlSagx",
        "colab": {
          "base_uri": "https://localhost:8080/"
        },
        "outputId": "e2cfe055-d60f-4e1c-c757-f0a2fae67c18"
      },
      "outputs": [
        {
          "output_type": "stream",
          "name": "stdout",
          "text": [
            "CPU times: user 177 ms, sys: 22.3 ms, total: 200 ms\n",
            "Wall time: 31.5 s\n"
          ]
        },
        {
          "output_type": "execute_result",
          "data": {
            "text/plain": [
              "7049"
            ]
          },
          "metadata": {},
          "execution_count": 28
        }
      ],
      "source": [
        "%time year2000_movies.count()"
      ]
    },
    {
      "cell_type": "markdown",
      "metadata": {
        "id": "uCTEq5LZSagz"
      },
      "source": [
        "The second time we call `.count()`, the content has been cached and the operation is much faster:"
      ]
    },
    {
      "cell_type": "code",
      "execution_count": null,
      "metadata": {
        "id": "6oZtHYspSagz",
        "colab": {
          "base_uri": "https://localhost:8080/"
        },
        "outputId": "f64bbe20-7382-40ae-f950-cdbb3c405774"
      },
      "outputs": [
        {
          "output_type": "stream",
          "name": "stdout",
          "text": [
            "CPU times: user 4.69 ms, sys: 1.3 ms, total: 5.99 ms\n",
            "Wall time: 133 ms\n"
          ]
        },
        {
          "output_type": "execute_result",
          "data": {
            "text/plain": [
              "7049"
            ]
          },
          "metadata": {},
          "execution_count": 29
        }
      ],
      "source": [
        "%time year2000_movies.count()"
      ]
    },
    {
      "cell_type": "markdown",
      "metadata": {
        "id": "_4Hzke2kSag1"
      },
      "source": [
        "We can also save the results in a file:"
      ]
    },
    {
      "cell_type": "code",
      "execution_count": null,
      "metadata": {
        "id": "4_2p0Ha9Sag1"
      },
      "outputs": [],
      "source": [
        "year2000_movies.write.mode('overwrite').json(\"year2000_movies.json\")"
      ]
    },
    {
      "cell_type": "markdown",
      "metadata": {
        "id": "OJwG61TNSag3"
      },
      "source": [
        "We can then read from that file into a Spark DataFrame again."
      ]
    },
    {
      "cell_type": "code",
      "execution_count": null,
      "metadata": {
        "id": "JTe1l78_Sag4"
      },
      "outputs": [],
      "source": [
        "year2000_movies = spark.read.json(\"year2000_movies.json\")"
      ]
    },
    {
      "cell_type": "markdown",
      "metadata": {
        "id": "DEW08u3_Sag6"
      },
      "source": [
        "As a reminder, we were previously using the Spark DataFrame API, as below:"
      ]
    },
    {
      "cell_type": "code",
      "execution_count": null,
      "metadata": {
        "id": "UYO-CuHISag8",
        "colab": {
          "base_uri": "https://localhost:8080/"
        },
        "outputId": "112a71b8-2d95-4222-9a16-04a258066c03"
      },
      "outputs": [
        {
          "output_type": "stream",
          "name": "stdout",
          "text": [
            "+-----------+---------+\n",
            "|      genre|numTitles|\n",
            "+-----------+---------+\n",
            "|      Drama|     1825|\n",
            "|Documentary|     1049|\n",
            "|     Comedy|      980|\n",
            "|    Romance|      515|\n",
            "|     Action|      479|\n",
            "|   Thriller|      393|\n",
            "|      Crime|      384|\n",
            "|     Horror|      232|\n",
            "|  Adventure|      154|\n",
            "|     Family|      139|\n",
            "|    Mystery|      121|\n",
            "|    Fantasy|      115|\n",
            "|      Music|      109|\n",
            "|  Biography|      107|\n",
            "|  Animation|       84|\n",
            "|     Sci-Fi|       80|\n",
            "|    Musical|       69|\n",
            "|    History|       68|\n",
            "|        War|       59|\n",
            "|      Sport|       48|\n",
            "+-----------+---------+\n",
            "only showing top 20 rows\n",
            "\n"
          ]
        }
      ],
      "source": [
        "Counts = year2000_movies\\\n",
        "                .groupBy(\"genre\").agg(count(\"*\").alias(\"numTitles\")).sort(desc(\"numTitles\"))\n",
        "Counts.show()"
      ]
    },
    {
      "cell_type": "markdown",
      "metadata": {
        "id": "2PHZStWQSag9"
      },
      "source": [
        "But we can also do the same operations using the explicit Map-Reduce format with RDDs.\n",
        "\n",
        "First we output, from each row, a tuple of data with format (genre, 1):"
      ]
    },
    {
      "cell_type": "code",
      "execution_count": null,
      "metadata": {
        "id": "OgEeKdtYSag9",
        "colab": {
          "base_uri": "https://localhost:8080/"
        },
        "outputId": "a559aa94-c762-4c6d-83af-0a341a2b8aa6"
      },
      "outputs": [
        {
          "output_type": "execute_result",
          "data": {
            "text/plain": [
              "[('Drama', 1), ('Romance', 1), ('Musical', 1)]"
            ]
          },
          "metadata": {},
          "execution_count": 33
        }
      ],
      "source": [
        "all_genres = year2000_movies.rdd.map(lambda row: (row.genre, 1))\n",
        "all_genres.take(3)"
      ]
    },
    {
      "cell_type": "markdown",
      "metadata": {
        "id": "Akm81xVxSag_"
      },
      "source": [
        "Then, we sum the counters in the reduce step, and we sort the resulting data by count:"
      ]
    },
    {
      "cell_type": "code",
      "execution_count": null,
      "metadata": {
        "id": "_hVvIF_WSag_",
        "colab": {
          "base_uri": "https://localhost:8080/"
        },
        "outputId": "324feac6-a0d6-4a5c-e5db-7d9d8c0ce8bb"
      },
      "outputs": [
        {
          "output_type": "execute_result",
          "data": {
            "text/plain": [
              "[('Drama', 1825), ('Documentary', 1049), ('Comedy', 980)]"
            ]
          },
          "metadata": {},
          "execution_count": 34
        }
      ],
      "source": [
        "genres_counts_rdd = all_genres.reduceByKey(lambda a, b: a+b)\\\n",
        "                                      .sortBy(lambda r: -r[1])\n",
        "genres_counts_rdd.take(3)"
      ]
    },
    {
      "cell_type": "markdown",
      "metadata": {
        "id": "od5h9c6qSahB"
      },
      "source": [
        "Now we can convert the RDD to a DataFrame by mapping the pairs to objects of type `Row`"
      ]
    },
    {
      "cell_type": "code",
      "execution_count": null,
      "metadata": {
        "id": "KNDn84R_SahB",
        "colab": {
          "base_uri": "https://localhost:8080/"
        },
        "outputId": "f681a1f1-38d1-4497-d75e-2c1b63d11f24"
      },
      "outputs": [
        {
          "output_type": "stream",
          "name": "stdout",
          "text": [
            "+-----------+---------+\n",
            "|      genre|numTitles|\n",
            "+-----------+---------+\n",
            "|      Drama|     1825|\n",
            "|Documentary|     1049|\n",
            "|     Comedy|      980|\n",
            "|    Romance|      515|\n",
            "|     Action|      479|\n",
            "|   Thriller|      393|\n",
            "|      Crime|      384|\n",
            "|     Horror|      232|\n",
            "|  Adventure|      154|\n",
            "|     Family|      139|\n",
            "|    Mystery|      121|\n",
            "|    Fantasy|      115|\n",
            "|      Music|      109|\n",
            "|  Biography|      107|\n",
            "|  Animation|       84|\n",
            "|     Sci-Fi|       80|\n",
            "|    Musical|       69|\n",
            "|    History|       68|\n",
            "|        War|       59|\n",
            "|      Sport|       48|\n",
            "+-----------+---------+\n",
            "only showing top 20 rows\n",
            "\n"
          ]
        }
      ],
      "source": [
        "genres_counts_with_schema = genres_counts_rdd\\\n",
        "                      .map(lambda r: Row(genre=r[0], numTitles=r[1]))\n",
        "genres_counts = spark.createDataFrame(genres_counts_with_schema)\n",
        "genres_counts.show()"
      ]
    },
    {
      "cell_type": "markdown",
      "metadata": {
        "id": "cE8asfBPSahD"
      },
      "source": [
        "\n",
        "As we see, the results with Map-Reduce match the results we had previously when conducting this query with the DataFrame API.\n"
      ]
    },
    {
      "cell_type": "markdown",
      "metadata": {
        "id": "lKKM6VS8SahD"
      },
      "source": [
        "----"
      ]
    },
    {
      "cell_type": "markdown",
      "metadata": {
        "id": "aaiVcdF8SahD"
      },
      "source": [
        "## Questions 4: What is the most common category of job for someone working on an IMDB title in 1980?\n",
        "\n",
        "Keywords: `join` `group by`"
      ]
    },
    {
      "cell_type": "markdown",
      "metadata": {
        "id": "xnV48FZlSahG"
      },
      "source": [
        "We begin by inspecting the content of `Principals`, which contains the principal cast and crew on each IMDB title:"
      ]
    },
    {
      "cell_type": "code",
      "execution_count": null,
      "metadata": {
        "colab": {
          "base_uri": "https://localhost:8080/"
        },
        "id": "yovhBV5sSahI",
        "outputId": "5a77ce5c-dce3-4d6c-df97-e65662b59005"
      },
      "outputs": [
        {
          "output_type": "stream",
          "name": "stdout",
          "text": [
            "+---------+--------+---------+---------------+--------------------+----------+\n",
            "|   tconst|ordering|   nconst|       category|                 job|characters|\n",
            "+---------+--------+---------+---------------+--------------------+----------+\n",
            "|tt0000001|       1|nm1588970|           self|                  \\N|  [\"Self\"]|\n",
            "|tt0000001|       2|nm0005690|       director|                  \\N|        \\N|\n",
            "|tt0000001|       3|nm0374658|cinematographer|director of photo...|        \\N|\n",
            "|tt0000002|       1|nm0721526|       director|                  \\N|        \\N|\n",
            "|tt0000002|       2|nm1335271|       composer|                  \\N|        \\N|\n",
            "+---------+--------+---------+---------------+--------------------+----------+\n",
            "only showing top 5 rows\n",
            "\n"
          ]
        }
      ],
      "source": [
        "Principals.show(5)"
      ]
    },
    {
      "cell_type": "markdown",
      "metadata": {
        "id": "yO0ExxRoSahJ"
      },
      "source": [
        "We are interested in the field `category`, which lists the category of job occupied by the cast or crew member."
      ]
    },
    {
      "cell_type": "code",
      "execution_count": null,
      "metadata": {
        "id": "Z4DnpCTmSahJ",
        "colab": {
          "base_uri": "https://localhost:8080/"
        },
        "outputId": "8ff33651-3d48-42e5-e96d-97c9a84ad18e"
      },
      "outputs": [
        {
          "output_type": "stream",
          "name": "stdout",
          "text": [
            "+---------------+\n",
            "|       category|\n",
            "+---------------+\n",
            "|           self|\n",
            "|       director|\n",
            "|cinematographer|\n",
            "|       director|\n",
            "|       composer|\n",
            "+---------------+\n",
            "only showing top 5 rows\n",
            "\n"
          ]
        }
      ],
      "source": [
        "Principals.select(\"category\").show(5)"
      ]
    },
    {
      "cell_type": "markdown",
      "metadata": {
        "id": "oviDiha9QCwl"
      },
      "source": [
        "From the `Titles` dataframe, we first select all titles with `startYear` of 1980:"
      ]
    },
    {
      "cell_type": "code",
      "execution_count": null,
      "metadata": {
        "id": "76zJUAUPQDBX"
      },
      "outputs": [],
      "source": [
        "year1980_titles = Titles.where(\"startYear='1980'\")"
      ]
    },
    {
      "cell_type": "markdown",
      "metadata": {
        "id": "Z97Y9DuUSahK"
      },
      "source": [
        "We now join on the column `tconst` of both dataframes."
      ]
    },
    {
      "cell_type": "markdown",
      "metadata": {
        "id": "9txA3mx1SahL"
      },
      "source": [
        "With the Spark Dataframe API:"
      ]
    },
    {
      "cell_type": "code",
      "execution_count": null,
      "metadata": {
        "id": "wHH_GoChnF0S",
        "colab": {
          "base_uri": "https://localhost:8080/"
        },
        "outputId": "37a10272-9d35-423b-f098-2be43843404e"
      },
      "outputs": [
        {
          "output_type": "stream",
          "name": "stdout",
          "text": [
            "+---------+--------+---------+--------+---+------------------+---------+---------+------------+-------------+-------+---------+-------+--------------+------+\n",
            "|   tconst|ordering|   nconst|category|job|        characters|   tconst|titleType|primaryTitle|originalTitle|isAdult|startYear|endYear|runtimeMinutes|genres|\n",
            "+---------+--------+---------+--------+---+------------------+---------+---------+------------+-------------+-------+---------+-------+--------------+------+\n",
            "|tt0078994|      10|nm0677612|   actor| \\N|        [\"Felipe\"]|tt0078994|    movie| El consenso|  El consenso|      0|     1980|   null|            89|Comedy|\n",
            "|tt0078994|       1|nm0379883| actress| \\N|          [\"Pura\"]|tt0078994|    movie| El consenso|  El consenso|      0|     1980|   null|            89|Comedy|\n",
            "|tt0078994|       2|nm0513298| actress| \\N|      [\"Asunción\"]|tt0078994|    movie| El consenso|  El consenso|      0|     1980|   null|            89|Comedy|\n",
            "|tt0078994|       3|nm0580853|   actor| \\N|       [\"Carmelo\"]|tt0078994|    movie| El consenso|  El consenso|      0|     1980|   null|            89|Comedy|\n",
            "|tt0078994|       4|nm0686790| actress| \\N|[\"La Catedrático\"]|tt0078994|    movie| El consenso|  El consenso|      0|     1980|   null|            89|Comedy|\n",
            "+---------+--------+---------+--------+---+------------------+---------+---------+------------+-------------+-------+---------+-------+--------------+------+\n",
            "only showing top 5 rows\n",
            "\n"
          ]
        }
      ],
      "source": [
        "titles_joined = Principals.join(\n",
        "                  year1980_titles, Principals.tconst == year1980_titles.tconst)\n",
        "titles_joined.show(5)"
      ]
    },
    {
      "cell_type": "markdown",
      "metadata": {
        "id": "QhQbN8AOSahN"
      },
      "source": [
        "We can select only the field we are interested in:"
      ]
    },
    {
      "cell_type": "code",
      "execution_count": null,
      "metadata": {
        "id": "s5KgFBXASahO",
        "colab": {
          "base_uri": "https://localhost:8080/"
        },
        "outputId": "b8cc99a2-f24b-444b-a013-d1a6d43ef6d8"
      },
      "outputs": [
        {
          "output_type": "stream",
          "name": "stdout",
          "text": [
            "+--------+\n",
            "|category|\n",
            "+--------+\n",
            "|   actor|\n",
            "| actress|\n",
            "| actress|\n",
            "|   actor|\n",
            "| actress|\n",
            "+--------+\n",
            "only showing top 5 rows\n",
            "\n"
          ]
        }
      ],
      "source": [
        "title_job_categories = titles_joined.select(\"category\")\n",
        "title_job_categories.show(5)"
      ]
    },
    {
      "cell_type": "markdown",
      "metadata": {
        "id": "giUuCERTSahT"
      },
      "source": [
        "And finally, we can group by `category` and then aggregate and count:"
      ]
    },
    {
      "cell_type": "code",
      "execution_count": null,
      "metadata": {
        "id": "S0QytpygSahU",
        "colab": {
          "base_uri": "https://localhost:8080/"
        },
        "outputId": "29fc298e-7af1-48b5-8683-021d8fa0c99b"
      },
      "outputs": [
        {
          "output_type": "stream",
          "name": "stdout",
          "text": [
            "+-------------------+-------------+\n",
            "|           category|numPrincipals|\n",
            "+-------------------+-------------+\n",
            "|              actor|        54902|\n",
            "|            actress|        41531|\n",
            "|               self|        32812|\n",
            "|             writer|        32026|\n",
            "|           director|        24850|\n",
            "|           producer|        12458|\n",
            "|           composer|         7826|\n",
            "|    cinematographer|         6394|\n",
            "|             editor|         5676|\n",
            "|production_designer|         2985|\n",
            "|    archive_footage|          741|\n",
            "|      archive_sound|            2|\n",
            "+-------------------+-------------+\n",
            "\n"
          ]
        }
      ],
      "source": [
        "title_job_categories.groupBy(\"category\").agg(count(\"*\").alias(\"numPrincipals\"))\\\n",
        "                  .sort(desc(\"numPrincipals\"))\\\n",
        "                  .show()"
      ]
    },
    {
      "cell_type": "markdown",
      "metadata": {
        "id": "2Y1043GMSahV"
      },
      "source": [
        "Alternatively, we can rewrite this query in pure SQL:"
      ]
    },
    {
      "cell_type": "code",
      "execution_count": null,
      "metadata": {
        "id": "980KMZCOSahV",
        "colab": {
          "base_uri": "https://localhost:8080/"
        },
        "outputId": "9047657b-9bb0-457f-df3d-d2c2f7a22f16"
      },
      "outputs": [
        {
          "output_type": "stream",
          "name": "stderr",
          "text": [
            "/usr/local/lib/python3.8/dist-packages/pyspark/sql/dataframe.py:229: FutureWarning: Deprecated in 2.0, use createOrReplaceTempView instead.\n",
            "  warnings.warn(\"Deprecated in 2.0, use createOrReplaceTempView instead.\", FutureWarning)\n"
          ]
        },
        {
          "output_type": "stream",
          "name": "stdout",
          "text": [
            "+-------------------+-------------+\n",
            "|           category|numPrincipals|\n",
            "+-------------------+-------------+\n",
            "|              actor|        54902|\n",
            "|            actress|        41531|\n",
            "|               self|        32812|\n",
            "|             writer|        32026|\n",
            "|           director|        24850|\n",
            "|           producer|        12458|\n",
            "|           composer|         7826|\n",
            "|    cinematographer|         6394|\n",
            "|             editor|         5676|\n",
            "|production_designer|         2985|\n",
            "|    archive_footage|          741|\n",
            "|      archive_sound|            2|\n",
            "+-------------------+-------------+\n",
            "\n"
          ]
        }
      ],
      "source": [
        "year1980_titles.registerTempTable(\"Year1980Titles\")\n",
        "Principals.registerTempTable(\"Principals\")\n",
        "\n",
        "query = \"\"\"\n",
        "SELECT category, count(*) numPrincipals\n",
        "FROM Year1980Titles ti\n",
        "JOIN Principals pr\n",
        "ON ti.tconst = pr.tconst\n",
        "GROUP BY category\n",
        "ORDER BY numPrincipals DESC\n",
        "\"\"\"\n",
        "\n",
        "spark.sql(query).show()"
      ]
    },
    {
      "cell_type": "markdown",
      "metadata": {
        "id": "ffrW-oV2SahW"
      },
      "source": [
        "The job category of `actor` was most common in IMDB titles from 1980. The second most common job category was `actress`. Further data preprocessing might merge these two categories into a single non-gendered category."
      ]
    },
    {
      "cell_type": "code",
      "execution_count": null,
      "metadata": {
        "id": "Oc20F-RNMXZL"
      },
      "outputs": [],
      "source": [
        "get_ipython().system_raw('./ngrok http 4050 &')"
      ]
    }
  ],
  "metadata": {
    "colab": {
      "machine_shape": "hm",
      "provenance": []
    },
    "kernelspec": {
      "display_name": "Python 3",
      "language": "python",
      "name": "python3"
    },
    "language_info": {
      "codemirror_mode": {
        "name": "ipython",
        "version": 3
      },
      "file_extension": ".py",
      "mimetype": "text/x-python",
      "name": "python",
      "nbconvert_exporter": "python",
      "pygments_lexer": "ipython3",
      "version": "3.7.3"
    }
  },
  "nbformat": 4,
  "nbformat_minor": 0
}