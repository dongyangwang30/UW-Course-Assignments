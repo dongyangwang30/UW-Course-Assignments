{
  "nbformat": 4,
  "nbformat_minor": 0,
  "metadata": {
    "colab": {
      "provenance": []
    },
    "kernelspec": {
      "name": "python3",
      "display_name": "Python 3"
    }
  },
  "cells": [
    {
      "cell_type": "markdown",
      "metadata": {
        "id": "kPt5q27L5557"
      },
      "source": [
        "# CSE547 - Colab 2\n",
        "## Frequent Pattern Mining in Spark\n",
        "\n",
        "Adapted from Stanford CS246"
      ]
    },
    {
      "cell_type": "markdown",
      "metadata": {
        "id": "p0-YhEpP_Ds-"
      },
      "source": [
        "### Setup"
      ]
    },
    {
      "cell_type": "markdown",
      "metadata": {
        "id": "Zsj5WYpR9QId"
      },
      "source": [
        "Let's setup Spark on your Colab environment.  Run the cell below!"
      ]
    },
    {
      "cell_type": "code",
      "metadata": {
        "id": "k-qHai2252mI",
        "colab": {
          "base_uri": "https://localhost:8080/"
        },
        "outputId": "cab69abe-c380-4da4-fe33-ee91b2564e0a"
      },
      "source": [
        "!pip install pyspark\n",
        "!pip install -U -q PyDrive\n",
        "!apt install openjdk-8-jdk-headless -qq\n",
        "import os\n",
        "os.environ[\"JAVA_HOME\"] = \"/usr/lib/jvm/java-8-openjdk-amd64\""
      ],
      "execution_count": null,
      "outputs": [
        {
          "output_type": "stream",
          "name": "stdout",
          "text": [
            "Looking in indexes: https://pypi.org/simple, https://us-python.pkg.dev/colab-wheels/public/simple/\n",
            "Collecting pyspark\n",
            "  Downloading pyspark-3.3.1.tar.gz (281.4 MB)\n",
            "\u001b[2K     \u001b[90m━━━━━━━━━━━━━━━━━━━━━━━━━━━━━━━━━━━━━━━\u001b[0m \u001b[32m281.4/281.4 MB\u001b[0m \u001b[31m3.6 MB/s\u001b[0m eta \u001b[36m0:00:00\u001b[0m\n",
            "\u001b[?25h  Preparing metadata (setup.py) ... \u001b[?25l\u001b[?25hdone\n",
            "Collecting py4j==0.10.9.5\n",
            "  Downloading py4j-0.10.9.5-py2.py3-none-any.whl (199 kB)\n",
            "\u001b[2K     \u001b[90m━━━━━━━━━━━━━━━━━━━━━━━━━━━━━━━━━━━━━━\u001b[0m \u001b[32m199.7/199.7 KB\u001b[0m \u001b[31m14.0 MB/s\u001b[0m eta \u001b[36m0:00:00\u001b[0m\n",
            "\u001b[?25hBuilding wheels for collected packages: pyspark\n",
            "  Building wheel for pyspark (setup.py) ... \u001b[?25l\u001b[?25hdone\n",
            "  Created wheel for pyspark: filename=pyspark-3.3.1-py2.py3-none-any.whl size=281845512 sha256=c1e388df9cf87b56ea50bdad1528862f79975cabec5b0a584a5bb20ffcfaf46f\n",
            "  Stored in directory: /root/.cache/pip/wheels/43/dc/11/ec201cd671da62fa9c5cc77078235e40722170ceba231d7598\n",
            "Successfully built pyspark\n",
            "Installing collected packages: py4j, pyspark\n",
            "Successfully installed py4j-0.10.9.5 pyspark-3.3.1\n",
            "The following additional packages will be installed:\n",
            "  openjdk-8-jre-headless\n",
            "Suggested packages:\n",
            "  openjdk-8-demo openjdk-8-source libnss-mdns fonts-dejavu-extra\n",
            "  fonts-ipafont-gothic fonts-ipafont-mincho fonts-wqy-microhei\n",
            "  fonts-wqy-zenhei fonts-indic\n",
            "The following NEW packages will be installed:\n",
            "  openjdk-8-jdk-headless openjdk-8-jre-headless\n",
            "0 upgraded, 2 newly installed, 0 to remove and 23 not upgraded.\n",
            "Need to get 36.5 MB of archives.\n",
            "After this operation, 143 MB of additional disk space will be used.\n",
            "Selecting previously unselected package openjdk-8-jre-headless:amd64.\n",
            "(Reading database ... 129504 files and directories currently installed.)\n",
            "Preparing to unpack .../openjdk-8-jre-headless_8u352-ga-1~20.04_amd64.deb ...\n",
            "Unpacking openjdk-8-jre-headless:amd64 (8u352-ga-1~20.04) ...\n",
            "Selecting previously unselected package openjdk-8-jdk-headless:amd64.\n",
            "Preparing to unpack .../openjdk-8-jdk-headless_8u352-ga-1~20.04_amd64.deb ...\n",
            "Unpacking openjdk-8-jdk-headless:amd64 (8u352-ga-1~20.04) ...\n",
            "Setting up openjdk-8-jre-headless:amd64 (8u352-ga-1~20.04) ...\n",
            "update-alternatives: using /usr/lib/jvm/java-8-openjdk-amd64/jre/bin/orbd to provide /usr/bin/orbd (orbd) in auto mode\n",
            "update-alternatives: using /usr/lib/jvm/java-8-openjdk-amd64/jre/bin/servertool to provide /usr/bin/servertool (servertool) in auto mode\n",
            "update-alternatives: using /usr/lib/jvm/java-8-openjdk-amd64/jre/bin/tnameserv to provide /usr/bin/tnameserv (tnameserv) in auto mode\n",
            "Setting up openjdk-8-jdk-headless:amd64 (8u352-ga-1~20.04) ...\n",
            "update-alternatives: using /usr/lib/jvm/java-8-openjdk-amd64/bin/idlj to provide /usr/bin/idlj (idlj) in auto mode\n",
            "update-alternatives: using /usr/lib/jvm/java-8-openjdk-amd64/bin/wsimport to provide /usr/bin/wsimport (wsimport) in auto mode\n",
            "update-alternatives: using /usr/lib/jvm/java-8-openjdk-amd64/bin/jsadebugd to provide /usr/bin/jsadebugd (jsadebugd) in auto mode\n",
            "update-alternatives: using /usr/lib/jvm/java-8-openjdk-amd64/bin/native2ascii to provide /usr/bin/native2ascii (native2ascii) in auto mode\n",
            "update-alternatives: using /usr/lib/jvm/java-8-openjdk-amd64/bin/javah to provide /usr/bin/javah (javah) in auto mode\n",
            "update-alternatives: using /usr/lib/jvm/java-8-openjdk-amd64/bin/clhsdb to provide /usr/bin/clhsdb (clhsdb) in auto mode\n",
            "update-alternatives: using /usr/lib/jvm/java-8-openjdk-amd64/bin/xjc to provide /usr/bin/xjc (xjc) in auto mode\n",
            "update-alternatives: using /usr/lib/jvm/java-8-openjdk-amd64/bin/hsdb to provide /usr/bin/hsdb (hsdb) in auto mode\n",
            "update-alternatives: using /usr/lib/jvm/java-8-openjdk-amd64/bin/schemagen to provide /usr/bin/schemagen (schemagen) in auto mode\n",
            "update-alternatives: using /usr/lib/jvm/java-8-openjdk-amd64/bin/extcheck to provide /usr/bin/extcheck (extcheck) in auto mode\n",
            "update-alternatives: using /usr/lib/jvm/java-8-openjdk-amd64/bin/jhat to provide /usr/bin/jhat (jhat) in auto mode\n",
            "update-alternatives: using /usr/lib/jvm/java-8-openjdk-amd64/bin/wsgen to provide /usr/bin/wsgen (wsgen) in auto mode\n"
          ]
        }
      ]
    },
    {
      "cell_type": "markdown",
      "metadata": {
        "id": "-CJ71AKe91eh"
      },
      "source": [
        "Now we authenticate a Google Drive client to download the file we will be processing in our Spark job.\n",
        "\n",
        "**Make sure to follow the interactive instructions.**"
      ]
    },
    {
      "cell_type": "code",
      "metadata": {
        "id": "5K93ABEy9Zlo"
      },
      "source": [
        "from pydrive.auth import GoogleAuth\n",
        "from pydrive.drive import GoogleDrive\n",
        "from google.colab import auth\n",
        "from oauth2client.client import GoogleCredentials\n",
        "\n",
        "# Authenticate and create the PyDrive client\n",
        "auth.authenticate_user()\n",
        "gauth = GoogleAuth()\n",
        "gauth.credentials = GoogleCredentials.get_application_default()\n",
        "drive = GoogleDrive(gauth)"
      ],
      "execution_count": null,
      "outputs": []
    },
    {
      "cell_type": "code",
      "metadata": {
        "id": "0orRvrc1-545"
      },
      "source": [
        "id='1dhi1F78ssqR8gE6U-AgB80ZW7V_9snX4'\n",
        "downloaded = drive.CreateFile({'id': id})\n",
        "downloaded.GetContentFile('products.csv')\n",
        "\n",
        "id='1KZBNEaIyMTcsRV817us6uLZgm-Mii8oU'\n",
        "downloaded = drive.CreateFile({'id': id})\n",
        "downloaded.GetContentFile('order_products__train.csv')"
      ],
      "execution_count": null,
      "outputs": []
    },
    {
      "cell_type": "markdown",
      "metadata": {
        "id": "qwtlO4_m_LbQ"
      },
      "source": [
        "If you executed the cells above, you should be able to see the dataset we will need for this Colab under the \"Files\" tab on the left panel."
      ]
    },
    {
      "cell_type": "code",
      "metadata": {
        "id": "twk-K-jilWK7"
      },
      "source": [
        "import pandas as pd\n",
        "import numpy as np\n",
        "import matplotlib.pyplot as plt\n",
        "%matplotlib inline\n",
        "\n",
        "import pyspark\n",
        "from pyspark.sql import *\n",
        "from pyspark.sql.functions import *\n",
        "from pyspark import SparkContext, SparkConf\n",
        "from pyspark.sql import functions as F"
      ],
      "execution_count": null,
      "outputs": []
    },
    {
      "cell_type": "markdown",
      "metadata": {
        "id": "dr-8fK-1lmY0"
      },
      "source": [
        "Let's initialize the Spark context."
      ]
    },
    {
      "cell_type": "code",
      "metadata": {
        "id": "UOwtm2l7lePt"
      },
      "source": [
        "#sc.stop()\n",
        "# create the session\n",
        "conf = SparkConf().set(\"spark.ui.port\", \"4050\")\n",
        "\n",
        "# create the context\n",
        "sc = pyspark.SparkContext(conf=conf)\n",
        "spark = SparkSession.builder.getOrCreate()"
      ],
      "execution_count": null,
      "outputs": []
    },
    {
      "cell_type": "markdown",
      "metadata": {
        "id": "s-LpyCLzlul6"
      },
      "source": [
        "You can easily check the current version and get the link of the web interface. In the Spark UI, you can monitor the progress of your job and debug the performance bottlenecks (if your Colab is running with a **local runtime**)."
      ]
    },
    {
      "cell_type": "code",
      "metadata": {
        "id": "0g87iz4klwYJ",
        "colab": {
          "base_uri": "https://localhost:8080/",
          "height": 219
        },
        "outputId": "1f382eda-4cd7-4a20-cfba-7e9637f31098"
      },
      "source": [
        "spark"
      ],
      "execution_count": null,
      "outputs": [
        {
          "output_type": "execute_result",
          "data": {
            "text/plain": [
              "<pyspark.sql.session.SparkSession at 0x7f72c4ce19a0>"
            ],
            "text/html": [
              "\n",
              "            <div>\n",
              "                <p><b>SparkSession - in-memory</b></p>\n",
              "                \n",
              "        <div>\n",
              "            <p><b>SparkContext</b></p>\n",
              "\n",
              "            <p><a href=\"http://1e1593d233b7:4050\">Spark UI</a></p>\n",
              "\n",
              "            <dl>\n",
              "              <dt>Version</dt>\n",
              "                <dd><code>v3.3.1</code></dd>\n",
              "              <dt>Master</dt>\n",
              "                <dd><code>local[*]</code></dd>\n",
              "              <dt>AppName</dt>\n",
              "                <dd><code>pyspark-shell</code></dd>\n",
              "            </dl>\n",
              "        </div>\n",
              "        \n",
              "            </div>\n",
              "        "
            ]
          },
          "metadata": {},
          "execution_count": 7
        }
      ]
    },
    {
      "cell_type": "markdown",
      "metadata": {
        "id": "Vdwc4xKPl3Jv"
      },
      "source": [
        "If you are running this Colab on the Google hosted runtime, the cell below will create a *ngrok* tunnel which will allow you to still check the Spark UI."
      ]
    },
    {
      "cell_type": "code",
      "metadata": {
        "id": "qephEB4Tl14J",
        "colab": {
          "base_uri": "https://localhost:8080/"
        },
        "outputId": "c0cea692-f488-47e7-ba89-bed611e3c606"
      },
      "source": [
        "!wget https://bin.equinox.io/c/4VmDzA7iaHb/ngrok-stable-linux-amd64.zip\n",
        "!unzip ngrok-stable-linux-amd64.zip\n",
        "get_ipython().system_raw('./ngrok http 4050 &')\n",
        "!curl -s http://localhost:4040/api/tunnels | python3 -c \\\n",
        "    \"import sys, json; print(json.load(sys.stdin)['tunnels'][0]['public_url'])\""
      ],
      "execution_count": null,
      "outputs": [
        {
          "output_type": "stream",
          "name": "stdout",
          "text": [
            "--2023-01-19 22:31:47--  https://bin.equinox.io/c/4VmDzA7iaHb/ngrok-stable-linux-amd64.zip\n",
            "Resolving bin.equinox.io (bin.equinox.io)... 18.205.222.128, 54.161.241.46, 52.202.168.65, ...\n",
            "Connecting to bin.equinox.io (bin.equinox.io)|18.205.222.128|:443... connected.\n",
            "HTTP request sent, awaiting response... 200 OK\n",
            "Length: 13832437 (13M) [application/octet-stream]\n",
            "Saving to: ‘ngrok-stable-linux-amd64.zip’\n",
            "\n",
            "ngrok-stable-linux- 100%[===================>]  13.19M  59.6MB/s    in 0.2s    \n",
            "\n",
            "2023-01-19 22:31:47 (59.6 MB/s) - ‘ngrok-stable-linux-amd64.zip’ saved [13832437/13832437]\n",
            "\n",
            "Archive:  ngrok-stable-linux-amd64.zip\n",
            "  inflating: ngrok                   \n",
            "Traceback (most recent call last):\n",
            "  File \"<string>\", line 1, in <module>\n",
            "IndexError: list index out of range\n"
          ]
        }
      ]
    },
    {
      "cell_type": "markdown",
      "metadata": {
        "id": "CRaF2A_j_nC7"
      },
      "source": [
        "### Your task"
      ]
    },
    {
      "cell_type": "markdown",
      "metadata": {
        "id": "ebLNUxP0_8x3"
      },
      "source": [
        "If you run successfully the setup stage, you are ready to work with the **3 Million Instacart Orders** dataset. In case you want to read more about it, check the [official Instacart blog post](https://tech.instacart.com/3-million-instacart-orders-open-sourced-d40d29ead6f2) about it, a concise [schema description](https://gist.github.com/jeremystan/c3b39d947d9b88b3ccff3147dbcf6c6b) of the dataset, and the [download page](https://www.instacart.com/datasets/grocery-shopping-2017).\n",
        "\n",
        "In this Colab, we will be working only with a small training dataset (~131K orders) to perform fast Frequent Pattern Mining with the FP-Growth algorithm."
      ]
    },
    {
      "cell_type": "code",
      "metadata": {
        "id": "xu-e7Ph2_ruG"
      },
      "source": [
        "products = spark.read.csv('products.csv', header=True, inferSchema=True)\n",
        "orders = spark.read.csv('order_products__train.csv', header=True, inferSchema=True)"
      ],
      "execution_count": null,
      "outputs": []
    },
    {
      "cell_type": "code",
      "metadata": {
        "id": "hhxZZRT9syUO",
        "colab": {
          "base_uri": "https://localhost:8080/"
        },
        "outputId": "e5d333f5-502f-433e-c6f7-ca80a222312a"
      },
      "source": [
        "products.printSchema()"
      ],
      "execution_count": null,
      "outputs": [
        {
          "output_type": "stream",
          "name": "stdout",
          "text": [
            "root\n",
            " |-- product_id: integer (nullable = true)\n",
            " |-- product_name: string (nullable = true)\n",
            " |-- aisle_id: string (nullable = true)\n",
            " |-- department_id: string (nullable = true)\n",
            "\n"
          ]
        }
      ]
    },
    {
      "cell_type": "code",
      "metadata": {
        "id": "8VeRYRz2s1pm",
        "colab": {
          "base_uri": "https://localhost:8080/"
        },
        "outputId": "d816ef6e-70cd-48ad-a9ab-e90d6f060bb5"
      },
      "source": [
        "orders.printSchema()"
      ],
      "execution_count": null,
      "outputs": [
        {
          "output_type": "stream",
          "name": "stdout",
          "text": [
            "root\n",
            " |-- order_id: integer (nullable = true)\n",
            " |-- product_id: integer (nullable = true)\n",
            " |-- add_to_cart_order: integer (nullable = true)\n",
            " |-- reordered: integer (nullable = true)\n",
            "\n"
          ]
        }
      ]
    },
    {
      "cell_type": "markdown",
      "metadata": {
        "id": "h5muD_Io59CG"
      },
      "source": [
        "Use the Spark Dataframe API to join 'products' and 'orders', so that you will be able to see the product names in each transaction (and not only their ids).  Then, group by the orders by 'order_id' to obtain one row per basket (i.e., set of products purchased together by one customer). "
      ]
    },
    {
      "cell_type": "code",
      "metadata": {
        "id": "zRH4o4p7s7V6"
      },
      "source": [
        "\n",
        "group_order=orders.join(products, on='product_id').groupBy(\"order_id\").agg(collect_list('product_name').alias(\"product_name\"))\n"
      ],
      "execution_count": null,
      "outputs": []
    },
    {
      "cell_type": "code",
      "source": [
        "group_order.count()"
      ],
      "metadata": {
        "id": "OWf_fz0cIlf9",
        "colab": {
          "base_uri": "https://localhost:8080/"
        },
        "outputId": "f341175d-2bfd-44df-d649-e52e764121a6"
      },
      "execution_count": null,
      "outputs": [
        {
          "output_type": "execute_result",
          "data": {
            "text/plain": [
              "131209"
            ]
          },
          "metadata": {},
          "execution_count": 30
        }
      ]
    },
    {
      "cell_type": "code",
      "source": [
        "group_order.printSchema()"
      ],
      "metadata": {
        "id": "xrph76ourxbA",
        "outputId": "b0eb54d4-8cb0-4528-fcc2-b7170cacf419",
        "colab": {
          "base_uri": "https://localhost:8080/"
        }
      },
      "execution_count": null,
      "outputs": [
        {
          "output_type": "stream",
          "name": "stdout",
          "text": [
            "root\n",
            " |-- order_id: integer (nullable = true)\n",
            " |-- product_name: array (nullable = false)\n",
            " |    |-- element: string (containsNull = false)\n",
            "\n"
          ]
        }
      ]
    },
    {
      "cell_type": "code",
      "source": [
        "group_order.limit(5).collect()"
      ],
      "metadata": {
        "colab": {
          "base_uri": "https://localhost:8080/"
        },
        "id": "ikiR-LQKrR7H",
        "outputId": "8635c71b-1d79-42d2-a5e3-a94a669cd1fe"
      },
      "execution_count": null,
      "outputs": [
        {
          "output_type": "execute_result",
          "data": {
            "text/plain": [
              "[Row(order_id=1, product_name=['Bulgarian Yogurt', 'Organic 4% Milk Fat Whole Milk Cottage Cheese', 'Organic Celery Hearts', 'Cucumber Kirby', 'Lightly Smoked Sardines in Olive Oil', 'Bag of Organic Bananas', 'Organic Hass Avocado', 'Organic Whole String Cheese']),\n",
              " Row(order_id=96, product_name=['Roasted Turkey', 'Organic Cucumber', 'Organic Grape Tomatoes', 'Organic Pomegranate Kernels', 'Organic Raspberries', 'Organic Whole Strawberries', 'Organic Blueberries']),\n",
              " Row(order_id=112, product_name=['Fresh Cauliflower', 'I Heart Baby Kale', 'Sea Salt Baked Potato Chips', 'Marinara Pasta Sauce', 'Organic Hass Avocado', 'Organic Lemon', 'Coconut Water Kefir', 'Premium Epsom Salt', 'Umcka Elderberry Intensive Cold + Flu Berry Flavor', 'Hickory Honey Barbeque Baked Potato Chips', 'Baked Sea Salt & Vinegar Potato Chips']),\n",
              " Row(order_id=218, product_name=['Natural Artisan Water', 'Okra', 'Organic Yellow Peaches', 'Black Plum', 'Citrus Mandarins Organic']),\n",
              " Row(order_id=456, product_name=['Chorizo Pork', 'Petite Peas', 'Max Gel Clog Remover', 'Green Beans', 'Naturally Hickory Smoked Hometown Original Bacon', 'Extra Virgin Olive Oil', 'Mediterranean Fine Sea Salt', 'Pure Ground', 'Large Lemon'])]"
            ]
          },
          "metadata": {},
          "execution_count": 14
        }
      ]
    },
    {
      "cell_type": "markdown",
      "metadata": {
        "id": "EfHoTLAg6qnM"
      },
      "source": [
        "In this Colab we will explore [MLlib](https://spark.apache.org/mllib/), Apache Spark's scalable machine learning library. Specifically, you can use its implementation of the [FP-Growth](https://spark.apache.org/docs/latest/ml-frequent-pattern-mining.html#fp-growth) algorithm to perform efficiently Frequent Pattern Mining in Spark.\n",
        "Use the Python example in the documentation, and train a model with \n",
        "\n",
        "```minSupport=0.01``` and ```minConfidence=0.5```\n",
        "\n"
      ]
    },
    {
      "cell_type": "code",
      "metadata": {
        "id": "boWgxXNns089",
        "colab": {
          "base_uri": "https://localhost:8080/"
        },
        "outputId": "fbf7e1ce-d9d9-4b43-f8d0-fad5a4fe7009"
      },
      "source": [
        "# YOUR CODE HERE\n",
        "\n",
        "from pyspark.ml.fpm import FPGrowth\n",
        "fpgrowth=FPGrowth(itemsCol=\"product_name\",minSupport=0.01 , minConfidence=0.5)\n",
        "model= fpgrowth.fit(group_order)\n",
        "# Display frequent itemsets.\n",
        "model.freqItemsets.show()\n",
        "\n",
        "# Display generated association rules.\n",
        "model.associationRules.show()\n",
        "\n",
        "# transform examines the input items against all the association rules and summarize the\n",
        "# consequents as prediction\n",
        "model.transform(group_order).show()"
      ],
      "execution_count": null,
      "outputs": [
        {
          "output_type": "stream",
          "name": "stdout",
          "text": [
            "+--------------------+-----+\n",
            "|               items| freq|\n",
            "+--------------------+-----+\n",
            "|      [Green Onions]| 1445|\n",
            "|   [Red Raspberries]| 1493|\n",
            "|    [Organic Banana]| 2332|\n",
            "|  [Jalapeno Peppers]| 1899|\n",
            "|[Organic Large Ex...| 2891|\n",
            "|[Organic Whole St...| 1993|\n",
            "|[Organic Peeled W...| 2460|\n",
            "|             [Limes]| 6033|\n",
            "|[Limes, Large Lemon]| 1595|\n",
            "|     [Limes, Banana]| 1331|\n",
            "|       [Raspberries]| 3279|\n",
            "|      [Hass Avocado]| 1633|\n",
            "|[Organic Broccoli...| 1361|\n",
            "|[Uncured Genoa Sa...| 1788|\n",
            "|      [Spring Water]| 2225|\n",
            "|[Michigan Organic...| 2627|\n",
            "|     [Yellow Onions]| 3762|\n",
            "|[Organic Strawber...|10894|\n",
            "|[Organic Strawber...| 3074|\n",
            "|[Organic Strawber...| 2174|\n",
            "+--------------------+-----+\n",
            "only showing top 20 rows\n",
            "\n",
            "+----------+----------+----------+----+-------+\n",
            "|antecedent|consequent|confidence|lift|support|\n",
            "+----------+----------+----------+----+-------+\n",
            "+----------+----------+----------+----+-------+\n",
            "\n",
            "+--------+--------------------+----------+\n",
            "|order_id|        product_name|prediction|\n",
            "+--------+--------------------+----------+\n",
            "|       1|[Bulgarian Yogurt...|        []|\n",
            "|      96|[Roasted Turkey, ...|        []|\n",
            "|     112|[Fresh Cauliflowe...|        []|\n",
            "|     218|[Natural Artisan ...|        []|\n",
            "|     456|[Chorizo Pork, Pe...|        []|\n",
            "|     473|[Organic Whole Mi...|        []|\n",
            "|     631|[Organic Strawber...|        []|\n",
            "|     762|[Organic Strawber...|        []|\n",
            "|     774|[Ice Cream Variet...|        []|\n",
            "|     844|[Green Beans, Org...|        []|\n",
            "|     904|[Cup Noodles Chic...|        []|\n",
            "|     988|[Natural Vanilla ...|        []|\n",
            "|    1032|[Clover Org Greek...|        []|\n",
            "|    1077|[Bag of Organic B...|        []|\n",
            "|    1119|[Boneless Skinles...|        []|\n",
            "|    1139|[Banana, Organic ...|        []|\n",
            "|    1143|[Natural Premium ...|        []|\n",
            "|    1145|[Banana, Original...|        []|\n",
            "|    1275|[Boneless Skinles...|        []|\n",
            "|    1280|[Lactose Free Hal...|        []|\n",
            "+--------+--------------------+----------+\n",
            "only showing top 20 rows\n",
            "\n"
          ]
        }
      ]
    },
    {
      "cell_type": "code",
      "source": [
        "model.associationRules.show()\n"
      ],
      "metadata": {
        "colab": {
          "base_uri": "https://localhost:8080/"
        },
        "id": "9BXMTHn_MU6h",
        "outputId": "308200cb-a7ce-4188-d3d1-3a85f83b3312"
      },
      "execution_count": null,
      "outputs": [
        {
          "output_type": "stream",
          "name": "stdout",
          "text": [
            "+----------+----------+----------+----+-------+\n",
            "|antecedent|consequent|confidence|lift|support|\n",
            "+----------+----------+----------+----+-------+\n",
            "+----------+----------+----------+----+-------+\n",
            "\n"
          ]
        }
      ]
    },
    {
      "cell_type": "code",
      "source": [
        "# YOUR CODE HERE\n",
        "model.freqItemsets.count()\n",
        "model.associationRules.count()"
      ],
      "metadata": {
        "colab": {
          "base_uri": "https://localhost:8080/"
        },
        "id": "2IKGdTirLRVC",
        "outputId": "b9ec2456-4286-4d2a-eb77-53f375347921"
      },
      "execution_count": null,
      "outputs": [
        {
          "output_type": "execute_result",
          "data": {
            "text/plain": [
              "0"
            ]
          },
          "metadata": {},
          "execution_count": 17
        }
      ]
    },
    {
      "cell_type": "markdown",
      "metadata": {
        "id": "6kpTVdfD8UiO"
      },
      "source": [
        "Compute how many Frequent Itemsets and Association Rules were generated by running FP-growth.\n"
      ]
    },
    {
      "cell_type": "code",
      "metadata": {
        "id": "6KYgQ_URunvA",
        "colab": {
          "base_uri": "https://localhost:8080/"
        },
        "outputId": "c75552ca-89c7-40d6-d22f-eadba54689ca"
      },
      "source": [
        "# YOUR CODE HERE\n",
        "\n",
        "from pyspark.ml.fpm import FPGrowth\n",
        "fpgrowth=FPGrowth(itemsCol=\"product_name\",minSupport=0.001 , minConfidence=0.5)\n",
        "model= fpgrowth.fit(group_order)\n",
        "# Display frequent itemsets.\n",
        "model.freqItemsets.show()\n",
        "\n",
        "# Display generated association rules.\n",
        "model.associationRules.show()\n",
        "\n",
        "# transform examines the input items against all the association rules and summarize the\n",
        "# consequents as prediction\n",
        "model.transform(group_order).show()"
      ],
      "execution_count": null,
      "outputs": [
        {
          "output_type": "stream",
          "name": "stdout",
          "text": [
            "+--------------------+----+\n",
            "|               items|freq|\n",
            "+--------------------+----+\n",
            "|[White Cheddar Po...| 370|\n",
            "|[Organic YoKids V...| 259|\n",
            "|[Total 0% Nonfat ...| 993|\n",
            "|[Total 0% Nonfat ...| 137|\n",
            "|[Total 0% Nonfat ...| 157|\n",
            "|[Total 0% Nonfat ...| 143|\n",
            "|[Total 0% Nonfat ...| 258|\n",
            "|[Organic Large Gr...| 730|\n",
            "|[Organic Large Gr...| 185|\n",
            "|[Organic Large Gr...| 263|\n",
            "|[Organic Large Gr...| 136|\n",
            "|[Organic Large Gr...| 164|\n",
            "|[Organic Cream Ch...| 365|\n",
            "|[Organic Reduced ...| 140|\n",
            "|[Florida Orange J...| 283|\n",
            "|      [Green Onions]|1445|\n",
            "|[Green Onions, Li...| 206|\n",
            "|[Green Onions, Or...| 133|\n",
            "|[Green Onions, Bu...| 187|\n",
            "|[Green Onions, La...| 229|\n",
            "+--------------------+----+\n",
            "only showing top 20 rows\n",
            "\n",
            "+--------------------+--------------------+------------------+------------------+--------------------+\n",
            "|          antecedent|          consequent|        confidence|              lift|             support|\n",
            "+--------------------+--------------------+------------------+------------------+--------------------+\n",
            "|[Organic Whole St...|[Bag of Organic B...|0.5314685314685315| 4.504745125675359|0.001158457118033...|\n",
            "|[Organic Broccoli...|[Bag of Organic B...|0.5048231511254019| 4.278897986822536|0.001196564260073623|\n",
            "|[Organic Navel Or...|[Bag of Organic B...|0.5412186379928315| 4.587387356098284|0.001150835689624...|\n",
            "|[Organic Kiwi, Or...|[Bag of Organic B...|0.5459770114942529| 4.627719489738336|0.001448071397541327|\n",
            "|[Organic D'Anjou ...|[Bag of Organic B...|0.5170454545454546|4.3824946411792345|0.001387099970276...|\n",
            "|[Organic Raspberr...|[Bag of Organic B...| 0.521099116781158| 4.416853618458589|0.004046978484707604|\n",
            "|[Organic Navel Or...|[Bag of Organic B...|0.5283018867924528| 4.477904539027839|0.001493799967990...|\n",
            "|[Organic Raspberr...|[Bag of Organic B...|0.5984251968503937| 5.072272070642333|0.001737685677049...|\n",
            "|[Organic Unsweete...|[Bag of Organic B...|0.5141065830721003| 4.357584667849303|0.001249914258930...|\n",
            "|[Organic Cucumber...|[Bag of Organic B...|          0.546875| 4.635330870478036|0.001066999977135...|\n",
            "|[Yellow Onions, S...|            [Banana]|0.5357142857142857|3.7536332219526702|0.001143214261216...|\n",
            "+--------------------+--------------------+------------------+------------------+--------------------+\n",
            "\n",
            "+--------+--------------------+--------------------+\n",
            "|order_id|        product_name|          prediction|\n",
            "+--------+--------------------+--------------------+\n",
            "|       1|[Bulgarian Yogurt...|                  []|\n",
            "|      96|[Roasted Turkey, ...|                  []|\n",
            "|     112|[Fresh Cauliflowe...|                  []|\n",
            "|     218|[Natural Artisan ...|                  []|\n",
            "|     456|[Chorizo Pork, Pe...|                  []|\n",
            "|     473|[Organic Whole Mi...|                  []|\n",
            "|     631|[Organic Strawber...|                  []|\n",
            "|     762|[Organic Strawber...|                  []|\n",
            "|     774|[Ice Cream Variet...|                  []|\n",
            "|     844|[Green Beans, Org...|                  []|\n",
            "|     904|[Cup Noodles Chic...|                  []|\n",
            "|     988|[Natural Vanilla ...|                  []|\n",
            "|    1032|[Clover Org Greek...|                  []|\n",
            "|    1077|[Bag of Organic B...|                  []|\n",
            "|    1119|[Boneless Skinles...|                  []|\n",
            "|    1139|[Banana, Organic ...|                  []|\n",
            "|    1143|[Natural Premium ...|[Bag of Organic B...|\n",
            "|    1145|[Banana, Original...|                  []|\n",
            "|    1275|[Boneless Skinles...|                  []|\n",
            "|    1280|[Lactose Free Hal...|                  []|\n",
            "+--------+--------------------+--------------------+\n",
            "only showing top 20 rows\n",
            "\n"
          ]
        }
      ]
    },
    {
      "cell_type": "markdown",
      "metadata": {
        "id": "qT8Lwm1VAPoN"
      },
      "source": [
        "Now retrain the FP-growth model changing only \n",
        "```minsupport=0.001``` \n",
        "and compute how many Frequent Itemsets and Association Rules were generated."
      ]
    },
    {
      "cell_type": "code",
      "metadata": {
        "id": "F4LTM9beApYn",
        "colab": {
          "base_uri": "https://localhost:8080/"
        },
        "outputId": "131a9be1-71db-473c-889d-a37b1557dc44"
      },
      "source": [
        "# YOUR CODE HERE\n",
        "model.freqItemsets.count()\n",
        "model.associationRules.count()"
      ],
      "execution_count": null,
      "outputs": [
        {
          "output_type": "execute_result",
          "data": {
            "text/plain": [
              "11"
            ]
          },
          "metadata": {},
          "execution_count": 19
        }
      ]
    },
    {
      "cell_type": "code",
      "source": [
        "model.freqItemsets.sort(model.freqItemsets.freq.desc()).show(truncate=False)"
      ],
      "metadata": {
        "colab": {
          "base_uri": "https://localhost:8080/"
        },
        "id": "2UeYabA7Q9dW",
        "outputId": "90451d44-8965-440d-a1b0-061bc7a2cce6"
      },
      "execution_count": null,
      "outputs": [
        {
          "output_type": "stream",
          "name": "stdout",
          "text": [
            "+------------------------+-----+\n",
            "|items                   |freq |\n",
            "+------------------------+-----+\n",
            "|[Banana]                |18726|\n",
            "|[Bag of Organic Bananas]|15480|\n",
            "|[Organic Strawberries]  |10894|\n",
            "|[Organic Baby Spinach]  |9784 |\n",
            "|[Large Lemon]           |8135 |\n",
            "|[Organic Avocado]       |7409 |\n",
            "|[Organic Hass Avocado]  |7293 |\n",
            "|[Strawberries]          |6494 |\n",
            "|[Limes]                 |6033 |\n",
            "|[Organic Raspberries]   |5546 |\n",
            "|[Organic Blueberries]   |4966 |\n",
            "|[Organic Whole Milk]    |4908 |\n",
            "|[Organic Cucumber]      |4613 |\n",
            "|[Organic Zucchini]      |4589 |\n",
            "|[Organic Yellow Onion]  |4290 |\n",
            "|[Organic Garlic]        |4158 |\n",
            "|[Seedless Red Grapes]   |4059 |\n",
            "|[Asparagus]             |3868 |\n",
            "|[Organic Grape Tomatoes]|3823 |\n",
            "|[Organic Red Onion]     |3818 |\n",
            "+------------------------+-----+\n",
            "only showing top 20 rows\n",
            "\n"
          ]
        }
      ]
    },
    {
      "cell_type": "code",
      "source": [
        "model.transform(group_order).sort(model.transform.prediction.desc()).show()"
      ],
      "metadata": {
        "colab": {
          "base_uri": "https://localhost:8080/",
          "height": 166
        },
        "id": "mypeicp1TeqU",
        "outputId": "7a99cfea-e19d-4663-d1db-a067914e5c64"
      },
      "execution_count": null,
      "outputs": [
        {
          "output_type": "error",
          "ename": "AttributeError",
          "evalue": "ignored",
          "traceback": [
            "\u001b[0;31m---------------------------------------------------------------------------\u001b[0m",
            "\u001b[0;31mAttributeError\u001b[0m                            Traceback (most recent call last)",
            "\u001b[0;32m<ipython-input-21-a0cb18506874>\u001b[0m in \u001b[0;36m<module>\u001b[0;34m\u001b[0m\n\u001b[0;32m----> 1\u001b[0;31m \u001b[0mmodel\u001b[0m\u001b[0;34m.\u001b[0m\u001b[0mtransform\u001b[0m\u001b[0;34m(\u001b[0m\u001b[0mgroup_order\u001b[0m\u001b[0;34m)\u001b[0m\u001b[0;34m.\u001b[0m\u001b[0msort\u001b[0m\u001b[0;34m(\u001b[0m\u001b[0mmodel\u001b[0m\u001b[0;34m.\u001b[0m\u001b[0mtransform\u001b[0m\u001b[0;34m.\u001b[0m\u001b[0mprediction\u001b[0m\u001b[0;34m.\u001b[0m\u001b[0mdesc\u001b[0m\u001b[0;34m(\u001b[0m\u001b[0;34m)\u001b[0m\u001b[0;34m)\u001b[0m\u001b[0;34m.\u001b[0m\u001b[0mshow\u001b[0m\u001b[0;34m(\u001b[0m\u001b[0;34m)\u001b[0m\u001b[0;34m\u001b[0m\u001b[0;34m\u001b[0m\u001b[0m\n\u001b[0m",
            "\u001b[0;31mAttributeError\u001b[0m: 'function' object has no attribute 'prediction'"
          ]
        }
      ]
    },
    {
      "cell_type": "code",
      "source": [
        "model.associationRules.show(truncate=False)"
      ],
      "metadata": {
        "colab": {
          "base_uri": "https://localhost:8080/"
        },
        "id": "a9yRv4CvMplc",
        "outputId": "f1984b2a-9b33-43c6-ae9e-a2a3893b377c"
      },
      "execution_count": null,
      "outputs": [
        {
          "output_type": "stream",
          "name": "stdout",
          "text": [
            "+-----------------------------------------------------------------+------------------------+------------------+------------------+---------------------+\n",
            "|antecedent                                                       |consequent              |confidence        |lift              |support              |\n",
            "+-----------------------------------------------------------------+------------------------+------------------+------------------+---------------------+\n",
            "|[Organic Whole String Cheese, Organic Hass Avocado]              |[Bag of Organic Bananas]|0.5314685314685315|4.504745125675359 |0.0011584571180330617|\n",
            "|[Organic Broccoli, Organic Hass Avocado]                         |[Bag of Organic Bananas]|0.5048231511254019|4.278897986822536 |0.001196564260073623 |\n",
            "|[Organic Navel Orange, Organic Raspberries]                      |[Bag of Organic Bananas]|0.5412186379928315|4.587387356098284 |0.0011508356896249496|\n",
            "|[Organic Kiwi, Organic Hass Avocado]                             |[Bag of Organic Bananas]|0.5459770114942529|4.627719489738336 |0.001448071397541327 |\n",
            "|[Organic D'Anjou Pears, Organic Hass Avocado]                    |[Bag of Organic Bananas]|0.5170454545454546|4.3824946411792345|0.0013870999702764292|\n",
            "|[Organic Raspberries, Organic Hass Avocado]                      |[Bag of Organic Bananas]|0.521099116781158 |4.416853618458589 |0.004046978484707604 |\n",
            "|[Organic Navel Orange, Organic Hass Avocado]                     |[Bag of Organic Bananas]|0.5283018867924528|4.477904539027839 |0.0014937999679900007|\n",
            "|[Organic Raspberries, Organic Hass Avocado, Organic Strawberries]|[Bag of Organic Bananas]|0.5984251968503937|5.072272070642333 |0.0017376856770495927|\n",
            "|[Organic Unsweetened Almond Milk, Organic Hass Avocado]          |[Bag of Organic Bananas]|0.5141065830721003|4.357584667849303 |0.0012499142589304088|\n",
            "|[Organic Cucumber, Organic Hass Avocado, Organic Strawberries]   |[Bag of Organic Bananas]|0.546875          |4.635330870478036 |0.0010669999771357147|\n",
            "|[Yellow Onions, Strawberries]                                    |[Banana]                |0.5357142857142857|3.7536332219526702|0.0011432142612168373|\n",
            "+-----------------------------------------------------------------+------------------------+------------------+------------------+---------------------+\n",
            "\n"
          ]
        }
      ]
    },
    {
      "cell_type": "markdown",
      "metadata": {
        "id": "k9FOt5jRNFGt"
      },
      "source": [
        "Now, for \n",
        "```minsupport=0.001```, \n",
        "visualize the top Frequent Itemsets and Association Rules.\n",
        "\n",
        "In addition, for\n",
        "```minsupport=0.001```, \n",
        "calculate the \"interest\" of the Association Rules. \n",
        "\n",
        "(Hint: One way to do this is by joining the Frequent Itemsets with the Association Rules, then introducing an \"interest\" column using the joined dataframe)\n",
        "\n",
        "\n"
      ]
    },
    {
      "cell_type": "code",
      "metadata": {
        "id": "wEqWxzTCNS87",
        "colab": {
          "base_uri": "https://localhost:8080/"
        },
        "outputId": "97c911a2-2c97-4ee7-e21b-e4a8e61078a8"
      },
      "source": [
        "# YOUR CODE HERE\n",
        "result = model.freqItemsets.join(model.associationRules, model.freqItemsets.items == model.associationRules.antecedent)\n",
        "\n",
        "result.show(truncate=False)\n",
        "#result.select(freq)\n",
        "# number of unique orders"
      ],
      "execution_count": null,
      "outputs": [
        {
          "output_type": "stream",
          "name": "stdout",
          "text": [
            "+-----------------------------------------------------------------+----+-----------------------------------------------------------------+------------------------+------------------+------------------+---------------------+\n",
            "|items                                                            |freq|antecedent                                                       |consequent              |confidence        |lift              |support              |\n",
            "+-----------------------------------------------------------------+----+-----------------------------------------------------------------+------------------------+------------------+------------------+---------------------+\n",
            "|[Organic Broccoli, Organic Hass Avocado]                         |311 |[Organic Broccoli, Organic Hass Avocado]                         |[Bag of Organic Bananas]|0.5048231511254019|4.278897986822536 |0.001196564260073623 |\n",
            "|[Organic D'Anjou Pears, Organic Hass Avocado]                    |352 |[Organic D'Anjou Pears, Organic Hass Avocado]                    |[Bag of Organic Bananas]|0.5170454545454546|4.3824946411792345|0.0013870999702764292|\n",
            "|[Organic Navel Orange, Organic Raspberries]                      |279 |[Organic Navel Orange, Organic Raspberries]                      |[Bag of Organic Bananas]|0.5412186379928315|4.587387356098284 |0.0011508356896249496|\n",
            "|[Organic Whole String Cheese, Organic Hass Avocado]              |286 |[Organic Whole String Cheese, Organic Hass Avocado]              |[Bag of Organic Bananas]|0.5314685314685315|4.504745125675359 |0.0011584571180330617|\n",
            "|[Organic Kiwi, Organic Hass Avocado]                             |348 |[Organic Kiwi, Organic Hass Avocado]                             |[Bag of Organic Bananas]|0.5459770114942529|4.627719489738336 |0.001448071397541327 |\n",
            "|[Organic Unsweetened Almond Milk, Organic Hass Avocado]          |319 |[Organic Unsweetened Almond Milk, Organic Hass Avocado]          |[Bag of Organic Bananas]|0.5141065830721003|4.357584667849303 |0.0012499142589304088|\n",
            "|[Organic Cucumber, Organic Hass Avocado, Organic Strawberries]   |256 |[Organic Cucumber, Organic Hass Avocado, Organic Strawberries]   |[Bag of Organic Bananas]|0.546875          |4.635330870478036 |0.0010669999771357147|\n",
            "|[Yellow Onions, Strawberries]                                    |280 |[Yellow Onions, Strawberries]                                    |[Banana]                |0.5357142857142857|3.7536332219526702|0.0011432142612168373|\n",
            "|[Organic Raspberries, Organic Hass Avocado, Organic Strawberries]|381 |[Organic Raspberries, Organic Hass Avocado, Organic Strawberries]|[Bag of Organic Bananas]|0.5984251968503937|5.072272070642333 |0.0017376856770495927|\n",
            "|[Organic Navel Orange, Organic Hass Avocado]                     |371 |[Organic Navel Orange, Organic Hass Avocado]                     |[Bag of Organic Bananas]|0.5283018867924528|4.477904539027839 |0.0014937999679900007|\n",
            "|[Organic Raspberries, Organic Hass Avocado]                      |1019|[Organic Raspberries, Organic Hass Avocado]                      |[Bag of Organic Bananas]|0.521099116781158 |4.416853618458589 |0.004046978484707604 |\n",
            "+-----------------------------------------------------------------+----+-----------------------------------------------------------------+------------------------+------------------+------------------+---------------------+\n",
            "\n"
          ]
        }
      ]
    },
    {
      "cell_type": "code",
      "source": [
        "311/131209"
      ],
      "metadata": {
        "colab": {
          "base_uri": "https://localhost:8080/"
        },
        "id": "ksas0yQnLWgf",
        "outputId": "82fad19b-9b94-4b80-dc5e-6c326e555b5a"
      },
      "execution_count": null,
      "outputs": [
        {
          "output_type": "execute_result",
          "data": {
            "text/plain": [
              "0.002370264234922909"
            ]
          },
          "metadata": {},
          "execution_count": 31
        }
      ]
    },
    {
      "cell_type": "code",
      "source": [
        "result.show(truncate=False)"
      ],
      "metadata": {
        "id": "qqdO6vWZbvDx",
        "outputId": "bc54d83f-4d0a-4fe8-e4f9-f94b1775c0b2",
        "colab": {
          "base_uri": "https://localhost:8080/"
        }
      },
      "execution_count": null,
      "outputs": [
        {
          "output_type": "stream",
          "name": "stdout",
          "text": [
            "+-----------------------------------------------------------------+----+-----------------------------------------------------------------+------------------------+------------------+------------------+---------------------+\n",
            "|items                                                            |freq|antecedent                                                       |consequent              |confidence        |lift              |support              |\n",
            "+-----------------------------------------------------------------+----+-----------------------------------------------------------------+------------------------+------------------+------------------+---------------------+\n",
            "|[Organic Broccoli, Organic Hass Avocado]                         |311 |[Organic Broccoli, Organic Hass Avocado]                         |[Bag of Organic Bananas]|0.5048231511254019|4.278897986822536 |0.001196564260073623 |\n",
            "|[Organic D'Anjou Pears, Organic Hass Avocado]                    |352 |[Organic D'Anjou Pears, Organic Hass Avocado]                    |[Bag of Organic Bananas]|0.5170454545454546|4.3824946411792345|0.0013870999702764292|\n",
            "|[Organic Navel Orange, Organic Raspberries]                      |279 |[Organic Navel Orange, Organic Raspberries]                      |[Bag of Organic Bananas]|0.5412186379928315|4.587387356098284 |0.0011508356896249496|\n",
            "|[Organic Whole String Cheese, Organic Hass Avocado]              |286 |[Organic Whole String Cheese, Organic Hass Avocado]              |[Bag of Organic Bananas]|0.5314685314685315|4.504745125675359 |0.0011584571180330617|\n",
            "|[Organic Kiwi, Organic Hass Avocado]                             |348 |[Organic Kiwi, Organic Hass Avocado]                             |[Bag of Organic Bananas]|0.5459770114942529|4.627719489738336 |0.001448071397541327 |\n",
            "|[Organic Unsweetened Almond Milk, Organic Hass Avocado]          |319 |[Organic Unsweetened Almond Milk, Organic Hass Avocado]          |[Bag of Organic Bananas]|0.5141065830721003|4.357584667849303 |0.0012499142589304088|\n",
            "|[Organic Cucumber, Organic Hass Avocado, Organic Strawberries]   |256 |[Organic Cucumber, Organic Hass Avocado, Organic Strawberries]   |[Bag of Organic Bananas]|0.546875          |4.635330870478036 |0.0010669999771357147|\n",
            "|[Yellow Onions, Strawberries]                                    |280 |[Yellow Onions, Strawberries]                                    |[Banana]                |0.5357142857142857|3.7536332219526702|0.0011432142612168373|\n",
            "|[Organic Raspberries, Organic Hass Avocado, Organic Strawberries]|381 |[Organic Raspberries, Organic Hass Avocado, Organic Strawberries]|[Bag of Organic Bananas]|0.5984251968503937|5.072272070642333 |0.0017376856770495927|\n",
            "|[Organic Navel Orange, Organic Hass Avocado]                     |371 |[Organic Navel Orange, Organic Hass Avocado]                     |[Bag of Organic Bananas]|0.5283018867924528|4.477904539027839 |0.0014937999679900007|\n",
            "|[Organic Raspberries, Organic Hass Avocado]                      |1019|[Organic Raspberries, Organic Hass Avocado]                      |[Bag of Organic Bananas]|0.521099116781158 |4.416853618458589 |0.004046978484707604 |\n",
            "+-----------------------------------------------------------------+----+-----------------------------------------------------------------+------------------------+------------------+------------------+---------------------+\n",
            "\n"
          ]
        }
      ]
    },
    {
      "cell_type": "markdown",
      "metadata": {
        "id": "2WSXPflUN76-"
      },
      "source": [
        "To conclude, go to Gradescope and read the remaining questions. We will ask you to inspect the resulting dataframes, and report a few results."
      ]
    }
  ]
}