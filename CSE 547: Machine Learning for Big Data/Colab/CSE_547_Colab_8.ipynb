{
  "nbformat": 4,
  "nbformat_minor": 0,
  "metadata": {
    "colab": {
      "provenance": []
    },
    "kernelspec": {
      "name": "python3",
      "display_name": "Python 3"
    }
  },
  "cells": [
    {
      "cell_type": "markdown",
      "metadata": {
        "id": "MEHPKUZnSg-_"
      },
      "source": [
        "# CSE547 - Colab 8 \n",
        "## Submodular Optimization\n",
        "\n"
      ]
    },
    {
      "cell_type": "markdown",
      "metadata": {
        "id": "hHAPy42EofuI"
      },
      "source": [
        "# Setup"
      ]
    },
    {
      "cell_type": "markdown",
      "metadata": {
        "id": "PUUjUvXe3Sjk"
      },
      "source": [
        "Let's authenticate a Google Drive client to download the file we will be processing.\n",
        "\n",
        "**Make sure to follow the interactive instructions.**"
      ]
    },
    {
      "cell_type": "code",
      "metadata": {
        "id": "mW6NrbFLpDK1"
      },
      "source": [
        "!pip install -U -q PyDrive"
      ],
      "execution_count": null,
      "outputs": []
    },
    {
      "cell_type": "code",
      "metadata": {
        "id": "lRElWs_x2mGh"
      },
      "source": [
        "from pydrive.auth import GoogleAuth\n",
        "from pydrive.drive import GoogleDrive\n",
        "from google.colab import auth\n",
        "from oauth2client.client import GoogleCredentials\n",
        "\n",
        "# Authenticate and create the PyDrive client\n",
        "auth.authenticate_user()\n",
        "gauth = GoogleAuth()\n",
        "gauth.credentials = GoogleCredentials.get_application_default()\n",
        "drive = GoogleDrive(gauth)"
      ],
      "execution_count": null,
      "outputs": []
    },
    {
      "cell_type": "code",
      "metadata": {
        "id": "QHsFTGUy2n1c"
      },
      "source": [
        "id='1VjVUIIRfxikSocPTp2FdmmLza8c-n_qC'\n",
        "downloaded = drive.CreateFile({'id': id})\n",
        "downloaded.GetContentFile('book_ratings.csv')"
      ],
      "execution_count": null,
      "outputs": []
    },
    {
      "cell_type": "markdown",
      "metadata": {
        "id": "qwtlO4_m_LbQ"
      },
      "source": [
        "If you executed the cells above, you should be able to see the dataset we will use for this Colab under the \"Files\" tab on the left panel.\n",
        "\n",
        "Next, we import some of the common libraries for our task."
      ]
    },
    {
      "cell_type": "code",
      "metadata": {
        "id": "tijhg4uxJaeV"
      },
      "source": [
        "import pandas as pd\n",
        "import numpy as np\n",
        "import time\n",
        "\n",
        "import warnings\n",
        "warnings.filterwarnings(\"ignore\")\n",
        "\n",
        "from heapq import heappop, heappush"
      ],
      "execution_count": null,
      "outputs": []
    },
    {
      "cell_type": "markdown",
      "metadata": {
        "id": "QZe_FHUnAEOB"
      },
      "source": [
        "# Your Task"
      ]
    },
    {
      "cell_type": "markdown",
      "metadata": {
        "id": "OsEH0eJlpImt"
      },
      "source": [
        "If you run successfully the setup stage, you are ready to work with the **Book-Crossing (BX) dataset**. If you want to read more about it, check the [official website](http://www2.informatik.uni-freiburg.de/~cziegler/BX/) of the dataset, which contains concise schema description of the dataset, and the download page.\n",
        "\n",
        "In this Colab, we will use the [Pandas API](https://pandas.pydata.org/docs/user_guide/index.html) to perform submodular optimiazation algorithms on a small subset of the BX-Book-Ratings dataset (20K users). \n",
        "\n"
      ]
    },
    {
      "cell_type": "code",
      "metadata": {
        "id": "QIK3lBwecBo3",
        "colab": {
          "base_uri": "https://localhost:8080/",
          "height": 206
        },
        "outputId": "e0a0a603-43b2-43fe-dcdb-6d161dcc44bf"
      },
      "source": [
        "data = pd.read_csv('book_ratings.csv')\n",
        "data.head()"
      ],
      "execution_count": null,
      "outputs": [
        {
          "output_type": "execute_result",
          "data": {
            "text/plain": [
              "   userid        isbn  rating\n",
              "0  276727  0446520802       0\n",
              "1  276729  052165615X       3\n",
              "2  276729  0521795028       6\n",
              "3  276736  3257224281       8\n",
              "4  276762  034544003X       0"
            ],
            "text/html": [
              "\n",
              "  <div id=\"df-cdaea658-4e36-4cb6-91e4-0f55d8ee1c53\">\n",
              "    <div class=\"colab-df-container\">\n",
              "      <div>\n",
              "<style scoped>\n",
              "    .dataframe tbody tr th:only-of-type {\n",
              "        vertical-align: middle;\n",
              "    }\n",
              "\n",
              "    .dataframe tbody tr th {\n",
              "        vertical-align: top;\n",
              "    }\n",
              "\n",
              "    .dataframe thead th {\n",
              "        text-align: right;\n",
              "    }\n",
              "</style>\n",
              "<table border=\"1\" class=\"dataframe\">\n",
              "  <thead>\n",
              "    <tr style=\"text-align: right;\">\n",
              "      <th></th>\n",
              "      <th>userid</th>\n",
              "      <th>isbn</th>\n",
              "      <th>rating</th>\n",
              "    </tr>\n",
              "  </thead>\n",
              "  <tbody>\n",
              "    <tr>\n",
              "      <th>0</th>\n",
              "      <td>276727</td>\n",
              "      <td>0446520802</td>\n",
              "      <td>0</td>\n",
              "    </tr>\n",
              "    <tr>\n",
              "      <th>1</th>\n",
              "      <td>276729</td>\n",
              "      <td>052165615X</td>\n",
              "      <td>3</td>\n",
              "    </tr>\n",
              "    <tr>\n",
              "      <th>2</th>\n",
              "      <td>276729</td>\n",
              "      <td>0521795028</td>\n",
              "      <td>6</td>\n",
              "    </tr>\n",
              "    <tr>\n",
              "      <th>3</th>\n",
              "      <td>276736</td>\n",
              "      <td>3257224281</td>\n",
              "      <td>8</td>\n",
              "    </tr>\n",
              "    <tr>\n",
              "      <th>4</th>\n",
              "      <td>276762</td>\n",
              "      <td>034544003X</td>\n",
              "      <td>0</td>\n",
              "    </tr>\n",
              "  </tbody>\n",
              "</table>\n",
              "</div>\n",
              "      <button class=\"colab-df-convert\" onclick=\"convertToInteractive('df-cdaea658-4e36-4cb6-91e4-0f55d8ee1c53')\"\n",
              "              title=\"Convert this dataframe to an interactive table.\"\n",
              "              style=\"display:none;\">\n",
              "        \n",
              "  <svg xmlns=\"http://www.w3.org/2000/svg\" height=\"24px\"viewBox=\"0 0 24 24\"\n",
              "       width=\"24px\">\n",
              "    <path d=\"M0 0h24v24H0V0z\" fill=\"none\"/>\n",
              "    <path d=\"M18.56 5.44l.94 2.06.94-2.06 2.06-.94-2.06-.94-.94-2.06-.94 2.06-2.06.94zm-11 1L8.5 8.5l.94-2.06 2.06-.94-2.06-.94L8.5 2.5l-.94 2.06-2.06.94zm10 10l.94 2.06.94-2.06 2.06-.94-2.06-.94-.94-2.06-.94 2.06-2.06.94z\"/><path d=\"M17.41 7.96l-1.37-1.37c-.4-.4-.92-.59-1.43-.59-.52 0-1.04.2-1.43.59L10.3 9.45l-7.72 7.72c-.78.78-.78 2.05 0 2.83L4 21.41c.39.39.9.59 1.41.59.51 0 1.02-.2 1.41-.59l7.78-7.78 2.81-2.81c.8-.78.8-2.07 0-2.86zM5.41 20L4 18.59l7.72-7.72 1.47 1.35L5.41 20z\"/>\n",
              "  </svg>\n",
              "      </button>\n",
              "      \n",
              "  <style>\n",
              "    .colab-df-container {\n",
              "      display:flex;\n",
              "      flex-wrap:wrap;\n",
              "      gap: 12px;\n",
              "    }\n",
              "\n",
              "    .colab-df-convert {\n",
              "      background-color: #E8F0FE;\n",
              "      border: none;\n",
              "      border-radius: 50%;\n",
              "      cursor: pointer;\n",
              "      display: none;\n",
              "      fill: #1967D2;\n",
              "      height: 32px;\n",
              "      padding: 0 0 0 0;\n",
              "      width: 32px;\n",
              "    }\n",
              "\n",
              "    .colab-df-convert:hover {\n",
              "      background-color: #E2EBFA;\n",
              "      box-shadow: 0px 1px 2px rgba(60, 64, 67, 0.3), 0px 1px 3px 1px rgba(60, 64, 67, 0.15);\n",
              "      fill: #174EA6;\n",
              "    }\n",
              "\n",
              "    [theme=dark] .colab-df-convert {\n",
              "      background-color: #3B4455;\n",
              "      fill: #D2E3FC;\n",
              "    }\n",
              "\n",
              "    [theme=dark] .colab-df-convert:hover {\n",
              "      background-color: #434B5C;\n",
              "      box-shadow: 0px 1px 3px 1px rgba(0, 0, 0, 0.15);\n",
              "      filter: drop-shadow(0px 1px 2px rgba(0, 0, 0, 0.3));\n",
              "      fill: #FFFFFF;\n",
              "    }\n",
              "  </style>\n",
              "\n",
              "      <script>\n",
              "        const buttonEl =\n",
              "          document.querySelector('#df-cdaea658-4e36-4cb6-91e4-0f55d8ee1c53 button.colab-df-convert');\n",
              "        buttonEl.style.display =\n",
              "          google.colab.kernel.accessAllowed ? 'block' : 'none';\n",
              "\n",
              "        async function convertToInteractive(key) {\n",
              "          const element = document.querySelector('#df-cdaea658-4e36-4cb6-91e4-0f55d8ee1c53');\n",
              "          const dataTable =\n",
              "            await google.colab.kernel.invokeFunction('convertToInteractive',\n",
              "                                                     [key], {});\n",
              "          if (!dataTable) return;\n",
              "\n",
              "          const docLinkHtml = 'Like what you see? Visit the ' +\n",
              "            '<a target=\"_blank\" href=https://colab.research.google.com/notebooks/data_table.ipynb>data table notebook</a>'\n",
              "            + ' to learn more about interactive tables.';\n",
              "          element.innerHTML = '';\n",
              "          dataTable['output_type'] = 'display_data';\n",
              "          await google.colab.output.renderOutput(dataTable, element);\n",
              "          const docLink = document.createElement('div');\n",
              "          docLink.innerHTML = docLinkHtml;\n",
              "          element.appendChild(docLink);\n",
              "        }\n",
              "      </script>\n",
              "    </div>\n",
              "  </div>\n",
              "  "
            ]
          },
          "metadata": {},
          "execution_count": 5
        }
      ]
    },
    {
      "cell_type": "code",
      "source": [
        "sub = data[data.userid.isin([198711, 212898, 234623])]"
      ],
      "metadata": {
        "id": "YLN6XtQBe8cb"
      },
      "execution_count": null,
      "outputs": []
    },
    {
      "cell_type": "code",
      "source": [
        "len(sub.isbn.unique())"
      ],
      "metadata": {
        "colab": {
          "base_uri": "https://localhost:8080/"
        },
        "id": "tfsjXW11isZU",
        "outputId": "63f9c0ff-62fa-4663-a203-ece2b7c828a2"
      },
      "execution_count": null,
      "outputs": [
        {
          "output_type": "execute_result",
          "data": {
            "text/plain": [
              "14324"
            ]
          },
          "metadata": {},
          "execution_count": 87
        }
      ]
    },
    {
      "cell_type": "markdown",
      "metadata": {
        "id": "9WKcrHw-0MpV"
      },
      "source": [
        "Let's see the top 10 readers who have rated the most books, sorted in descending order. "
      ]
    },
    {
      "cell_type": "code",
      "metadata": {
        "id": "eJ6L83Svb-YM",
        "colab": {
          "base_uri": "https://localhost:8080/"
        },
        "outputId": "c82ea8e7-4d8d-470d-97e8-47149f554d12"
      },
      "source": [
        "data.groupby('userid').isbn.nunique().sort_values(ascending=False)[:10]"
      ],
      "execution_count": null,
      "outputs": [
        {
          "output_type": "execute_result",
          "data": {
            "text/plain": [
              "userid\n",
              "198711    7550\n",
              "212898    4785\n",
              "234623    2674\n",
              "102967    2352\n",
              "98741     2317\n",
              "190925    2154\n",
              "69697     1915\n",
              "78783     1879\n",
              "238781    1685\n",
              "23902     1503\n",
              "Name: isbn, dtype: int64"
            ]
          },
          "metadata": {},
          "execution_count": 27
        }
      ]
    },
    {
      "cell_type": "code",
      "source": [
        "list(data.groupby('userid').isbn.nunique().sort_values(ascending=False)[:10].index)"
      ],
      "metadata": {
        "colab": {
          "base_uri": "https://localhost:8080/"
        },
        "id": "Bf0B98t2jTD0",
        "outputId": "6a699079-1777-4c84-c343-81b9142ddbe7"
      },
      "execution_count": null,
      "outputs": [
        {
          "output_type": "execute_result",
          "data": {
            "text/plain": [
              "[198711, 212898, 234623, 102967, 98741, 190925, 69697, 78783, 238781, 23902]"
            ]
          },
          "metadata": {},
          "execution_count": 95
        }
      ]
    },
    {
      "cell_type": "markdown",
      "metadata": {
        "id": "iLZPWwhoPfhp"
      },
      "source": [
        "Your goal is to find the set of users who rated the most *unique* books by implementing the **greedy submodular optimization algorithm** and the **lazy greedy algorithm**. Note: A user may give a rating of 0 to a book. "
      ]
    },
    {
      "cell_type": "markdown",
      "metadata": {
        "id": "0nlVaGXH7gYS"
      },
      "source": [
        "\n",
        "## Q1: Greedy Submodular Optimization Algorithm\n"
      ]
    },
    {
      "cell_type": "markdown",
      "metadata": {
        "id": "_vDvKxYYHBAu"
      },
      "source": [
        "We start by determining our objective function. Write a function that returns the number of unique books rated by the set of users A. "
      ]
    },
    {
      "cell_type": "code",
      "metadata": {
        "id": "2jv_CWzhoD7r"
      },
      "source": [
        "def F(A):\n",
        "  # YOUR CODE HERE \n",
        "  res = []\n",
        "  for i in A:\n",
        "    res.append(len(data[data.userid == i]))\n",
        "  return sum(res)\n"
      ],
      "execution_count": null,
      "outputs": []
    },
    {
      "cell_type": "code",
      "source": [
        "F([\"276727\", \"276729\"])"
      ],
      "metadata": {
        "colab": {
          "base_uri": "https://localhost:8080/"
        },
        "id": "sEYfbYCSf3Pn",
        "outputId": "28306c74-6c2e-4290-d576-2f93e180e3c0"
      },
      "execution_count": null,
      "outputs": [
        {
          "output_type": "execute_result",
          "data": {
            "text/plain": [
              "0"
            ]
          },
          "metadata": {},
          "execution_count": 66
        }
      ]
    },
    {
      "cell_type": "code",
      "source": [
        "res = []\n",
        "for i in [276727, 276727]:\n",
        "  print(str(i))\n",
        "  res.append(len(data[data.userid == i]))\n",
        "res"
      ],
      "metadata": {
        "colab": {
          "base_uri": "https://localhost:8080/"
        },
        "id": "6BdYgMpaf-xX",
        "outputId": "cde6781b-0a7b-474b-d074-63d77030125e"
      },
      "execution_count": null,
      "outputs": [
        {
          "output_type": "stream",
          "name": "stdout",
          "text": [
            "276727\n",
            "276727\n"
          ]
        },
        {
          "output_type": "execute_result",
          "data": {
            "text/plain": [
              "[1, 1]"
            ]
          },
          "metadata": {},
          "execution_count": 70
        }
      ]
    },
    {
      "cell_type": "code",
      "source": [
        "users = data.userid.unique()\n",
        "users"
      ],
      "metadata": {
        "colab": {
          "base_uri": "https://localhost:8080/"
        },
        "id": "aKp7PZrWdAp-",
        "outputId": "420cda7f-f785-4241-d4d2-c96d7947e324"
      },
      "execution_count": null,
      "outputs": [
        {
          "output_type": "execute_result",
          "data": {
            "text/plain": [
              "array([276727, 276729, 276736, ..., 276676, 276681, 276709])"
            ]
          },
          "metadata": {},
          "execution_count": 44
        }
      ]
    },
    {
      "cell_type": "markdown",
      "metadata": {
        "id": "Ft6JdgYscSHK"
      },
      "source": [
        "The greedy(k) function below provides a sketch for the greedy submodular optimization algorithm where the maximum cardinality is set to be k.  Your task is to complete the function and **report the set of users and the objective values (i.e. number of unique books) for k = 2 and 3.** (They may take a while to run). You are free to modify or implement your own code."
      ]
    },
    {
      "cell_type": "code",
      "metadata": {
        "id": "TP-CQ7avbHDP"
      },
      "source": [
        "def greedy(k):\n",
        "\n",
        "  # list of unique user id\n",
        "  users = data.userid.unique()\n",
        "\n",
        "  # initialize the list of candidate users\n",
        "  greedy = []\n",
        "\n",
        "  # initialize the time tracker\n",
        "  time_k = 0\n",
        "\n",
        "  # loop over the cardinality values\n",
        "  for i in range(k):\n",
        "\n",
        "    start_time = time.time()\n",
        "\n",
        "    # ~~~~~~~~~~~~~~~~~~~~~~~~~~~~~~~~~~~~~~~~~~~~~~~~~~~~~~~~~~~~~~~~~\n",
        "    # Find the user who contributes the most gain with respect to the \n",
        "    # objective value\n",
        "    # Save this user in a variable `candidate_user` \n",
        "    # ~~~~~~~~~~~~~~~~~~~~~~~~~~~~~~~~~~~~~~~~~~~~~~~~~~~~~~~~~~~~~~~~~\n",
        "    # YOUR CODE HERE \n",
        "    candidate_user = data.groupby('userid').isbn.nunique().sort_values(ascending=False).index\n",
        "    candidate_user = list(candidate_user)[i]\n",
        "\n",
        "    # update the list of candidate users\n",
        "    greedy = greedy + [candidate_user]\n",
        "\n",
        "    end_time = time.time() - start_time\n",
        "    time_k += end_time\n",
        "\n",
        "    print('k = {}'.format(i+1))\n",
        "    print(\"The set of users: {}\".format(greedy))\n",
        "    print(\"Objective value = {}\".format(F(greedy)))\n",
        "    print(\"Time taken = {} seconds\".format(round(time_k, 5)))\n",
        "\n",
        "    # -------------------------------------------\n",
        "    # remove the chosen candidate from user list\n",
        "    #-------------------------------------------\n",
        "    # YOUR CODE HERE\n",
        "    #users.remove(candidate_user)"
      ],
      "execution_count": null,
      "outputs": []
    },
    {
      "cell_type": "code",
      "source": [
        "greedy(7)"
      ],
      "metadata": {
        "colab": {
          "base_uri": "https://localhost:8080/"
        },
        "id": "H9VrmakjeQAB",
        "outputId": "4e07a04f-c3cf-40c5-f251-18d781ef5755"
      },
      "execution_count": null,
      "outputs": [
        {
          "output_type": "stream",
          "name": "stdout",
          "text": [
            "k = 1\n",
            "The set of users: [198711]\n",
            "Objective value = 7550\n",
            "Time taken = 0.15303 seconds\n",
            "k = 2\n",
            "The set of users: [198711, 212898]\n",
            "Objective value = 12335\n",
            "Time taken = 0.26618 seconds\n",
            "k = 3\n",
            "The set of users: [198711, 212898, 234623]\n",
            "Objective value = 15009\n",
            "Time taken = 0.32414 seconds\n",
            "k = 4\n",
            "The set of users: [198711, 212898, 234623, 102967]\n",
            "Objective value = 17361\n",
            "Time taken = 0.386 seconds\n",
            "k = 5\n",
            "The set of users: [198711, 212898, 234623, 102967, 98741]\n",
            "Objective value = 19678\n",
            "Time taken = 0.43929 seconds\n",
            "k = 6\n",
            "The set of users: [198711, 212898, 234623, 102967, 98741, 190925]\n",
            "Objective value = 21832\n",
            "Time taken = 0.49775 seconds\n",
            "k = 7\n",
            "The set of users: [198711, 212898, 234623, 102967, 98741, 190925, 69697]\n",
            "Objective value = 23747\n",
            "Time taken = 0.55708 seconds\n"
          ]
        }
      ]
    },
    {
      "cell_type": "markdown",
      "metadata": {
        "id": "nCW6Tt79j5kS"
      },
      "source": [
        "## Q2: Lazy Greedy Algorithm\n",
        "\n",
        "Now, revise the code by implementing a lazy greedy optimization algorithm. **Report the set of users and the objective values for k = 7 and 8.**\n",
        "\n",
        "*Hints:* (1) The results should be the same for all k between the two algorithms. (2) The objective value for k = 5 is 18200. (3) It may be useful, but not required, to use the [heapq](https://docs.python.org/2/library/heapq.html) algorithm in keeping the sorted array.\n",
        "\n",
        "\n",
        "\n",
        "\n",
        "\n",
        "\n",
        "\n"
      ]
    },
    {
      "cell_type": "code",
      "metadata": {
        "id": "_lN5mVwgGznI"
      },
      "source": [
        "def lazy(k): \n",
        "\n",
        "  # list of unique user id\n",
        "  users = data.userid.unique()\n",
        "\n",
        "  # initialize the list of candidate users\n",
        "  lazy_greedy = []\n",
        "\n",
        "  # ---------------------------------------------------------\n",
        "  # You may want to initialize a list of marginal gains\n",
        "  # --------------------------------------------------------\n",
        "  # YOUR CODE HERE\n",
        "\n",
        "  \n",
        "  # initialize the time tracker\n",
        "  time_k = 0\n",
        "  \n",
        "  # loop over the cardinality value\n",
        "  for i in range(k):\n",
        "    start_time = time.time()\n",
        "\n",
        "    if i == 0:\n",
        "\n",
        "      # ~~~~~~~~~~~~~~~~~~~~~~~~~~~~~~~~~~~~~~~~~~~~~~~~~~~~~~~~~~~~~~~~~\n",
        "      # Find the user who contributes the most gain with respect to the \n",
        "      # objective value, \n",
        "      # pop and save this user in a variable `candidate_user', \n",
        "      # keep the rest in a sorted array with repect to their marginal gains \n",
        "      # ~~~~~~~~~~~~~~~~~~~~~~~~~~~~~~~~~~~~~~~~~~~~~~~~~~~~~~~~~~~~~~~~~\n",
        "      # YOUR CODE HERE \n",
        "      candidate_user = 198711\n",
        "      marginal_gains =list(data.groupby('userid').isbn.nunique().sort_values(ascending=False)[:20].index)\n",
        "\n",
        "    else:  \n",
        "      # ~~~~~~~~~~~~~~~~~~~~~~~~~~~~~~~~~~~~~~~~~~~~~~~~~~~~~~~~~~~~~~~~~\n",
        "      # This should include a while loop, where a comparison between the second\n",
        "      # best candidate and the third best candidate is made. \n",
        "      # Once you find the next candidate, pop and save this user in `candidate_user' \n",
        "      # ~~~~~~~~~~~~~~~~~~~~~~~~~~~~~~~~~~~~~~~~~~~~~~~~~~~~~~~~~~~~~~~~~\n",
        "      # YOUR CODE HERE\n",
        "      original = data[data.userid == candidate_user].isbn\n",
        "      choice1 = data[data.userid == marginal_gains[0]].isbn\n",
        "      choice2 = data[data.userid == marginal_gains[1]].isbn\n",
        "\n",
        "\n",
        "    lazy_greedy.append(candidate_user)\n",
        "\n",
        "    end_time = time.time() - start_time\n",
        "    time_k += end_time \n",
        "\n",
        "    print('k = {}'.format(i+1))\n",
        "    print(\"The set of users: {}\".format(lazy_greedy))\n",
        "    print(\"Objective value = {}\".format(F(lazy_greedy)))\n",
        "    print(\"Time taken = {} seconds\".format(round(time_k, 5)))\n",
        "    "
      ],
      "execution_count": null,
      "outputs": []
    },
    {
      "cell_type": "code",
      "source": [
        "import heapq\n",
        "\n",
        "def lazy(k): \n",
        "\n",
        "  # list of unique user id\n",
        "  users = data.userid.unique()\n",
        "  start_time = time.time()\n",
        "  # initialize the list of candidate users\n",
        " \n",
        "  gains = []\n",
        "  for user in users:\n",
        "      #spread = compute_independent_cascade(graph, [node], prob, n_iters)\n",
        "      score = F([user])\n",
        "      heapq.heappush(gains, (-score, user))\n",
        "\n",
        "  # we pop the heap to get the node with the best spread,\n",
        "  # when storing the spread to negate it again to store the actual spread\n",
        "  score, user = heapq.heappop(gains)\n",
        "  solution = [user]\n",
        "  score = -score\n",
        "  scores = [score]\n",
        "\n",
        "  # record the number of times the spread is computed\n",
        "  lookups = [len(users)]\n",
        "\n",
        "  for i in range(k - 1):\n",
        "      node_lookup = 0\n",
        "      matched = False\n",
        "\n",
        "      while not matched:\n",
        "          node_lookup += 1\n",
        "\n",
        "          # here we need to compute the marginal gain of adding the current node\n",
        "          # to the solution, instead of just the gain, i.e. we need to subtract\n",
        "          # the spread without adding the current node\n",
        "          _, current_node = heapq.heappop(gains)\n",
        "          score_gain = F(solution + [current_node]) - score\n",
        "\n",
        "          # check if the previous top node stayed on the top after pushing\n",
        "          # the marginal gain to the heap\n",
        "          heapq.heappush(gains, (-score_gain, current_node))\n",
        "          matched = gains[0][1] == current_node\n",
        "\n",
        "      # spread stores the cumulative spread\n",
        "      score_gain, node = heapq.heappop(gains)\n",
        "      score -= score_gain\n",
        "      solution.append(node)\n",
        "      scores.append(score)\n",
        "      lookups.append(node_lookup)\n",
        "\n",
        "\n",
        "      end_time = time.time() - start_time\n",
        "\n",
        "\n",
        "      print('k = {}'.format(i+1))\n",
        "      print(\"The set of users: {}\".format(solution))\n",
        "      print(\"Objective value = {}\".format(F(solution)))\n",
        "      print(\"Time taken = {} seconds\".format(round(end_time, 5)))\n",
        "    "
      ],
      "metadata": {
        "id": "OWgAw2VRl-CG"
      },
      "execution_count": null,
      "outputs": []
    },
    {
      "cell_type": "code",
      "source": [
        "lazy(7)"
      ],
      "metadata": {
        "id": "hA-nyXL9mUmc",
        "outputId": "fbe7500f-a1d3-4ae5-b22e-b6f689def821",
        "colab": {
          "base_uri": "https://localhost:8080/"
        }
      },
      "execution_count": null,
      "outputs": [
        {
          "output_type": "stream",
          "name": "stdout",
          "text": [
            "k = 1\n",
            "The set of users: [198711, 212898]\n",
            "Objective value = 12335\n",
            "Time taken = 8.18648 seconds\n",
            "k = 2\n",
            "The set of users: [198711, 212898, 234623]\n",
            "Objective value = 15009\n",
            "Time taken = 8.19253 seconds\n",
            "k = 3\n",
            "The set of users: [198711, 212898, 234623, 102967]\n",
            "Objective value = 17361\n",
            "Time taken = 8.19697 seconds\n",
            "k = 4\n",
            "The set of users: [198711, 212898, 234623, 102967, 98741]\n",
            "Objective value = 19678\n",
            "Time taken = 8.20365 seconds\n",
            "k = 5\n",
            "The set of users: [198711, 212898, 234623, 102967, 98741, 190925]\n",
            "Objective value = 21832\n",
            "Time taken = 8.21047 seconds\n",
            "k = 6\n",
            "The set of users: [198711, 212898, 234623, 102967, 98741, 190925, 69697]\n",
            "Objective value = 23747\n",
            "Time taken = 8.21801 seconds\n"
          ]
        }
      ]
    },
    {
      "cell_type": "markdown",
      "metadata": {
        "id": "KR_q4HqcDAGl"
      },
      "source": [
        "Once you obtained the desired results, **head over to Gradescope and submit your solution for this Colab**!"
      ]
    }
  ]
}