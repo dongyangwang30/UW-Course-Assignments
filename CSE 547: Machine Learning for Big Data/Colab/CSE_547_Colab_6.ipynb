{
  "nbformat": 4,
  "nbformat_minor": 0,
  "metadata": {
    "colab": {
      "provenance": [],
      "machine_shape": "hm"
    },
    "kernelspec": {
      "name": "python3",
      "display_name": "Python 3"
    }
  },
  "cells": [
    {
      "cell_type": "markdown",
      "metadata": {
        "id": "kPt5q27L5557"
      },
      "source": [
        "# CSE547 - Colab 6\n",
        "## node2vec\n",
        "\n",
        "Adapted from Stanford's CS246"
      ]
    },
    {
      "cell_type": "markdown",
      "metadata": {
        "id": "p0-YhEpP_Ds-"
      },
      "source": [
        "### Setup"
      ]
    },
    {
      "cell_type": "markdown",
      "metadata": {
        "id": "82kmj9fIVlq0"
      },
      "source": [
        "First of all, we install the [nodevectors library](https://github.com/VHRanger/graph2vec) which offers a fast implementation of the node2vec method.\n",
        "\n",
        "If you are curious to learn how to implement fast random walks on graphs, I recommend you to [read the blog post](https://www.singlelunch.com/2019/08/01/700x-faster-node2vec-models-fastest-random-walks-on-a-graph/) which explains some of the design choices behind this library."
      ]
    },
    {
      "cell_type": "code",
      "metadata": {
        "id": "Ld017NzXCo-g",
        "colab": {
          "base_uri": "https://localhost:8080/"
        },
        "outputId": "a292cf93-339b-4dda-d048-f77ad0549519"
      },
      "source": [
        "!pip install nodevectors \n",
        "!pip install gensim==3.6\n",
        "!pip install networkx==2.4.0"
      ],
      "execution_count": null,
      "outputs": [
        {
          "output_type": "stream",
          "name": "stdout",
          "text": [
            "Looking in indexes: https://pypi.org/simple, https://us-python.pkg.dev/colab-wheels/public/simple/\n",
            "Collecting nodevectors\n",
            "  Downloading nodevectors-0.1.23.tar.gz (15 kB)\n",
            "  Preparing metadata (setup.py) ... \u001b[?25l\u001b[?25hdone\n",
            "Collecting csrgraph\n",
            "  Downloading csrgraph-0.1.28.tar.gz (14 kB)\n",
            "  Preparing metadata (setup.py) ... \u001b[?25l\u001b[?25hdone\n",
            "Requirement already satisfied: gensim in /usr/local/lib/python3.8/dist-packages (from nodevectors) (3.6.0)\n",
            "Requirement already satisfied: networkx in /usr/local/lib/python3.8/dist-packages (from nodevectors) (3.0)\n",
            "Requirement already satisfied: numba in /usr/local/lib/python3.8/dist-packages (from nodevectors) (0.56.4)\n",
            "Requirement already satisfied: numpy in /usr/local/lib/python3.8/dist-packages (from nodevectors) (1.21.6)\n",
            "Requirement already satisfied: pandas>=1.0 in /usr/local/lib/python3.8/dist-packages (from nodevectors) (1.3.5)\n",
            "Requirement already satisfied: scipy in /usr/local/lib/python3.8/dist-packages (from nodevectors) (1.7.3)\n",
            "Requirement already satisfied: scikit-learn in /usr/local/lib/python3.8/dist-packages (from nodevectors) (1.0.2)\n",
            "Requirement already satisfied: pytz>=2017.3 in /usr/local/lib/python3.8/dist-packages (from pandas>=1.0->nodevectors) (2022.7.1)\n",
            "Requirement already satisfied: python-dateutil>=2.7.3 in /usr/local/lib/python3.8/dist-packages (from pandas>=1.0->nodevectors) (2.8.2)\n",
            "Requirement already satisfied: tqdm in /usr/local/lib/python3.8/dist-packages (from csrgraph->nodevectors) (4.64.1)\n",
            "Requirement already satisfied: smart-open>=1.2.1 in /usr/local/lib/python3.8/dist-packages (from gensim->nodevectors) (6.3.0)\n",
            "Requirement already satisfied: six>=1.5.0 in /usr/local/lib/python3.8/dist-packages (from gensim->nodevectors) (1.15.0)\n",
            "Requirement already satisfied: llvmlite<0.40,>=0.39.0dev0 in /usr/local/lib/python3.8/dist-packages (from numba->nodevectors) (0.39.1)\n",
            "Requirement already satisfied: importlib-metadata in /usr/local/lib/python3.8/dist-packages (from numba->nodevectors) (6.0.0)\n",
            "Requirement already satisfied: setuptools in /usr/local/lib/python3.8/dist-packages (from numba->nodevectors) (57.4.0)\n",
            "Requirement already satisfied: joblib>=0.11 in /usr/local/lib/python3.8/dist-packages (from scikit-learn->nodevectors) (1.2.0)\n",
            "Requirement already satisfied: threadpoolctl>=2.0.0 in /usr/local/lib/python3.8/dist-packages (from scikit-learn->nodevectors) (3.1.0)\n",
            "Requirement already satisfied: zipp>=0.5 in /usr/local/lib/python3.8/dist-packages (from importlib-metadata->numba->nodevectors) (3.12.1)\n",
            "Building wheels for collected packages: nodevectors, csrgraph\n",
            "  Building wheel for nodevectors (setup.py) ... \u001b[?25l\u001b[?25hdone\n",
            "  Created wheel for nodevectors: filename=nodevectors-0.1.23-py3-none-any.whl size=17952 sha256=0bf235d8f1087ff908fbbee0fadf23df9b9e221f38308749d5577fec9d06a2cf\n",
            "  Stored in directory: /root/.cache/pip/wheels/fa/f1/fa/9d244fa4cbef616ff3e05f36217702763f8a0c63a15b8bf279\n",
            "  Building wheel for csrgraph (setup.py) ... \u001b[?25l\u001b[?25hdone\n",
            "  Created wheel for csrgraph: filename=csrgraph-0.1.28-py3-none-any.whl size=17633 sha256=7638e6f9e00584673f81f24fd52937f791a763fd5c791e4e13663d65a3deef33\n",
            "  Stored in directory: /root/.cache/pip/wheels/76/63/94/77c09d731a068c6e6fa91f1eca950919b35ffaf0d0b526d901\n",
            "Successfully built nodevectors csrgraph\n",
            "Installing collected packages: csrgraph, nodevectors\n",
            "Successfully installed csrgraph-0.1.28 nodevectors-0.1.23\n",
            "Looking in indexes: https://pypi.org/simple, https://us-python.pkg.dev/colab-wheels/public/simple/\n",
            "Requirement already satisfied: gensim==3.6 in /usr/local/lib/python3.8/dist-packages (3.6.0)\n",
            "Requirement already satisfied: six>=1.5.0 in /usr/local/lib/python3.8/dist-packages (from gensim==3.6) (1.15.0)\n",
            "Requirement already satisfied: scipy>=0.18.1 in /usr/local/lib/python3.8/dist-packages (from gensim==3.6) (1.7.3)\n",
            "Requirement already satisfied: numpy>=1.11.3 in /usr/local/lib/python3.8/dist-packages (from gensim==3.6) (1.21.6)\n",
            "Requirement already satisfied: smart-open>=1.2.1 in /usr/local/lib/python3.8/dist-packages (from gensim==3.6) (6.3.0)\n",
            "Looking in indexes: https://pypi.org/simple, https://us-python.pkg.dev/colab-wheels/public/simple/\n",
            "Collecting networkx==2.4.0\n",
            "  Downloading networkx-2.4-py3-none-any.whl (1.6 MB)\n",
            "\u001b[2K     \u001b[90m━━━━━━━━━━━━━━━━━━━━━━━━━━━━━━━━━━━━━━━━\u001b[0m \u001b[32m1.6/1.6 MB\u001b[0m \u001b[31m19.9 MB/s\u001b[0m eta \u001b[36m0:00:00\u001b[0m\n",
            "\u001b[?25hRequirement already satisfied: decorator>=4.3.0 in /usr/local/lib/python3.8/dist-packages (from networkx==2.4.0) (4.4.2)\n",
            "Installing collected packages: networkx\n",
            "  Attempting uninstall: networkx\n",
            "    Found existing installation: networkx 3.0\n",
            "    Uninstalling networkx-3.0:\n",
            "      Successfully uninstalled networkx-3.0\n",
            "Successfully installed networkx-2.4\n"
          ]
        }
      ]
    },
    {
      "cell_type": "markdown",
      "metadata": {
        "id": "pUCNE4-5Wc8b"
      },
      "source": [
        "We now import the library, and create a small wrapper class which will expose only the few hyperparameters we will need to tune in this Colab"
      ]
    },
    {
      "cell_type": "code",
      "metadata": {
        "id": "QiIPtudrGlTf"
      },
      "source": [
        "from nodevectors import Node2Vec\n",
        "import networkx as nx\n",
        "\n",
        "class Node2Vec(Node2Vec):\n",
        "  \"\"\"\n",
        "  Parameters\n",
        "  ----------\n",
        "  p : float\n",
        "      p parameter of node2vec\n",
        "  q : float\n",
        "      q parameter of node2vec\n",
        "  d : int\n",
        "      dimensionality of the embedding vectors\n",
        "  \"\"\"\n",
        "  def __init__(self, p=1, q=1, d=32):\n",
        "    super().__init__(\n",
        "                     walklen=10,\n",
        "                     epochs=50,\n",
        "                     n_components=d,\n",
        "                     return_weight=1.0/p,\n",
        "                     neighbor_weight=1.0/q,\n",
        "                     threads=0,\n",
        "                     w2vparams={'window': 4,\n",
        "                                'negative': 5, \n",
        "                                'iter': 10,\n",
        "                                'ns_exponent': 0.5,\n",
        "                                'batch_words': 128})"
      ],
      "execution_count": null,
      "outputs": []
    },
    {
      "cell_type": "markdown",
      "metadata": {
        "id": "qwtlO4_m_LbQ"
      },
      "source": [
        "Lastly, let's import some of the common libraries needed for our task."
      ]
    },
    {
      "cell_type": "code",
      "metadata": {
        "id": "twk-K-jilWK7"
      },
      "source": [
        "import pandas as pd\n",
        "import numpy as np\n",
        "import matplotlib.pyplot as plt\n",
        "%matplotlib inline"
      ],
      "execution_count": null,
      "outputs": []
    },
    {
      "cell_type": "markdown",
      "metadata": {
        "id": "kAYRX2PMm0L6"
      },
      "source": [
        "### Example\n",
        "\n",
        "In the example below, we will use Zachary's Karate Club to demonstrate the power of node2vec. "
      ]
    },
    {
      "cell_type": "code",
      "metadata": {
        "id": "2PsVt5f2CsmP",
        "colab": {
          "base_uri": "https://localhost:8080/"
        },
        "outputId": "13abd234-9a23-4cb6-9795-b4486d616215"
      },
      "source": [
        "# Load the Zachary's Karate Club as a NetworkX Graph object\n",
        "KCG = nx.karate_club_graph()\n",
        "\n",
        "# Fit embedding model to the Karate Club graph\n",
        "n2v = Node2Vec(1, 1, 2)\n",
        "n2v.fit(KCG)"
      ],
      "execution_count": null,
      "outputs": [
        {
          "output_type": "stream",
          "name": "stdout",
          "text": [
            "Making walks... "
          ]
        },
        {
          "output_type": "stream",
          "name": "stderr",
          "text": [
            "WARNING:gensim.models.base_any2vec:consider setting layer size to a multiple of 4 for greater performance\n"
          ]
        },
        {
          "output_type": "stream",
          "name": "stdout",
          "text": [
            "Done, T=2.98\n",
            "Mapping Walk Names... Done, T=0.05\n",
            "Training W2V... WARNING: gensim word2vec version is unoptimizedTry version 3.6 if on windows, versions 3.7 and 3.8 have had issues\n",
            "Done, T=0.38\n"
          ]
        }
      ]
    },
    {
      "cell_type": "code",
      "metadata": {
        "id": "ZEjzhwEiC1HD"
      },
      "source": [
        "embeddings = []\n",
        "for node in KCG.nodes:\n",
        "  embedding = list(n2v.predict(node))\n",
        "  club = KCG.nodes[node]['club']\n",
        "  embeddings.append(embedding + [club])\n",
        "\n",
        "# Construct a pandas dataframe with the 2D embeddings from node2vec,\n",
        "# plus the club name that each node belongs to after the split\n",
        "df = pd.DataFrame(embeddings, columns=['x', 'y', 'club'])"
      ],
      "execution_count": null,
      "outputs": []
    },
    {
      "cell_type": "code",
      "metadata": {
        "id": "fJBTilMGLInb",
        "colab": {
          "base_uri": "https://localhost:8080/",
          "height": 296
        },
        "outputId": "9f6aafaf-a4e0-4eb9-91e8-9a47f7035121"
      },
      "source": [
        "# Nodes who stayed with the Mr. Hi will be plotted in red, while nodes\n",
        "# who moved with the Officer will be plotted in blue\n",
        "colors = ['red' if x == 'Mr. Hi' else 'blue' for x in df.club]\n",
        "df.plot.scatter(x='x', y='y', s=50, c=colors)"
      ],
      "execution_count": null,
      "outputs": [
        {
          "output_type": "execute_result",
          "data": {
            "text/plain": [
              "<matplotlib.axes._subplots.AxesSubplot at 0x7faad2a39580>"
            ]
          },
          "metadata": {},
          "execution_count": 6
        },
        {
          "output_type": "display_data",
          "data": {
            "text/plain": [
              "<Figure size 432x288 with 1 Axes>"
            ],
            "image/png": "[encoded data removed]"
          },
          "metadata": {
            "needs_background": "light"
          }
        }
      ]
    },
    {
      "cell_type": "markdown",
      "metadata": {
        "id": "e6vmpmj6Ylph"
      },
      "source": [
        "If our example trained correctly, you should notice a clear separation between the blue and red nodes.  Solely from the graph structure, node2vec could predict how the Zachary's Karate Club split!\n",
        "\n",
        "Tune the hyperparameters ```p``` and ```q```, and notice how they affect the resulting embeddings."
      ]
    },
    {
      "cell_type": "markdown",
      "metadata": {
        "id": "vbmr23B2rJKR"
      },
      "source": [
        "### Your Task"
      ]
    },
    {
      "cell_type": "markdown",
      "metadata": {
        "id": "x15OQeyys1xd"
      },
      "source": [
        "Now we will study the behavior of node2vec on [barbell graphs](https://en.wikipedia.org/wiki/Barbell_graph).\n",
        "\n",
        "Below you can see a toy example of a barbell graph generated with NetworkX ( [nx.barbell_graph](https://networkx.github.io/documentation/stable/reference/generated/networkx.generators.classic.barbell_graph.html#networkx.generators.classic.barbell_graph) )."
      ]
    },
    {
      "cell_type": "code",
      "metadata": {
        "id": "xUYxs4E8aHgG",
        "colab": {
          "base_uri": "https://localhost:8080/",
          "height": 319
        },
        "outputId": "59d2b6ee-98e2-4285-89a4-169d8010e643"
      },
      "source": [
        "toy_barbell = nx.barbell_graph(7, 2)\n",
        "nx.draw_kamada_kawai(toy_barbell)"
      ],
      "execution_count": null,
      "outputs": [
        {
          "output_type": "display_data",
          "data": {
            "text/plain": [
              "<Figure size 432x288 with 1 Axes>"
            ],
            "image/png": "[encoded data removed]"
          },
          "metadata": {}
        }
      ]
    },
    {
      "cell_type": "markdown",
      "metadata": {
        "id": "G7K3-57FyD8D"
      },
      "source": [
        "Above is a barbell graph with a 2 node path inbetween two complete graphs. \n",
        "\n",
        "Generate a larger barbell graph, where each complete graph has exactly 1000 nodes, and there are no nodes in the path inbetween them (i.e., all the nodes in the barbell graph belong to either one of the two complete graphs, and the connecting path does not have any internal node).\n",
        "\n",
        "Then, learn node2vec embeddings on this graph, setting ```p = 1, q = 1``` and ```d = 10```."
      ]
    },
    {
      "cell_type": "markdown",
      "metadata": {
        "id": "RJl8TNhFpeJz"
      },
      "source": []
    },
    {
      "cell_type": "code",
      "metadata": {
        "id": "k_rmp-SvaIOt",
        "colab": {
          "base_uri": "https://localhost:8080/",
          "height": 406
        },
        "outputId": "f33b70d5-aafb-46e8-c6b8-d55f300201e4"
      },
      "source": [
        "# YOUR CODE HERE\n",
        "options = {\n",
        "    'node_color': 'blue',\n",
        "    'node_size': 1000,\n",
        "    'width': 1,\n",
        "    'arrowstyle': '-|>',\n",
        "    'arrowsize': 12,\n",
        "}\n",
        "\n"
      ],
      "execution_count": null,
      "outputs": [
        {
          "output_type": "stream",
          "name": "stdout",
          "text": [
            "Making walks... Done, T=0.12\n",
            "Mapping Walk Names... "
          ]
        },
        {
          "output_type": "stream",
          "name": "stderr",
          "text": [
            "WARNING:gensim.models.base_any2vec:consider setting layer size to a multiple of 4 for greater performance\n"
          ]
        },
        {
          "output_type": "stream",
          "name": "stdout",
          "text": [
            "Done, T=0.51\n",
            "Training W2V... WARNING: gensim word2vec version is unoptimizedTry version 3.6 if on windows, versions 3.7 and 3.8 have had issues\n",
            "Done, T=15.20\n"
          ]
        },
        {
          "output_type": "display_data",
          "data": {
            "text/plain": [
              "<Figure size 432x288 with 1 Axes>"
            ],
            "image/png": "[encoded data removed]"
          },
          "metadata": {}
        }
      ]
    },
    {
      "cell_type": "code",
      "source": [
        "#nx.draw_kamada_kawai(toy_barbell,**options, with_labels = True)\n",
        "large_barbell = nx.barbell_graph(1000, 0)\n",
        "\n",
        "\n",
        "# Setting parameters\n",
        "p = 1\n",
        "q = 1\n",
        "d = 10\n",
        "\n",
        "# Learn node2vec\n",
        "n2v_barbell = Node2Vec(p, q, d)\n",
        "\n",
        "# Fitting data\n",
        "n2v_barbell.fit(large_barbell)"
      ],
      "metadata": {
        "colab": {
          "base_uri": "https://localhost:8080/"
        },
        "id": "wDyaxRjyk4-7",
        "outputId": "9953ac89-20a6-4977-e642-6982ebf2d668"
      },
      "execution_count": null,
      "outputs": [
        {
          "output_type": "stream",
          "name": "stdout",
          "text": [
            "Making walks... Done, T=0.42\n",
            "Mapping Walk Names... "
          ]
        },
        {
          "output_type": "stream",
          "name": "stderr",
          "text": [
            "WARNING:gensim.models.base_any2vec:consider setting layer size to a multiple of 4 for greater performance\n"
          ]
        },
        {
          "output_type": "stream",
          "name": "stdout",
          "text": [
            "Done, T=1.15\n",
            "Training W2V... WARNING: gensim word2vec version is unoptimizedTry version 3.6 if on windows, versions 3.7 and 3.8 have had issues\n",
            "Done, T=41.02\n"
          ]
        }
      ]
    },
    {
      "cell_type": "code",
      "source": [
        "len(large_barbell.edges)"
      ],
      "metadata": {
        "colab": {
          "base_uri": "https://localhost:8080/"
        },
        "id": "cXgIwg0flD-h",
        "outputId": "142d6ea5-d6c4-45ce-85c8-6625b955a492"
      },
      "execution_count": null,
      "outputs": [
        {
          "output_type": "execute_result",
          "data": {
            "text/plain": [
              "999001"
            ]
          },
          "metadata": {},
          "execution_count": 22
        }
      ]
    },
    {
      "cell_type": "code",
      "source": [
        "len(large_barbell.nodes)"
      ],
      "metadata": {
        "id": "wsEoUxTbnNJN"
      },
      "execution_count": null,
      "outputs": []
    },
    {
      "cell_type": "markdown",
      "metadata": {
        "id": "zw1oNDDD2dZO"
      },
      "source": [
        "Generate another barbell graph, this time adding a path of 50 nodes between the two complete graphs.\n",
        "\n",
        "Learn the node2vec embeddings for the nodes of this new graph, using the same hyperparameters as before."
      ]
    },
    {
      "cell_type": "code",
      "source": [
        "#nx.draw_kamada_kawai(toy_barbell,**options, with_labels = True)\n",
        "large_barbell2 = nx.barbell_graph(1000, 50)\n",
        "\n",
        "\n",
        "# Setting parameters\n",
        "p = 1\n",
        "q = 1\n",
        "d = 10\n",
        "\n",
        "# Learn node2vec\n",
        "n2v_barbell2 = Node2Vec(p, q, d)\n",
        "\n",
        "# Fitting data\n",
        "n2v_barbell2.fit(large_barbell2)"
      ],
      "metadata": {
        "colab": {
          "base_uri": "https://localhost:8080/"
        },
        "id": "Z4KyNOeFl6P2",
        "outputId": "383bfa7d-5070-4291-f661-cb9c334c890d"
      },
      "execution_count": null,
      "outputs": [
        {
          "output_type": "stream",
          "name": "stdout",
          "text": [
            "Making walks... Done, T=0.36\n",
            "Mapping Walk Names... "
          ]
        },
        {
          "output_type": "stream",
          "name": "stderr",
          "text": [
            "WARNING:gensim.models.base_any2vec:consider setting layer size to a multiple of 4 for greater performance\n"
          ]
        },
        {
          "output_type": "stream",
          "name": "stdout",
          "text": [
            "Done, T=0.75\n",
            "Training W2V... WARNING: gensim word2vec version is unoptimizedTry version 3.6 if on windows, versions 3.7 and 3.8 have had issues\n",
            "Done, T=43.90\n"
          ]
        }
      ]
    },
    {
      "cell_type": "code",
      "source": [
        "len(large_barbell.edges)"
      ],
      "metadata": {
        "colab": {
          "base_uri": "https://localhost:8080/"
        },
        "id": "sJQyy_hbnQ4t",
        "outputId": "f7e1cf30-e935-42fb-e05b-902b6399907f"
      },
      "execution_count": null,
      "outputs": [
        {
          "output_type": "execute_result",
          "data": {
            "text/plain": [
              "999051"
            ]
          },
          "metadata": {},
          "execution_count": 24
        }
      ]
    },
    {
      "cell_type": "markdown",
      "metadata": {
        "id": "fyxZBVwhzLQe"
      },
      "source": [
        "Now write a function that takes as input a node id ```n``` in the graph (e.g., ```5```) and returns a list containing the cosine similarity between the node2vec vector obtained from `model.predict(...)` of the input node ```n``` and all the nodes in the given barbell graph (including the similarity with ```n``` itself).\n",
        "\n",
        "It may be easier to implement your own `cosine_similarity` function, as using `sklearn`'s `cosine_similarity` function makes assumptions on the shape of the input and requires you to reshape the embeddings before use, which might be a little slow."
      ]
    },
    {
      "cell_type": "code",
      "source": [
        "# YOUR CODE HERE\n",
        "from scipy import spatial\n",
        "from numpy.linalg import norm\n",
        "from numpy import dot\n",
        "\n",
        "def cosine_distance(a, b):\n",
        "    #cosine_distance = float(spatial.distance.cosine(a, b))\n",
        "    cosine_distance = dot(a, b)/(norm(a) * norm(b))\n",
        "    return cosine_distance\n",
        "\n",
        "def similarity(n=5, g=large_barbell, embed=n2v_barbell):\n",
        "  result = []\n",
        "  a= embed.predict(n)\n",
        "  for node in g.nodes:\n",
        "    b = embed.predict(node)\n",
        "    result.append(cosine_distance(a, b))\n",
        "  return len([i for i in result if i > 0.8])\n",
        "     "
      ],
      "metadata": {
        "id": "ST-y3aN9oHzA"
      },
      "execution_count": null,
      "outputs": []
    },
    {
      "cell_type": "code",
      "source": [
        "cosine_distance(1,1)"
      ],
      "metadata": {
        "colab": {
          "base_uri": "https://localhost:8080/"
        },
        "id": "9te80Uayt_y8",
        "outputId": "db1db92f-8d0d-4a66-9bb9-f842fb3c4553"
      },
      "execution_count": null,
      "outputs": [
        {
          "output_type": "execute_result",
          "data": {
            "text/plain": [
              "1.0"
            ]
          },
          "metadata": {},
          "execution_count": 58
        }
      ]
    },
    {
      "cell_type": "code",
      "source": [
        "dic = {}\n",
        "for i in range(2000):\n",
        "  dic[i] = similarity(n = i)\n",
        "  "
      ],
      "metadata": {
        "id": "PAVVplG7paQo"
      },
      "execution_count": null,
      "outputs": []
    },
    {
      "cell_type": "code",
      "source": [
        "sum(1 for v in dic.values() if v == 1000)"
      ],
      "metadata": {
        "colab": {
          "base_uri": "https://localhost:8080/"
        },
        "id": "ulEw0nv5r8yk",
        "outputId": "0dd7767e-fa27-4d7d-9cbb-89b5c6f66fbe"
      },
      "execution_count": null,
      "outputs": [
        {
          "output_type": "execute_result",
          "data": {
            "text/plain": [
              "2000"
            ]
          },
          "metadata": {},
          "execution_count": 39
        }
      ]
    },
    {
      "cell_type": "code",
      "source": [
        "dic1 = {}\n",
        "for i in range(2000):\n",
        "  dic1[i] = similarity(n = i, g=large_barbell2, embed=n2v_barbell2)"
      ],
      "metadata": {
        "id": "SN_PYe42sLgi"
      },
      "execution_count": null,
      "outputs": []
    },
    {
      "cell_type": "code",
      "source": [
        "sum(1 for v in dic1.values() if v >= 1000)"
      ],
      "metadata": {
        "colab": {
          "base_uri": "https://localhost:8080/"
        },
        "id": "mAlyoLY3tF5o",
        "outputId": "5e51c305-1773-4287-f20b-6e76c2097885"
      },
      "execution_count": null,
      "outputs": [
        {
          "output_type": "execute_result",
          "data": {
            "text/plain": [
              "1947"
            ]
          },
          "metadata": {},
          "execution_count": 43
        }
      ]
    },
    {
      "cell_type": "code",
      "source": [
        "sum(1 for v in dic1.values() if v == 1000)"
      ],
      "metadata": {
        "colab": {
          "base_uri": "https://localhost:8080/"
        },
        "id": "o6F4-IrftBgx",
        "outputId": "10071ff3-ffdc-4b5f-a2a1-c2919fe5401c"
      },
      "execution_count": null,
      "outputs": [
        {
          "output_type": "execute_result",
          "data": {
            "text/plain": [
              "0"
            ]
          },
          "metadata": {},
          "execution_count": 62
        }
      ]
    },
    {
      "cell_type": "code",
      "source": [
        "dic1"
      ],
      "metadata": {
        "colab": {
          "base_uri": "https://localhost:8080/"
        },
        "id": "2otEN4lCtTco",
        "outputId": "2f509041-7cd5-4f3b-c815-dfeeb9f23112"
      },
      "execution_count": null,
      "outputs": [
        {
          "output_type": "execute_result",
          "data": {
            "text/plain": [
              "{0: 999,\n",
              " 1: 999,\n",
              " 2: 999,\n",
              " 3: 999,\n",
              " 4: 999,\n",
              " 5: 999,\n",
              " 6: 999,\n",
              " 7: 999,\n",
              " 8: 999,\n",
              " 9: 999,\n",
              " 10: 999,\n",
              " 11: 999,\n",
              " 12: 999,\n",
              " 13: 999,\n",
              " 14: 999,\n",
              " 15: 999,\n",
              " 16: 999,\n",
              " 17: 999,\n",
              " 18: 999,\n",
              " 19: 999,\n",
              " 20: 999,\n",
              " 21: 999,\n",
              " 22: 999,\n",
              " 23: 999,\n",
              " 24: 999,\n",
              " 25: 999,\n",
              " 26: 999,\n",
              " 27: 999,\n",
              " 28: 999,\n",
              " 29: 999,\n",
              " 30: 999,\n",
              " 31: 999,\n",
              " 32: 999,\n",
              " 33: 999,\n",
              " 34: 999,\n",
              " 35: 999,\n",
              " 36: 999,\n",
              " 37: 999,\n",
              " 38: 999,\n",
              " 39: 999,\n",
              " 40: 999,\n",
              " 41: 999,\n",
              " 42: 997,\n",
              " 43: 999,\n",
              " 44: 999,\n",
              " 45: 999,\n",
              " 46: 999,\n",
              " 47: 999,\n",
              " 48: 999,\n",
              " 49: 999,\n",
              " 50: 999,\n",
              " 51: 999,\n",
              " 52: 999,\n",
              " 53: 999,\n",
              " 54: 999,\n",
              " 55: 999,\n",
              " 56: 999,\n",
              " 57: 999,\n",
              " 58: 999,\n",
              " 59: 999,\n",
              " 60: 999,\n",
              " 61: 999,\n",
              " 62: 999,\n",
              " 63: 999,\n",
              " 64: 999,\n",
              " 65: 999,\n",
              " 66: 999,\n",
              " 67: 999,\n",
              " 68: 999,\n",
              " 69: 999,\n",
              " 70: 999,\n",
              " 71: 999,\n",
              " 72: 999,\n",
              " 73: 999,\n",
              " 74: 999,\n",
              " 75: 999,\n",
              " 76: 999,\n",
              " 77: 999,\n",
              " 78: 999,\n",
              " 79: 999,\n",
              " 80: 999,\n",
              " 81: 999,\n",
              " 82: 999,\n",
              " 83: 999,\n",
              " 84: 999,\n",
              " 85: 999,\n",
              " 86: 999,\n",
              " 87: 999,\n",
              " 88: 999,\n",
              " 89: 999,\n",
              " 90: 999,\n",
              " 91: 999,\n",
              " 92: 999,\n",
              " 93: 999,\n",
              " 94: 999,\n",
              " 95: 999,\n",
              " 96: 999,\n",
              " 97: 999,\n",
              " 98: 999,\n",
              " 99: 999,\n",
              " 100: 999,\n",
              " 101: 999,\n",
              " 102: 999,\n",
              " 103: 999,\n",
              " 104: 999,\n",
              " 105: 999,\n",
              " 106: 999,\n",
              " 107: 999,\n",
              " 108: 999,\n",
              " 109: 999,\n",
              " 110: 999,\n",
              " 111: 999,\n",
              " 112: 999,\n",
              " 113: 999,\n",
              " 114: 999,\n",
              " 115: 999,\n",
              " 116: 999,\n",
              " 117: 999,\n",
              " 118: 999,\n",
              " 119: 999,\n",
              " 120: 999,\n",
              " 121: 999,\n",
              " 122: 999,\n",
              " 123: 999,\n",
              " 124: 999,\n",
              " 125: 999,\n",
              " 126: 999,\n",
              " 127: 999,\n",
              " 128: 999,\n",
              " 129: 999,\n",
              " 130: 999,\n",
              " 131: 999,\n",
              " 132: 999,\n",
              " 133: 999,\n",
              " 134: 999,\n",
              " 135: 999,\n",
              " 136: 999,\n",
              " 137: 999,\n",
              " 138: 999,\n",
              " 139: 999,\n",
              " 140: 999,\n",
              " 141: 999,\n",
              " 142: 999,\n",
              " 143: 999,\n",
              " 144: 999,\n",
              " 145: 999,\n",
              " 146: 999,\n",
              " 147: 999,\n",
              " 148: 999,\n",
              " 149: 999,\n",
              " 150: 999,\n",
              " 151: 999,\n",
              " 152: 999,\n",
              " 153: 999,\n",
              " 154: 999,\n",
              " 155: 999,\n",
              " 156: 999,\n",
              " 157: 999,\n",
              " 158: 999,\n",
              " 159: 999,\n",
              " 160: 999,\n",
              " 161: 999,\n",
              " 162: 999,\n",
              " 163: 999,\n",
              " 164: 999,\n",
              " 165: 999,\n",
              " 166: 999,\n",
              " 167: 999,\n",
              " 168: 999,\n",
              " 169: 999,\n",
              " 170: 999,\n",
              " 171: 999,\n",
              " 172: 999,\n",
              " 173: 999,\n",
              " 174: 999,\n",
              " 175: 999,\n",
              " 176: 999,\n",
              " 177: 999,\n",
              " 178: 999,\n",
              " 179: 999,\n",
              " 180: 999,\n",
              " 181: 999,\n",
              " 182: 999,\n",
              " 183: 999,\n",
              " 184: 999,\n",
              " 185: 999,\n",
              " 186: 999,\n",
              " 187: 999,\n",
              " 188: 999,\n",
              " 189: 999,\n",
              " 190: 999,\n",
              " 191: 999,\n",
              " 192: 999,\n",
              " 193: 999,\n",
              " 194: 999,\n",
              " 195: 999,\n",
              " 196: 999,\n",
              " 197: 999,\n",
              " 198: 999,\n",
              " 199: 999,\n",
              " 200: 999,\n",
              " 201: 999,\n",
              " 202: 999,\n",
              " 203: 999,\n",
              " 204: 999,\n",
              " 205: 999,\n",
              " 206: 999,\n",
              " 207: 999,\n",
              " 208: 999,\n",
              " 209: 999,\n",
              " 210: 999,\n",
              " 211: 999,\n",
              " 212: 999,\n",
              " 213: 999,\n",
              " 214: 999,\n",
              " 215: 999,\n",
              " 216: 999,\n",
              " 217: 999,\n",
              " 218: 999,\n",
              " 219: 999,\n",
              " 220: 999,\n",
              " 221: 999,\n",
              " 222: 999,\n",
              " 223: 999,\n",
              " 224: 999,\n",
              " 225: 999,\n",
              " 226: 999,\n",
              " 227: 999,\n",
              " 228: 999,\n",
              " 229: 999,\n",
              " 230: 999,\n",
              " 231: 999,\n",
              " 232: 999,\n",
              " 233: 999,\n",
              " 234: 999,\n",
              " 235: 999,\n",
              " 236: 999,\n",
              " 237: 999,\n",
              " 238: 999,\n",
              " 239: 999,\n",
              " 240: 999,\n",
              " 241: 999,\n",
              " 242: 999,\n",
              " 243: 999,\n",
              " 244: 999,\n",
              " 245: 999,\n",
              " 246: 999,\n",
              " 247: 999,\n",
              " 248: 999,\n",
              " 249: 999,\n",
              " 250: 999,\n",
              " 251: 999,\n",
              " 252: 999,\n",
              " 253: 999,\n",
              " 254: 999,\n",
              " 255: 999,\n",
              " 256: 999,\n",
              " 257: 999,\n",
              " 258: 999,\n",
              " 259: 999,\n",
              " 260: 999,\n",
              " 261: 999,\n",
              " 262: 999,\n",
              " 263: 999,\n",
              " 264: 999,\n",
              " 265: 999,\n",
              " 266: 999,\n",
              " 267: 999,\n",
              " 268: 999,\n",
              " 269: 999,\n",
              " 270: 999,\n",
              " 271: 999,\n",
              " 272: 999,\n",
              " 273: 999,\n",
              " 274: 999,\n",
              " 275: 999,\n",
              " 276: 999,\n",
              " 277: 999,\n",
              " 278: 999,\n",
              " 279: 999,\n",
              " 280: 999,\n",
              " 281: 999,\n",
              " 282: 999,\n",
              " 283: 999,\n",
              " 284: 999,\n",
              " 285: 999,\n",
              " 286: 999,\n",
              " 287: 999,\n",
              " 288: 999,\n",
              " 289: 999,\n",
              " 290: 999,\n",
              " 291: 999,\n",
              " 292: 999,\n",
              " 293: 999,\n",
              " 294: 999,\n",
              " 295: 999,\n",
              " 296: 999,\n",
              " 297: 999,\n",
              " 298: 999,\n",
              " 299: 999,\n",
              " 300: 999,\n",
              " 301: 999,\n",
              " 302: 999,\n",
              " 303: 999,\n",
              " 304: 999,\n",
              " 305: 999,\n",
              " 306: 999,\n",
              " 307: 999,\n",
              " 308: 999,\n",
              " 309: 999,\n",
              " 310: 999,\n",
              " 311: 999,\n",
              " 312: 999,\n",
              " 313: 999,\n",
              " 314: 999,\n",
              " 315: 999,\n",
              " 316: 999,\n",
              " 317: 999,\n",
              " 318: 999,\n",
              " 319: 999,\n",
              " 320: 999,\n",
              " 321: 999,\n",
              " 322: 999,\n",
              " 323: 999,\n",
              " 324: 999,\n",
              " 325: 999,\n",
              " 326: 999,\n",
              " 327: 999,\n",
              " 328: 999,\n",
              " 329: 999,\n",
              " 330: 999,\n",
              " 331: 999,\n",
              " 332: 999,\n",
              " 333: 999,\n",
              " 334: 999,\n",
              " 335: 999,\n",
              " 336: 999,\n",
              " 337: 999,\n",
              " 338: 999,\n",
              " 339: 999,\n",
              " 340: 999,\n",
              " 341: 999,\n",
              " 342: 999,\n",
              " 343: 999,\n",
              " 344: 999,\n",
              " 345: 999,\n",
              " 346: 999,\n",
              " 347: 999,\n",
              " 348: 999,\n",
              " 349: 999,\n",
              " 350: 999,\n",
              " 351: 999,\n",
              " 352: 999,\n",
              " 353: 999,\n",
              " 354: 999,\n",
              " 355: 999,\n",
              " 356: 999,\n",
              " 357: 999,\n",
              " 358: 999,\n",
              " 359: 999,\n",
              " 360: 999,\n",
              " 361: 999,\n",
              " 362: 999,\n",
              " 363: 999,\n",
              " 364: 999,\n",
              " 365: 999,\n",
              " 366: 999,\n",
              " 367: 999,\n",
              " 368: 999,\n",
              " 369: 999,\n",
              " 370: 999,\n",
              " 371: 999,\n",
              " 372: 999,\n",
              " 373: 999,\n",
              " 374: 999,\n",
              " 375: 999,\n",
              " 376: 999,\n",
              " 377: 999,\n",
              " 378: 999,\n",
              " 379: 999,\n",
              " 380: 999,\n",
              " 381: 999,\n",
              " 382: 999,\n",
              " 383: 999,\n",
              " 384: 999,\n",
              " 385: 999,\n",
              " 386: 999,\n",
              " 387: 999,\n",
              " 388: 999,\n",
              " 389: 999,\n",
              " 390: 999,\n",
              " 391: 999,\n",
              " 392: 999,\n",
              " 393: 999,\n",
              " 394: 999,\n",
              " 395: 999,\n",
              " 396: 999,\n",
              " 397: 999,\n",
              " 398: 999,\n",
              " 399: 999,\n",
              " 400: 999,\n",
              " 401: 999,\n",
              " 402: 999,\n",
              " 403: 999,\n",
              " 404: 999,\n",
              " 405: 999,\n",
              " 406: 999,\n",
              " 407: 999,\n",
              " 408: 999,\n",
              " 409: 999,\n",
              " 410: 999,\n",
              " 411: 999,\n",
              " 412: 999,\n",
              " 413: 999,\n",
              " 414: 999,\n",
              " 415: 999,\n",
              " 416: 999,\n",
              " 417: 999,\n",
              " 418: 999,\n",
              " 419: 999,\n",
              " 420: 999,\n",
              " 421: 999,\n",
              " 422: 999,\n",
              " 423: 999,\n",
              " 424: 999,\n",
              " 425: 999,\n",
              " 426: 999,\n",
              " 427: 999,\n",
              " 428: 999,\n",
              " 429: 999,\n",
              " 430: 999,\n",
              " 431: 999,\n",
              " 432: 999,\n",
              " 433: 999,\n",
              " 434: 999,\n",
              " 435: 999,\n",
              " 436: 999,\n",
              " 437: 999,\n",
              " 438: 999,\n",
              " 439: 999,\n",
              " 440: 999,\n",
              " 441: 999,\n",
              " 442: 999,\n",
              " 443: 999,\n",
              " 444: 999,\n",
              " 445: 999,\n",
              " 446: 999,\n",
              " 447: 999,\n",
              " 448: 999,\n",
              " 449: 999,\n",
              " 450: 999,\n",
              " 451: 999,\n",
              " 452: 999,\n",
              " 453: 999,\n",
              " 454: 999,\n",
              " 455: 999,\n",
              " 456: 999,\n",
              " 457: 999,\n",
              " 458: 999,\n",
              " 459: 999,\n",
              " 460: 999,\n",
              " 461: 999,\n",
              " 462: 999,\n",
              " 463: 999,\n",
              " 464: 999,\n",
              " 465: 999,\n",
              " 466: 999,\n",
              " 467: 999,\n",
              " 468: 999,\n",
              " 469: 999,\n",
              " 470: 999,\n",
              " 471: 999,\n",
              " 472: 999,\n",
              " 473: 999,\n",
              " 474: 999,\n",
              " 475: 999,\n",
              " 476: 999,\n",
              " 477: 999,\n",
              " 478: 999,\n",
              " 479: 999,\n",
              " 480: 999,\n",
              " 481: 999,\n",
              " 482: 999,\n",
              " 483: 999,\n",
              " 484: 999,\n",
              " 485: 999,\n",
              " 486: 999,\n",
              " 487: 999,\n",
              " 488: 999,\n",
              " 489: 999,\n",
              " 490: 998,\n",
              " 491: 999,\n",
              " 492: 999,\n",
              " 493: 999,\n",
              " 494: 999,\n",
              " 495: 999,\n",
              " 496: 999,\n",
              " 497: 999,\n",
              " 498: 999,\n",
              " 499: 999,\n",
              " 500: 999,\n",
              " 501: 999,\n",
              " 502: 999,\n",
              " 503: 999,\n",
              " 504: 999,\n",
              " 505: 999,\n",
              " 506: 999,\n",
              " 507: 999,\n",
              " 508: 999,\n",
              " 509: 999,\n",
              " 510: 999,\n",
              " 511: 999,\n",
              " 512: 999,\n",
              " 513: 999,\n",
              " 514: 999,\n",
              " 515: 999,\n",
              " 516: 999,\n",
              " 517: 999,\n",
              " 518: 999,\n",
              " 519: 999,\n",
              " 520: 999,\n",
              " 521: 999,\n",
              " 522: 999,\n",
              " 523: 999,\n",
              " 524: 999,\n",
              " 525: 999,\n",
              " 526: 999,\n",
              " 527: 999,\n",
              " 528: 999,\n",
              " 529: 999,\n",
              " 530: 999,\n",
              " 531: 999,\n",
              " 532: 999,\n",
              " 533: 999,\n",
              " 534: 999,\n",
              " 535: 999,\n",
              " 536: 999,\n",
              " 537: 999,\n",
              " 538: 998,\n",
              " 539: 999,\n",
              " 540: 999,\n",
              " 541: 999,\n",
              " 542: 999,\n",
              " 543: 999,\n",
              " 544: 999,\n",
              " 545: 999,\n",
              " 546: 999,\n",
              " 547: 999,\n",
              " 548: 999,\n",
              " 549: 999,\n",
              " 550: 999,\n",
              " 551: 999,\n",
              " 552: 999,\n",
              " 553: 997,\n",
              " 554: 999,\n",
              " 555: 999,\n",
              " 556: 999,\n",
              " 557: 999,\n",
              " 558: 999,\n",
              " 559: 999,\n",
              " 560: 999,\n",
              " 561: 999,\n",
              " 562: 999,\n",
              " 563: 999,\n",
              " 564: 999,\n",
              " 565: 999,\n",
              " 566: 999,\n",
              " 567: 999,\n",
              " 568: 999,\n",
              " 569: 999,\n",
              " 570: 999,\n",
              " 571: 999,\n",
              " 572: 999,\n",
              " 573: 999,\n",
              " 574: 999,\n",
              " 575: 999,\n",
              " 576: 999,\n",
              " 577: 999,\n",
              " 578: 999,\n",
              " 579: 999,\n",
              " 580: 999,\n",
              " 581: 999,\n",
              " 582: 999,\n",
              " 583: 999,\n",
              " 584: 999,\n",
              " 585: 999,\n",
              " 586: 999,\n",
              " 587: 999,\n",
              " 588: 999,\n",
              " 589: 999,\n",
              " 590: 999,\n",
              " 591: 999,\n",
              " 592: 999,\n",
              " 593: 999,\n",
              " 594: 999,\n",
              " 595: 999,\n",
              " 596: 999,\n",
              " 597: 999,\n",
              " 598: 999,\n",
              " 599: 999,\n",
              " 600: 999,\n",
              " 601: 999,\n",
              " 602: 999,\n",
              " 603: 999,\n",
              " 604: 999,\n",
              " 605: 999,\n",
              " 606: 999,\n",
              " 607: 999,\n",
              " 608: 999,\n",
              " 609: 999,\n",
              " 610: 999,\n",
              " 611: 999,\n",
              " 612: 999,\n",
              " 613: 999,\n",
              " 614: 999,\n",
              " 615: 999,\n",
              " 616: 999,\n",
              " 617: 999,\n",
              " 618: 999,\n",
              " 619: 999,\n",
              " 620: 999,\n",
              " 621: 999,\n",
              " 622: 999,\n",
              " 623: 999,\n",
              " 624: 999,\n",
              " 625: 999,\n",
              " 626: 999,\n",
              " 627: 999,\n",
              " 628: 999,\n",
              " 629: 999,\n",
              " 630: 999,\n",
              " 631: 999,\n",
              " 632: 999,\n",
              " 633: 999,\n",
              " 634: 999,\n",
              " 635: 999,\n",
              " 636: 999,\n",
              " 637: 999,\n",
              " 638: 999,\n",
              " 639: 999,\n",
              " 640: 999,\n",
              " 641: 999,\n",
              " 642: 999,\n",
              " 643: 999,\n",
              " 644: 999,\n",
              " 645: 999,\n",
              " 646: 999,\n",
              " 647: 999,\n",
              " 648: 999,\n",
              " 649: 999,\n",
              " 650: 999,\n",
              " 651: 999,\n",
              " 652: 999,\n",
              " 653: 999,\n",
              " 654: 999,\n",
              " 655: 999,\n",
              " 656: 999,\n",
              " 657: 999,\n",
              " 658: 999,\n",
              " 659: 999,\n",
              " 660: 999,\n",
              " 661: 999,\n",
              " 662: 999,\n",
              " 663: 999,\n",
              " 664: 999,\n",
              " 665: 999,\n",
              " 666: 999,\n",
              " 667: 999,\n",
              " 668: 999,\n",
              " 669: 999,\n",
              " 670: 999,\n",
              " 671: 999,\n",
              " 672: 999,\n",
              " 673: 999,\n",
              " 674: 999,\n",
              " 675: 999,\n",
              " 676: 999,\n",
              " 677: 999,\n",
              " 678: 999,\n",
              " 679: 999,\n",
              " 680: 999,\n",
              " 681: 999,\n",
              " 682: 999,\n",
              " 683: 999,\n",
              " 684: 999,\n",
              " 685: 999,\n",
              " 686: 999,\n",
              " 687: 999,\n",
              " 688: 999,\n",
              " 689: 999,\n",
              " 690: 999,\n",
              " 691: 999,\n",
              " 692: 999,\n",
              " 693: 999,\n",
              " 694: 999,\n",
              " 695: 999,\n",
              " 696: 999,\n",
              " 697: 999,\n",
              " 698: 999,\n",
              " 699: 999,\n",
              " 700: 999,\n",
              " 701: 999,\n",
              " 702: 999,\n",
              " 703: 999,\n",
              " 704: 998,\n",
              " 705: 999,\n",
              " 706: 999,\n",
              " 707: 999,\n",
              " 708: 999,\n",
              " 709: 999,\n",
              " 710: 999,\n",
              " 711: 999,\n",
              " 712: 999,\n",
              " 713: 999,\n",
              " 714: 999,\n",
              " 715: 999,\n",
              " 716: 999,\n",
              " 717: 999,\n",
              " 718: 999,\n",
              " 719: 999,\n",
              " 720: 999,\n",
              " 721: 999,\n",
              " 722: 999,\n",
              " 723: 999,\n",
              " 724: 999,\n",
              " 725: 999,\n",
              " 726: 999,\n",
              " 727: 999,\n",
              " 728: 999,\n",
              " 729: 999,\n",
              " 730: 999,\n",
              " 731: 999,\n",
              " 732: 999,\n",
              " 733: 999,\n",
              " 734: 999,\n",
              " 735: 999,\n",
              " 736: 999,\n",
              " 737: 999,\n",
              " 738: 999,\n",
              " 739: 999,\n",
              " 740: 999,\n",
              " 741: 999,\n",
              " 742: 999,\n",
              " 743: 999,\n",
              " 744: 999,\n",
              " 745: 999,\n",
              " 746: 999,\n",
              " 747: 999,\n",
              " 748: 999,\n",
              " 749: 999,\n",
              " 750: 999,\n",
              " 751: 999,\n",
              " 752: 999,\n",
              " 753: 999,\n",
              " 754: 999,\n",
              " 755: 999,\n",
              " 756: 999,\n",
              " 757: 999,\n",
              " 758: 999,\n",
              " 759: 999,\n",
              " 760: 999,\n",
              " 761: 999,\n",
              " 762: 999,\n",
              " 763: 999,\n",
              " 764: 999,\n",
              " 765: 999,\n",
              " 766: 999,\n",
              " 767: 999,\n",
              " 768: 999,\n",
              " 769: 999,\n",
              " 770: 999,\n",
              " 771: 999,\n",
              " 772: 999,\n",
              " 773: 999,\n",
              " 774: 999,\n",
              " 775: 999,\n",
              " 776: 999,\n",
              " 777: 999,\n",
              " 778: 999,\n",
              " 779: 999,\n",
              " 780: 999,\n",
              " 781: 999,\n",
              " 782: 999,\n",
              " 783: 996,\n",
              " 784: 999,\n",
              " 785: 999,\n",
              " 786: 999,\n",
              " 787: 999,\n",
              " 788: 999,\n",
              " 789: 999,\n",
              " 790: 999,\n",
              " 791: 999,\n",
              " 792: 999,\n",
              " 793: 999,\n",
              " 794: 999,\n",
              " 795: 999,\n",
              " 796: 999,\n",
              " 797: 999,\n",
              " 798: 999,\n",
              " 799: 999,\n",
              " 800: 999,\n",
              " 801: 999,\n",
              " 802: 999,\n",
              " 803: 999,\n",
              " 804: 999,\n",
              " 805: 999,\n",
              " 806: 999,\n",
              " 807: 999,\n",
              " 808: 999,\n",
              " 809: 999,\n",
              " 810: 999,\n",
              " 811: 999,\n",
              " 812: 999,\n",
              " 813: 999,\n",
              " 814: 999,\n",
              " 815: 999,\n",
              " 816: 999,\n",
              " 817: 999,\n",
              " 818: 999,\n",
              " 819: 999,\n",
              " 820: 999,\n",
              " 821: 999,\n",
              " 822: 999,\n",
              " 823: 999,\n",
              " 824: 999,\n",
              " 825: 999,\n",
              " 826: 999,\n",
              " 827: 999,\n",
              " 828: 999,\n",
              " 829: 999,\n",
              " 830: 999,\n",
              " 831: 999,\n",
              " 832: 999,\n",
              " 833: 999,\n",
              " 834: 999,\n",
              " 835: 999,\n",
              " 836: 999,\n",
              " 837: 999,\n",
              " 838: 999,\n",
              " 839: 999,\n",
              " 840: 999,\n",
              " 841: 999,\n",
              " 842: 999,\n",
              " 843: 999,\n",
              " 844: 999,\n",
              " 845: 999,\n",
              " 846: 999,\n",
              " 847: 999,\n",
              " 848: 999,\n",
              " 849: 999,\n",
              " 850: 999,\n",
              " 851: 999,\n",
              " 852: 999,\n",
              " 853: 999,\n",
              " 854: 999,\n",
              " 855: 999,\n",
              " 856: 999,\n",
              " 857: 999,\n",
              " 858: 999,\n",
              " 859: 999,\n",
              " 860: 999,\n",
              " 861: 999,\n",
              " 862: 999,\n",
              " 863: 999,\n",
              " 864: 999,\n",
              " 865: 999,\n",
              " 866: 999,\n",
              " 867: 999,\n",
              " 868: 999,\n",
              " 869: 999,\n",
              " 870: 999,\n",
              " 871: 999,\n",
              " 872: 999,\n",
              " 873: 999,\n",
              " 874: 999,\n",
              " 875: 999,\n",
              " 876: 999,\n",
              " 877: 999,\n",
              " 878: 999,\n",
              " 879: 999,\n",
              " 880: 999,\n",
              " 881: 999,\n",
              " 882: 999,\n",
              " 883: 999,\n",
              " 884: 999,\n",
              " 885: 999,\n",
              " 886: 999,\n",
              " 887: 999,\n",
              " 888: 999,\n",
              " 889: 999,\n",
              " 890: 999,\n",
              " 891: 999,\n",
              " 892: 999,\n",
              " 893: 999,\n",
              " 894: 999,\n",
              " 895: 999,\n",
              " 896: 999,\n",
              " 897: 999,\n",
              " 898: 999,\n",
              " 899: 999,\n",
              " 900: 999,\n",
              " 901: 999,\n",
              " 902: 999,\n",
              " 903: 999,\n",
              " 904: 999,\n",
              " 905: 999,\n",
              " 906: 999,\n",
              " 907: 999,\n",
              " 908: 999,\n",
              " 909: 999,\n",
              " 910: 999,\n",
              " 911: 999,\n",
              " 912: 999,\n",
              " 913: 999,\n",
              " 914: 999,\n",
              " 915: 999,\n",
              " 916: 999,\n",
              " 917: 999,\n",
              " 918: 999,\n",
              " 919: 999,\n",
              " 920: 999,\n",
              " 921: 999,\n",
              " 922: 999,\n",
              " 923: 999,\n",
              " 924: 999,\n",
              " 925: 999,\n",
              " 926: 999,\n",
              " 927: 999,\n",
              " 928: 999,\n",
              " 929: 999,\n",
              " 930: 999,\n",
              " 931: 999,\n",
              " 932: 999,\n",
              " 933: 999,\n",
              " 934: 999,\n",
              " 935: 999,\n",
              " 936: 999,\n",
              " 937: 999,\n",
              " 938: 999,\n",
              " 939: 999,\n",
              " 940: 999,\n",
              " 941: 999,\n",
              " 942: 999,\n",
              " 943: 999,\n",
              " 944: 999,\n",
              " 945: 999,\n",
              " 946: 999,\n",
              " 947: 999,\n",
              " 948: 999,\n",
              " 949: 999,\n",
              " 950: 999,\n",
              " 951: 999,\n",
              " 952: 999,\n",
              " 953: 999,\n",
              " 954: 999,\n",
              " 955: 999,\n",
              " 956: 999,\n",
              " 957: 999,\n",
              " 958: 999,\n",
              " 959: 999,\n",
              " 960: 999,\n",
              " 961: 999,\n",
              " 962: 999,\n",
              " 963: 999,\n",
              " 964: 999,\n",
              " 965: 999,\n",
              " 966: 999,\n",
              " 967: 999,\n",
              " 968: 999,\n",
              " 969: 999,\n",
              " 970: 999,\n",
              " 971: 999,\n",
              " 972: 999,\n",
              " 973: 999,\n",
              " 974: 999,\n",
              " 975: 999,\n",
              " 976: 999,\n",
              " 977: 999,\n",
              " 978: 999,\n",
              " 979: 999,\n",
              " 980: 999,\n",
              " 981: 999,\n",
              " 982: 999,\n",
              " 983: 999,\n",
              " 984: 999,\n",
              " 985: 999,\n",
              " 986: 999,\n",
              " 987: 999,\n",
              " 988: 999,\n",
              " 989: 999,\n",
              " 990: 999,\n",
              " 991: 999,\n",
              " 992: 999,\n",
              " 993: 999,\n",
              " 994: 999,\n",
              " 995: 999,\n",
              " 996: 999,\n",
              " 997: 999,\n",
              " 998: 999,\n",
              " 999: 6,\n",
              " ...}"
            ]
          },
          "metadata": {},
          "execution_count": 63
        }
      ]
    },
    {
      "cell_type": "markdown",
      "metadata": {
        "id": "MsyPjb1A3tQa"
      },
      "source": [
        "For each of the graphs you generated earlier (0 Node Path, 50 Node Path), find how many nodes have exactly 1000 neighbors and how many nodes have less than 100 neighbors.\n",
        "\n",
        "Two nodes are defined as neighbors if their cosine similarity is greater than 0.8."
      ]
    },
    {
      "cell_type": "code",
      "metadata": {
        "id": "AJyAdnUY3sZv"
      },
      "source": [
        "# YOUR CARE HERE\n"
      ],
      "execution_count": null,
      "outputs": []
    },
    {
      "cell_type": "markdown",
      "metadata": {
        "id": "SIrXJyVNP2AI"
      },
      "source": [
        "Once you have working code for each cell above, **head over to Gradescope, read carefully the questions, and submit your solution for this Colab**!\n"
      ]
    }
  ]
}